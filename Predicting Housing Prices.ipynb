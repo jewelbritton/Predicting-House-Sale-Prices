{
 "cells": [
  {
   "cell_type": "markdown",
   "metadata": {},
   "source": [
    "# Regression and Classification Models to Predict Sale Price\n",
    "\n",
    "---\n",
    "\n",
    "This project was completed with a \"full stack\" real estate company in mind. This imaginary company would want to own the entire process of buying and selling homes - from buying the land to selling the home and everything in between, and utilise data science to make better investments. \n",
    "\n",
    "This project uses the [Ames housing data recently made available on kaggle](https://www.kaggle.com/c/house-prices-advanced-regression-techniques)."
   ]
  },
  {
   "cell_type": "code",
   "execution_count": 106,
   "metadata": {
    "ExecuteTime": {
     "end_time": "2020-05-31T13:37:39.098246Z",
     "start_time": "2020-05-31T13:37:39.072943Z"
    }
   },
   "outputs": [],
   "source": [
    "import numpy as np\n",
    "import scipy.stats as stats\n",
    "import seaborn as sns\n",
    "import matplotlib.pyplot as plt\n",
    "import pandas as pd\n",
    "from sklearn.model_selection import train_test_split, cross_val_score, cross_val_predict, KFold, GridSearchCV\n",
    "from sklearn.datasets import load_diabetes\n",
    "from sklearn.linear_model import LinearRegression, RidgeCV, LassoCV, Ridge, Lasso, ElasticNetCV, LogisticRegression\n",
    "from sklearn.metrics import r2_score, mean_squared_error\n",
    "from sklearn.preprocessing import StandardScaler\n",
    "from sklearn.preprocessing import PolynomialFeatures\n",
    "\n",
    "plt.style.use('ggplot')\n",
    "\n",
    "%config InlineBackend.figure_format = 'retina'\n",
    "%matplotlib inline"
   ]
  },
  {
   "cell_type": "markdown",
   "metadata": {},
   "source": [
    "# 1. Estimating the value of homes from fixed characteristics.\n",
    "\n",
    "---\n",
    "\n",
    "1. Develop an algorithm to reliably estimate the value of residential houses based on *fixed* characteristics.\n",
    "2. Identify characteristics of houses that the company can cost-effectively change/renovate with their construction team.\n",
    "3. Evaluate the mean dollar value of different renovations.\n",
    "\n",
    "This way, the company can use this information to buy houses that are likely to sell for more than the cost of the purchase plus renovations.\n",
    "\n",
    "The best model was found by taking the log of price values (y value) and using an Elastic Net CV model. When using pre-2010 sales data to predict 2010 sales prices based only on fixed characteristic of the house, the model was 89.6% accurate. The most important features for predicting a house's sale price were Ground Floor Size, Number of Cars that fit in the Garage, the Year a Remodel or Addition was added, Number of fireplaces & Neighborhood. If the company had all of the information on fixed characteristics of the house, it could predict with reasonable accuracy, the sale price of the home.\n"
   ]
  },
  {
   "cell_type": "markdown",
   "metadata": {
    "heading_collapsed": true
   },
   "source": [
    "## Data Cleaning & EDA"
   ]
  },
  {
   "cell_type": "code",
   "execution_count": 2,
   "metadata": {
    "ExecuteTime": {
     "end_time": "2020-05-31T13:32:00.668154Z",
     "start_time": "2020-05-31T13:32:00.610801Z"
    },
    "hidden": true
   },
   "outputs": [],
   "source": [
    "# Load the data\n",
    "house = pd.read_csv('./housing.csv')"
   ]
  },
  {
   "cell_type": "code",
   "execution_count": 3,
   "metadata": {
    "ExecuteTime": {
     "end_time": "2020-05-31T13:32:00.713654Z",
     "start_time": "2020-05-31T13:32:00.672592Z"
    },
    "hidden": true
   },
   "outputs": [
    {
     "data": {
      "text/html": [
       "<div>\n",
       "<style scoped>\n",
       "    .dataframe tbody tr th:only-of-type {\n",
       "        vertical-align: middle;\n",
       "    }\n",
       "\n",
       "    .dataframe tbody tr th {\n",
       "        vertical-align: top;\n",
       "    }\n",
       "\n",
       "    .dataframe thead th {\n",
       "        text-align: right;\n",
       "    }\n",
       "</style>\n",
       "<table border=\"1\" class=\"dataframe\">\n",
       "  <thead>\n",
       "    <tr style=\"text-align: right;\">\n",
       "      <th></th>\n",
       "      <th>Id</th>\n",
       "      <th>MSSubClass</th>\n",
       "      <th>MSZoning</th>\n",
       "      <th>LotFrontage</th>\n",
       "      <th>LotArea</th>\n",
       "      <th>Street</th>\n",
       "      <th>Alley</th>\n",
       "      <th>LotShape</th>\n",
       "      <th>LandContour</th>\n",
       "      <th>Utilities</th>\n",
       "      <th>...</th>\n",
       "      <th>PoolArea</th>\n",
       "      <th>PoolQC</th>\n",
       "      <th>Fence</th>\n",
       "      <th>MiscFeature</th>\n",
       "      <th>MiscVal</th>\n",
       "      <th>MoSold</th>\n",
       "      <th>YrSold</th>\n",
       "      <th>SaleType</th>\n",
       "      <th>SaleCondition</th>\n",
       "      <th>SalePrice</th>\n",
       "    </tr>\n",
       "  </thead>\n",
       "  <tbody>\n",
       "    <tr>\n",
       "      <td>0</td>\n",
       "      <td>1</td>\n",
       "      <td>60</td>\n",
       "      <td>RL</td>\n",
       "      <td>65.0</td>\n",
       "      <td>8450</td>\n",
       "      <td>Pave</td>\n",
       "      <td>NaN</td>\n",
       "      <td>Reg</td>\n",
       "      <td>Lvl</td>\n",
       "      <td>AllPub</td>\n",
       "      <td>...</td>\n",
       "      <td>0</td>\n",
       "      <td>NaN</td>\n",
       "      <td>NaN</td>\n",
       "      <td>NaN</td>\n",
       "      <td>0</td>\n",
       "      <td>2</td>\n",
       "      <td>2008</td>\n",
       "      <td>WD</td>\n",
       "      <td>Normal</td>\n",
       "      <td>208500</td>\n",
       "    </tr>\n",
       "    <tr>\n",
       "      <td>1</td>\n",
       "      <td>2</td>\n",
       "      <td>20</td>\n",
       "      <td>RL</td>\n",
       "      <td>80.0</td>\n",
       "      <td>9600</td>\n",
       "      <td>Pave</td>\n",
       "      <td>NaN</td>\n",
       "      <td>Reg</td>\n",
       "      <td>Lvl</td>\n",
       "      <td>AllPub</td>\n",
       "      <td>...</td>\n",
       "      <td>0</td>\n",
       "      <td>NaN</td>\n",
       "      <td>NaN</td>\n",
       "      <td>NaN</td>\n",
       "      <td>0</td>\n",
       "      <td>5</td>\n",
       "      <td>2007</td>\n",
       "      <td>WD</td>\n",
       "      <td>Normal</td>\n",
       "      <td>181500</td>\n",
       "    </tr>\n",
       "    <tr>\n",
       "      <td>2</td>\n",
       "      <td>3</td>\n",
       "      <td>60</td>\n",
       "      <td>RL</td>\n",
       "      <td>68.0</td>\n",
       "      <td>11250</td>\n",
       "      <td>Pave</td>\n",
       "      <td>NaN</td>\n",
       "      <td>IR1</td>\n",
       "      <td>Lvl</td>\n",
       "      <td>AllPub</td>\n",
       "      <td>...</td>\n",
       "      <td>0</td>\n",
       "      <td>NaN</td>\n",
       "      <td>NaN</td>\n",
       "      <td>NaN</td>\n",
       "      <td>0</td>\n",
       "      <td>9</td>\n",
       "      <td>2008</td>\n",
       "      <td>WD</td>\n",
       "      <td>Normal</td>\n",
       "      <td>223500</td>\n",
       "    </tr>\n",
       "    <tr>\n",
       "      <td>3</td>\n",
       "      <td>4</td>\n",
       "      <td>70</td>\n",
       "      <td>RL</td>\n",
       "      <td>60.0</td>\n",
       "      <td>9550</td>\n",
       "      <td>Pave</td>\n",
       "      <td>NaN</td>\n",
       "      <td>IR1</td>\n",
       "      <td>Lvl</td>\n",
       "      <td>AllPub</td>\n",
       "      <td>...</td>\n",
       "      <td>0</td>\n",
       "      <td>NaN</td>\n",
       "      <td>NaN</td>\n",
       "      <td>NaN</td>\n",
       "      <td>0</td>\n",
       "      <td>2</td>\n",
       "      <td>2006</td>\n",
       "      <td>WD</td>\n",
       "      <td>Abnorml</td>\n",
       "      <td>140000</td>\n",
       "    </tr>\n",
       "    <tr>\n",
       "      <td>4</td>\n",
       "      <td>5</td>\n",
       "      <td>60</td>\n",
       "      <td>RL</td>\n",
       "      <td>84.0</td>\n",
       "      <td>14260</td>\n",
       "      <td>Pave</td>\n",
       "      <td>NaN</td>\n",
       "      <td>IR1</td>\n",
       "      <td>Lvl</td>\n",
       "      <td>AllPub</td>\n",
       "      <td>...</td>\n",
       "      <td>0</td>\n",
       "      <td>NaN</td>\n",
       "      <td>NaN</td>\n",
       "      <td>NaN</td>\n",
       "      <td>0</td>\n",
       "      <td>12</td>\n",
       "      <td>2008</td>\n",
       "      <td>WD</td>\n",
       "      <td>Normal</td>\n",
       "      <td>250000</td>\n",
       "    </tr>\n",
       "  </tbody>\n",
       "</table>\n",
       "<p>5 rows × 81 columns</p>\n",
       "</div>"
      ],
      "text/plain": [
       "   Id  MSSubClass MSZoning  LotFrontage  LotArea Street Alley LotShape  \\\n",
       "0   1          60       RL         65.0     8450   Pave   NaN      Reg   \n",
       "1   2          20       RL         80.0     9600   Pave   NaN      Reg   \n",
       "2   3          60       RL         68.0    11250   Pave   NaN      IR1   \n",
       "3   4          70       RL         60.0     9550   Pave   NaN      IR1   \n",
       "4   5          60       RL         84.0    14260   Pave   NaN      IR1   \n",
       "\n",
       "  LandContour Utilities  ... PoolArea PoolQC Fence MiscFeature MiscVal MoSold  \\\n",
       "0         Lvl    AllPub  ...        0    NaN   NaN         NaN       0      2   \n",
       "1         Lvl    AllPub  ...        0    NaN   NaN         NaN       0      5   \n",
       "2         Lvl    AllPub  ...        0    NaN   NaN         NaN       0      9   \n",
       "3         Lvl    AllPub  ...        0    NaN   NaN         NaN       0      2   \n",
       "4         Lvl    AllPub  ...        0    NaN   NaN         NaN       0     12   \n",
       "\n",
       "  YrSold  SaleType  SaleCondition  SalePrice  \n",
       "0   2008        WD         Normal     208500  \n",
       "1   2007        WD         Normal     181500  \n",
       "2   2008        WD         Normal     223500  \n",
       "3   2006        WD        Abnorml     140000  \n",
       "4   2008        WD         Normal     250000  \n",
       "\n",
       "[5 rows x 81 columns]"
      ]
     },
     "execution_count": 3,
     "metadata": {},
     "output_type": "execute_result"
    }
   ],
   "source": [
    "house.head()"
   ]
  },
  {
   "cell_type": "code",
   "execution_count": 4,
   "metadata": {
    "ExecuteTime": {
     "end_time": "2020-05-31T13:32:00.736896Z",
     "start_time": "2020-05-31T13:32:00.724224Z"
    },
    "hidden": true
   },
   "outputs": [
    {
     "data": {
      "text/plain": [
       "Index(['Id', 'MSSubClass', 'MSZoning', 'LotFrontage', 'LotArea', 'Street',\n",
       "       'Alley', 'LotShape', 'LandContour', 'Utilities', 'LotConfig',\n",
       "       'LandSlope', 'Neighborhood', 'Condition1', 'Condition2', 'BldgType',\n",
       "       'HouseStyle', 'OverallQual', 'OverallCond', 'YearBuilt', 'YearRemodAdd',\n",
       "       'RoofStyle', 'RoofMatl', 'Exterior1st', 'Exterior2nd', 'MasVnrType',\n",
       "       'MasVnrArea', 'ExterQual', 'ExterCond', 'Foundation', 'BsmtQual',\n",
       "       'BsmtCond', 'BsmtExposure', 'BsmtFinType1', 'BsmtFinSF1',\n",
       "       'BsmtFinType2', 'BsmtFinSF2', 'BsmtUnfSF', 'TotalBsmtSF', 'Heating',\n",
       "       'HeatingQC', 'CentralAir', 'Electrical', '1stFlrSF', '2ndFlrSF',\n",
       "       'LowQualFinSF', 'GrLivArea', 'BsmtFullBath', 'BsmtHalfBath', 'FullBath',\n",
       "       'HalfBath', 'BedroomAbvGr', 'KitchenAbvGr', 'KitchenQual',\n",
       "       'TotRmsAbvGrd', 'Functional', 'Fireplaces', 'FireplaceQu', 'GarageType',\n",
       "       'GarageYrBlt', 'GarageFinish', 'GarageCars', 'GarageArea', 'GarageQual',\n",
       "       'GarageCond', 'PavedDrive', 'WoodDeckSF', 'OpenPorchSF',\n",
       "       'EnclosedPorch', '3SsnPorch', 'ScreenPorch', 'PoolArea', 'PoolQC',\n",
       "       'Fence', 'MiscFeature', 'MiscVal', 'MoSold', 'YrSold', 'SaleType',\n",
       "       'SaleCondition', 'SalePrice'],\n",
       "      dtype='object')"
      ]
     },
     "execution_count": 4,
     "metadata": {},
     "output_type": "execute_result"
    }
   ],
   "source": [
    "house.columns"
   ]
  },
  {
   "cell_type": "code",
   "execution_count": 5,
   "metadata": {
    "ExecuteTime": {
     "end_time": "2020-05-31T13:32:00.750992Z",
     "start_time": "2020-05-31T13:32:00.740853Z"
    },
    "hidden": true
   },
   "outputs": [
    {
     "data": {
      "text/plain": [
       "(1460, 81)"
      ]
     },
     "execution_count": 5,
     "metadata": {},
     "output_type": "execute_result"
    }
   ],
   "source": [
    "house.shape"
   ]
  },
  {
   "cell_type": "code",
   "execution_count": 6,
   "metadata": {
    "ExecuteTime": {
     "end_time": "2020-05-31T13:32:00.764676Z",
     "start_time": "2020-05-31T13:32:00.754950Z"
    },
    "hidden": true
   },
   "outputs": [
    {
     "data": {
      "text/plain": [
       "array(['RL', 'RM', 'C (all)', 'FV', 'RH'], dtype=object)"
      ]
     },
     "execution_count": 6,
     "metadata": {},
     "output_type": "execute_result"
    }
   ],
   "source": [
    "#see what types of zoning is in the data\n",
    "house.MSZoning.unique()"
   ]
  },
  {
   "cell_type": "code",
   "execution_count": 7,
   "metadata": {
    "ExecuteTime": {
     "end_time": "2020-05-31T13:32:00.782958Z",
     "start_time": "2020-05-31T13:32:00.767721Z"
    },
    "hidden": true
   },
   "outputs": [
    {
     "data": {
      "text/plain": [
       "(1450, 81)"
      ]
     },
     "execution_count": 7,
     "metadata": {},
     "output_type": "execute_result"
    }
   ],
   "source": [
    "#keep only the data that is in Residential zones. \n",
    "#the only zone that is not residential is 'C (all)' which is probably commercial properties\n",
    "\n",
    "house = house[house['MSZoning'] != 'C (all)']\n",
    "house.shape\n",
    "\n",
    "#this deleted 10 rows of data"
   ]
  },
  {
   "cell_type": "code",
   "execution_count": 8,
   "metadata": {
    "ExecuteTime": {
     "end_time": "2020-05-31T13:32:00.797744Z",
     "start_time": "2020-05-31T13:32:00.789521Z"
    },
    "hidden": true
   },
   "outputs": [
    {
     "data": {
      "text/plain": [
       "1443"
      ]
     },
     "execution_count": 8,
     "metadata": {},
     "output_type": "execute_result"
    }
   ],
   "source": [
    "house.Alley.isna().sum()  #1320 of 1385 rows are null in alley\n",
    "house.PoolQC.isna().sum()  #1378 of 1385 rows are null for pool qc"
   ]
  },
  {
   "cell_type": "code",
   "execution_count": 9,
   "metadata": {
    "ExecuteTime": {
     "end_time": "2020-05-31T13:32:00.821284Z",
     "start_time": "2020-05-31T13:32:00.804715Z"
    },
    "hidden": true
   },
   "outputs": [],
   "source": [
    "#instead of checking one by one, this function deletes any columns that have over 80% nulls\n",
    "\n",
    "house = house[house.columns[house.isnull().mean() < 0.2]]"
   ]
  },
  {
   "cell_type": "code",
   "execution_count": 10,
   "metadata": {
    "ExecuteTime": {
     "end_time": "2020-05-31T13:32:00.837080Z",
     "start_time": "2020-05-31T13:32:00.826059Z"
    },
    "hidden": true
   },
   "outputs": [
    {
     "data": {
      "text/plain": [
       "(1450, 76)"
      ]
     },
     "execution_count": 10,
     "metadata": {},
     "output_type": "execute_result"
    }
   ],
   "source": [
    "#previous step deleted 5 columns\n",
    "house.shape"
   ]
  },
  {
   "cell_type": "code",
   "execution_count": 11,
   "metadata": {
    "ExecuteTime": {
     "end_time": "2020-05-31T13:32:01.089211Z",
     "start_time": "2020-05-31T13:32:00.843456Z"
    },
    "hidden": true
   },
   "outputs": [
    {
     "name": "stdout",
     "output_type": "stream",
     "text": [
      "1305.0\n",
      "---- Id ---\n",
      "1460    1\n",
      "480     1\n",
      "482     1\n",
      "483     1\n",
      "484     1\n",
      "       ..\n",
      "976     1\n",
      "977     1\n",
      "978     1\n",
      "979     1\n",
      "1       1\n",
      "Name: Id, Length: 1450, dtype: int64\n",
      "---- MSSubClass ---\n",
      "20     534\n",
      "60     299\n",
      "50     140\n",
      "120     87\n",
      "30      67\n",
      "160     63\n",
      "70      59\n",
      "80      58\n",
      "90      52\n",
      "190     29\n",
      "85      20\n",
      "75      16\n",
      "45      12\n",
      "180     10\n",
      "40       4\n",
      "Name: MSSubClass, dtype: int64\n",
      "---- MSZoning ---\n",
      "RL    1151\n",
      "RM     218\n",
      "FV      65\n",
      "RH      16\n",
      "Name: MSZoning, dtype: int64\n",
      "---- LotFrontage ---\n",
      "60.0     139\n",
      "70.0      70\n",
      "80.0      69\n",
      "50.0      55\n",
      "75.0      53\n",
      "        ... \n",
      "106.0      1\n",
      "38.0       1\n",
      "138.0      1\n",
      "140.0      1\n",
      "137.0      1\n",
      "Name: LotFrontage, Length: 110, dtype: int64\n",
      "---- LotArea ---\n",
      "9600     24\n",
      "7200     24\n",
      "6000     17\n",
      "8400     14\n",
      "10800    14\n",
      "         ..\n",
      "7301      1\n",
      "11394     1\n",
      "7094      1\n",
      "16226     1\n",
      "8190      1\n",
      "Name: LotArea, Length: 1070, dtype: int64\n",
      "---- Street ---\n",
      "Pave    1446\n",
      "Grvl       4\n",
      "Name: Street, dtype: int64\n",
      "---- LotShape ---\n",
      "Reg    916\n",
      "IR1    483\n",
      "IR2     41\n",
      "IR3     10\n",
      "Name: LotShape, dtype: int64\n",
      "---- LandContour ---\n",
      "Lvl    1305\n",
      "Bnk      62\n",
      "HLS      49\n",
      "Low      34\n",
      "Name: LandContour, dtype: int64\n",
      "---- Utilities ---\n",
      "AllPub    1449\n",
      "NoSeWa       1\n",
      "Name: Utilities, dtype: int64\n",
      "---- LotConfig ---\n",
      "Inside     1044\n",
      "Corner      261\n",
      "CulDSac      94\n",
      "FR2          47\n",
      "FR3           4\n",
      "Name: LotConfig, dtype: int64\n",
      "---- LandSlope ---\n",
      "Gtl    1375\n",
      "Mod      62\n",
      "Sev      13\n",
      "Name: LandSlope, dtype: int64\n",
      "---- Neighborhood ---\n",
      "NAmes      225\n",
      "CollgCr    150\n",
      "OldTown    112\n",
      "Edwards    100\n",
      "Somerst     86\n",
      "Gilbert     79\n",
      "NridgHt     77\n",
      "Sawyer      74\n",
      "NWAmes      73\n",
      "SawyerW     59\n",
      "BrkSide     58\n",
      "Crawfor     51\n",
      "Mitchel     49\n",
      "NoRidge     41\n",
      "Timber      38\n",
      "ClearCr     28\n",
      "IDOTRR      28\n",
      "StoneBr     25\n",
      "SWISU       25\n",
      "MeadowV     17\n",
      "Blmngtn     17\n",
      "BrDale      16\n",
      "Veenker     11\n",
      "NPkVill      9\n",
      "Blueste      2\n",
      "Name: Neighborhood, dtype: int64\n",
      "---- Condition1 ---\n",
      "Norm      1252\n",
      "Feedr       79\n",
      "Artery      48\n",
      "RRAn        26\n",
      "PosN        19\n",
      "RRAe        11\n",
      "PosA         8\n",
      "RRNn         5\n",
      "RRNe         2\n",
      "Name: Condition1, dtype: int64\n",
      "---- Condition2 ---\n",
      "Norm      1436\n",
      "Feedr        5\n",
      "RRNn         2\n",
      "Artery       2\n",
      "PosN         2\n",
      "RRAe         1\n",
      "PosA         1\n",
      "RRAn         1\n",
      "Name: Condition2, dtype: int64\n",
      "---- BldgType ---\n",
      "1Fam      1211\n",
      "TwnhsE     114\n",
      "Duplex      52\n",
      "Twnhs       43\n",
      "2fmCon      30\n",
      "Name: BldgType, dtype: int64\n",
      "---- HouseStyle ---\n",
      "1Story    722\n",
      "2Story    444\n",
      "1.5Fin    150\n",
      "SLvl       65\n",
      "SFoyer     37\n",
      "1.5Unf     14\n",
      "2.5Unf     10\n",
      "2.5Fin      8\n",
      "Name: HouseStyle, dtype: int64\n",
      "---- OverallQual ---\n",
      "5     396\n",
      "6     373\n",
      "7     319\n",
      "8     168\n",
      "4     111\n",
      "9      43\n",
      "10     18\n",
      "3      18\n",
      "2       2\n",
      "1       2\n",
      "Name: OverallQual, dtype: int64\n",
      "---- OverallCond ---\n",
      "5    819\n",
      "6    250\n",
      "7    204\n",
      "8     72\n",
      "4     54\n",
      "3     24\n",
      "9     22\n",
      "2      4\n",
      "1      1\n",
      "Name: OverallCond, dtype: int64\n",
      "---- YearBuilt ---\n",
      "2006    67\n",
      "2005    64\n",
      "2004    54\n",
      "2007    49\n",
      "2003    45\n",
      "        ..\n",
      "1906     1\n",
      "1911     1\n",
      "1913     1\n",
      "1917     1\n",
      "1872     1\n",
      "Name: YearBuilt, Length: 112, dtype: int64\n",
      "---- YearRemodAdd ---\n",
      "1950    171\n",
      "2006     97\n",
      "2007     76\n",
      "2005     73\n",
      "2004     62\n",
      "       ... \n",
      "1982      6\n",
      "1983      5\n",
      "1986      5\n",
      "1952      4\n",
      "1951      4\n",
      "Name: YearRemodAdd, Length: 61, dtype: int64\n",
      "---- RoofStyle ---\n",
      "Gable      1135\n",
      "Hip         283\n",
      "Flat         13\n",
      "Gambrel      10\n",
      "Mansard       7\n",
      "Shed          2\n",
      "Name: RoofStyle, dtype: int64\n",
      "---- RoofMatl ---\n",
      "CompShg    1424\n",
      "Tar&Grv      11\n",
      "WdShngl       6\n",
      "WdShake       5\n",
      "ClyTile       1\n",
      "Membran       1\n",
      "Metal         1\n",
      "Roll          1\n",
      "Name: RoofMatl, dtype: int64\n",
      "---- Exterior1st ---\n",
      "VinylSd    515\n",
      "HdBoard    222\n",
      "MetalSd    215\n",
      "Wd Sdng    204\n",
      "Plywood    107\n",
      "CemntBd     61\n",
      "BrkFace     49\n",
      "WdShing     26\n",
      "Stucco      25\n",
      "AsbShng     19\n",
      "BrkComm      2\n",
      "Stone        2\n",
      "CBlock       1\n",
      "ImStucc      1\n",
      "AsphShn      1\n",
      "Name: Exterior1st, dtype: int64\n",
      "---- Exterior2nd ---\n",
      "VinylSd    504\n",
      "MetalSd    209\n",
      "HdBoard    207\n",
      "Wd Sdng    195\n",
      "Plywood    141\n",
      "CmentBd     60\n",
      "Wd Shng     38\n",
      "Stucco      26\n",
      "BrkFace     24\n",
      "AsbShng     19\n",
      "ImStucc     10\n",
      "Brk Cmn      7\n",
      "Stone        5\n",
      "AsphShn      3\n",
      "CBlock       1\n",
      "Other        1\n",
      "Name: Exterior2nd, dtype: int64\n",
      "---- MasVnrType ---\n",
      "None       854\n",
      "BrkFace    445\n",
      "Stone      128\n",
      "BrkCmn      15\n",
      "Name: MasVnrType, dtype: int64\n",
      "---- MasVnrArea ---\n",
      "0.0      851\n",
      "72.0       8\n",
      "180.0      8\n",
      "108.0      8\n",
      "120.0      7\n",
      "        ... \n",
      "651.0      1\n",
      "337.0      1\n",
      "415.0      1\n",
      "293.0      1\n",
      "621.0      1\n",
      "Name: MasVnrArea, Length: 327, dtype: int64\n",
      "---- ExterQual ---\n",
      "TA    899\n",
      "Gd    488\n",
      "Ex     52\n",
      "Fa     11\n",
      "Name: ExterQual, dtype: int64\n",
      "---- ExterCond ---\n",
      "TA    1275\n",
      "Gd     145\n",
      "Fa      26\n",
      "Ex       3\n",
      "Po       1\n",
      "Name: ExterCond, dtype: int64\n",
      "---- Foundation ---\n",
      "PConc     647\n",
      "CBlock    627\n",
      "BrkTil    144\n",
      "Slab       24\n",
      "Stone       5\n",
      "Wood        3\n",
      "Name: Foundation, dtype: int64\n",
      "---- BsmtQual ---\n",
      "TA    639\n",
      "Gd    618\n",
      "Ex    121\n",
      "Fa     35\n",
      "Name: BsmtQual, dtype: int64\n",
      "---- BsmtCond ---\n",
      "TA    1303\n",
      "Gd      65\n",
      "Fa      43\n",
      "Po       2\n",
      "Name: BsmtCond, dtype: int64\n",
      "---- BsmtExposure ---\n",
      "No    947\n",
      "Av    219\n",
      "Gd    134\n",
      "Mn    112\n",
      "Name: BsmtExposure, dtype: int64\n",
      "---- BsmtFinType1 ---\n",
      "Unf    424\n",
      "GLQ    418\n",
      "ALQ    220\n",
      "BLQ    147\n",
      "Rec    130\n",
      "LwQ     74\n",
      "Name: BsmtFinType1, dtype: int64\n",
      "---- BsmtFinSF1 ---\n",
      "0       461\n",
      "24       12\n",
      "16        9\n",
      "20        5\n",
      "936       5\n",
      "       ... \n",
      "679       1\n",
      "1261      1\n",
      "684       1\n",
      "1260      1\n",
      "1904      1\n",
      "Name: BsmtFinSF1, Length: 636, dtype: int64\n",
      "---- BsmtFinType2 ---\n",
      "Unf    1246\n",
      "Rec      54\n",
      "LwQ      46\n",
      "BLQ      33\n",
      "ALQ      19\n",
      "GLQ      14\n",
      "Name: BsmtFinType2, dtype: int64\n",
      "---- BsmtFinSF2 ---\n",
      "0       1283\n",
      "180        5\n",
      "374        3\n",
      "551        2\n",
      "93         2\n",
      "        ... \n",
      "532        1\n",
      "544        1\n",
      "546        1\n",
      "547        1\n",
      "1474       1\n",
      "Name: BsmtFinSF2, Length: 144, dtype: int64\n",
      "---- BsmtUnfSF ---\n",
      "0      117\n",
      "728      9\n",
      "384      8\n",
      "300      7\n",
      "600      7\n",
      "      ... \n",
      "795      1\n",
      "794      1\n",
      "792      1\n",
      "791      1\n",
      "606      1\n",
      "Name: BsmtUnfSF, Length: 776, dtype: int64\n",
      "---- TotalBsmtSF ---\n",
      "0       37\n",
      "864     35\n",
      "672     17\n",
      "912     15\n",
      "1040    14\n",
      "        ..\n",
      "1269     1\n",
      "1271     1\n",
      "1272     1\n",
      "1273     1\n",
      "1100     1\n",
      "Name: TotalBsmtSF, Length: 719, dtype: int64\n",
      "---- Heating ---\n",
      "GasA     1419\n",
      "GasW       17\n",
      "Grav        7\n",
      "Wall        4\n",
      "OthW        2\n",
      "Floor       1\n",
      "Name: Heating, dtype: int64\n",
      "---- HeatingQC ---\n",
      "Ex    740\n",
      "TA    421\n",
      "Gd    239\n",
      "Fa     49\n",
      "Po      1\n",
      "Name: HeatingQC, dtype: int64\n",
      "---- CentralAir ---\n",
      "Y    1361\n",
      "N      89\n",
      "Name: CentralAir, dtype: int64\n",
      "---- Electrical ---\n",
      "SBrkr    1328\n",
      "FuseA      90\n",
      "FuseF      27\n",
      "FuseP       3\n",
      "Mix         1\n",
      "Name: Electrical, dtype: int64\n",
      "---- 1stFlrSF ---\n",
      "864     25\n",
      "1040    16\n",
      "912     14\n",
      "848     12\n",
      "672     11\n",
      "        ..\n",
      "1297     1\n",
      "1299     1\n",
      "1304     1\n",
      "1307     1\n",
      "2053     1\n",
      "Name: 1stFlrSF, Length: 746, dtype: int64\n",
      "---- 2ndFlrSF ---\n",
      "0       824\n",
      "728      10\n",
      "504       9\n",
      "672       8\n",
      "546       8\n",
      "       ... \n",
      "875       1\n",
      "1281      1\n",
      "1276      1\n",
      "881       1\n",
      "1872      1\n",
      "Name: 2ndFlrSF, Length: 413, dtype: int64\n",
      "---- LowQualFinSF ---\n",
      "0      1425\n",
      "80        3\n",
      "360       2\n",
      "371       1\n",
      "53        1\n",
      "120       1\n",
      "144       1\n",
      "156       1\n",
      "205       1\n",
      "232       1\n",
      "234       1\n",
      "572       1\n",
      "528       1\n",
      "390       1\n",
      "392       1\n",
      "397       1\n",
      "420       1\n",
      "473       1\n",
      "479       1\n",
      "481       1\n",
      "514       1\n",
      "515       1\n",
      "384       1\n",
      "Name: LowQualFinSF, dtype: int64\n",
      "---- GrLivArea ---\n",
      "864     22\n",
      "1040    14\n",
      "894     10\n",
      "848     10\n",
      "1456    10\n",
      "        ..\n",
      "1400     1\n",
      "3447     1\n",
      "1396     1\n",
      "1395     1\n",
      "2054     1\n",
      "Name: GrLivArea, Length: 858, dtype: int64\n",
      "---- BsmtFullBath ---\n",
      "0    847\n",
      "1    587\n",
      "2     15\n",
      "3      1\n",
      "Name: BsmtFullBath, dtype: int64\n",
      "---- BsmtHalfBath ---\n",
      "0    1369\n",
      "1      79\n",
      "2       2\n",
      "Name: BsmtHalfBath, dtype: int64\n",
      "---- FullBath ---\n",
      "2    767\n",
      "1    642\n",
      "3     33\n",
      "0      8\n",
      "Name: FullBath, dtype: int64\n",
      "---- HalfBath ---\n",
      "0    904\n",
      "1    534\n",
      "2     12\n",
      "Name: HalfBath, dtype: int64\n",
      "---- BedroomAbvGr ---\n",
      "3    802\n",
      "2    352\n",
      "4    212\n",
      "1     49\n",
      "5     21\n",
      "6      7\n",
      "0      6\n",
      "8      1\n",
      "Name: BedroomAbvGr, dtype: int64\n",
      "---- KitchenAbvGr ---\n",
      "1    1383\n",
      "2      64\n",
      "3       2\n",
      "0       1\n",
      "Name: KitchenAbvGr, dtype: int64\n",
      "---- KitchenQual ---\n",
      "TA    727\n",
      "Gd    586\n",
      "Ex    100\n",
      "Fa     37\n",
      "Name: KitchenQual, dtype: int64\n",
      "---- TotRmsAbvGrd ---\n",
      "6     398\n",
      "7     327\n",
      "5     275\n",
      "8     187\n",
      "4      94\n",
      "9      74\n",
      "10     47\n",
      "11     18\n",
      "3      17\n",
      "12     11\n",
      "14      1\n",
      "2       1\n",
      "Name: TotRmsAbvGrd, dtype: int64\n",
      "---- Functional ---\n",
      "Typ     1350\n",
      "Min2      34\n",
      "Min1      31\n",
      "Mod       15\n",
      "Maj1      14\n",
      "Maj2       5\n",
      "Sev        1\n",
      "Name: Functional, dtype: int64\n",
      "---- Fireplaces ---\n",
      "0    681\n",
      "1    649\n",
      "2    115\n",
      "3      5\n",
      "Name: Fireplaces, dtype: int64\n",
      "---- GarageType ---\n",
      "Attchd     870\n",
      "Detchd     381\n",
      "BuiltIn     88\n",
      "Basment     18\n",
      "CarPort      8\n",
      "2Types       6\n",
      "Name: GarageType, dtype: int64\n",
      "---- GarageYrBlt ---\n",
      "2005.0    65\n",
      "2006.0    59\n",
      "2004.0    53\n",
      "2003.0    50\n",
      "2007.0    49\n",
      "          ..\n",
      "1942.0     2\n",
      "1906.0     1\n",
      "1927.0     1\n",
      "1908.0     1\n",
      "1933.0     1\n",
      "Name: GarageYrBlt, Length: 96, dtype: int64\n",
      "---- GarageFinish ---\n",
      "Unf    600\n",
      "RFn    419\n",
      "Fin    352\n",
      "Name: GarageFinish, dtype: int64\n",
      "---- GarageCars ---\n",
      "2    821\n",
      "1    365\n",
      "3    180\n",
      "0     79\n",
      "4      5\n",
      "Name: GarageCars, dtype: int64\n",
      "---- GarageArea ---\n",
      "0       79\n",
      "440     49\n",
      "576     47\n",
      "240     38\n",
      "484     34\n",
      "        ..\n",
      "582      1\n",
      "862      1\n",
      "570      1\n",
      "562      1\n",
      "1418     1\n",
      "Name: GarageArea, Length: 440, dtype: int64\n",
      "---- GarageQual ---\n",
      "TA    1303\n",
      "Fa      48\n",
      "Gd      14\n",
      "Po       3\n",
      "Ex       3\n",
      "Name: GarageQual, dtype: int64\n",
      "---- GarageCond ---\n",
      "TA    1319\n",
      "Fa      34\n",
      "Gd       9\n",
      "Po       7\n",
      "Ex       2\n",
      "Name: GarageCond, dtype: int64\n",
      "---- PavedDrive ---\n",
      "Y    1335\n",
      "N      85\n",
      "P      30\n",
      "Name: PavedDrive, dtype: int64\n",
      "---- WoodDeckSF ---\n",
      "0      753\n",
      "192     38\n",
      "100     36\n",
      "144     33\n",
      "120     31\n",
      "      ... \n",
      "243      1\n",
      "242      1\n",
      "241      1\n",
      "536      1\n",
      "857      1\n"
     ]
    },
    {
     "name": "stdout",
     "output_type": "stream",
     "text": [
      "Name: WoodDeckSF, Length: 273, dtype: int64\n",
      "---- OpenPorchSF ---\n",
      "0      650\n",
      "36      29\n",
      "48      22\n",
      "20      20\n",
      "45      19\n",
      "      ... \n",
      "159      1\n",
      "156      1\n",
      "148      1\n",
      "142      1\n",
      "119      1\n",
      "Name: OpenPorchSF, Length: 201, dtype: int64\n",
      "---- EnclosedPorch ---\n",
      "0      1248\n",
      "112      15\n",
      "96        6\n",
      "216       5\n",
      "192       5\n",
      "       ... \n",
      "140       1\n",
      "143       1\n",
      "275       1\n",
      "145       1\n",
      "552       1\n",
      "Name: EnclosedPorch, Length: 118, dtype: int64\n",
      "---- 3SsnPorch ---\n",
      "0      1426\n",
      "168       3\n",
      "216       2\n",
      "144       2\n",
      "180       2\n",
      "245       1\n",
      "238       1\n",
      "290       1\n",
      "196       1\n",
      "182       1\n",
      "407       1\n",
      "304       1\n",
      "162       1\n",
      "153       1\n",
      "320       1\n",
      "140       1\n",
      "130       1\n",
      "96        1\n",
      "23        1\n",
      "508       1\n",
      "Name: 3SsnPorch, dtype: int64\n",
      "---- ScreenPorch ---\n",
      "0      1335\n",
      "192       6\n",
      "120       5\n",
      "224       5\n",
      "180       4\n",
      "       ... \n",
      "197       1\n",
      "190       1\n",
      "185       1\n",
      "440       1\n",
      "182       1\n",
      "Name: ScreenPorch, Length: 75, dtype: int64\n",
      "---- PoolArea ---\n",
      "0      1443\n",
      "738       1\n",
      "648       1\n",
      "576       1\n",
      "555       1\n",
      "519       1\n",
      "512       1\n",
      "480       1\n",
      "Name: PoolArea, dtype: int64\n",
      "---- MiscVal ---\n",
      "0        1400\n",
      "400        11\n",
      "500         8\n",
      "700         5\n",
      "450         4\n",
      "600         4\n",
      "2000        4\n",
      "1200        2\n",
      "480         2\n",
      "800         1\n",
      "1150        1\n",
      "3500        1\n",
      "15500       1\n",
      "2500        1\n",
      "1300        1\n",
      "1400        1\n",
      "350         1\n",
      "8300        1\n",
      "620         1\n",
      "Name: MiscVal, dtype: int64\n",
      "---- MoSold ---\n",
      "6     252\n",
      "7     233\n",
      "5     204\n",
      "4     140\n",
      "8     121\n",
      "3     106\n",
      "10     87\n",
      "11     77\n",
      "9      62\n",
      "12     59\n",
      "1      57\n",
      "2      52\n",
      "Name: MoSold, dtype: int64\n",
      "---- YrSold ---\n",
      "2009    336\n",
      "2007    328\n",
      "2006    312\n",
      "2008    302\n",
      "2010    172\n",
      "Name: YrSold, dtype: int64\n",
      "---- SaleType ---\n",
      "WD       1261\n",
      "New       122\n",
      "COD        41\n",
      "ConLD       7\n",
      "ConLI       5\n",
      "ConLw       5\n",
      "CWD         4\n",
      "Oth         3\n",
      "Con         2\n",
      "Name: SaleType, dtype: int64\n",
      "---- SaleCondition ---\n",
      "Normal     1194\n",
      "Partial     125\n",
      "Abnorml      96\n",
      "Family       20\n",
      "Alloca       11\n",
      "AdjLand       4\n",
      "Name: SaleCondition, dtype: int64\n",
      "---- SalePrice ---\n",
      "140000    20\n",
      "135000    17\n",
      "145000    14\n",
      "155000    14\n",
      "190000    13\n",
      "          ..\n",
      "84900      1\n",
      "424870     1\n",
      "415298     1\n",
      "62383      1\n",
      "164900     1\n",
      "Name: SalePrice, Length: 657, dtype: int64\n"
     ]
    }
   ],
   "source": [
    "#remove columns where 90% of the data is in one category\n",
    "print(1450*.9) #any column where 1305 items are in one category can be removed\n",
    "\n",
    "#look at value counts for each column in house dataframe\n",
    "for c in house.columns:\n",
    "    print (\"---- %s ---\" % c)\n",
    "    print (house[c].value_counts())\n",
    "    \n",
    "\n",
    "#LandContour has 1305 in Lvl so it can be removed\n",
    "#LandSlope has 1375 in Gt1 so it can be removed\n",
    "#CentralAir has 1361 Y so it can be removed\n",
    "#Electrical has 1328 SBrkr so it can be removed\n",
    "#BsmtHalfBath has 1369 in 0 so it can be removed\n",
    "#Function has 1350 in Typ so it can be removed\n",
    "#GarageCond has 1319 in TA so it can be removed\n",
    "#PavedDrive has 1335 Y so it can be removed\n",
    "#Screen Porch has 1335 0 so it can be removed\n",
    "#Street is split 1446/4 so it can be removed\n",
    "#Utilites is split 1449/1 so it can be removed\n",
    "#Condition2 1436 are normal so it can be removed\n",
    "#RoofMat1 has 1424 CompShg so it can be removed\n",
    "#Heating 1419 has GasA so it can be removed\n",
    "#LowQualFinSF has 1425 have 0 so it can be removed\n",
    "#KitchenAbvGr 1383  have 1 so it can be removed\n",
    "#3SsnPorch 1426 have 0 so it can be removed\n",
    "#PoolArea 1443 have 0 so it can be removed\n",
    "#MiscVal 1400 have 0 so it can be removed"
   ]
  },
  {
   "cell_type": "code",
   "execution_count": 12,
   "metadata": {
    "ExecuteTime": {
     "end_time": "2020-05-31T13:32:01.113921Z",
     "start_time": "2020-05-31T13:32:01.094354Z"
    },
    "hidden": true
   },
   "outputs": [],
   "source": [
    "house.drop(['LandContour', 'LandSlope', 'CentralAir', 'Electrical', 'BsmtHalfBath', 'Functional', 'GarageCond',\n",
    "'PavedDrive', 'ScreenPorch', 'Street', 'Utilities', 'Condition2', 'RoofMatl', 'Heating', 'LowQualFinSF', 'KitchenAbvGr',\n",
    "'3SsnPorch', 'PoolArea', 'MiscVal'], axis = 1, inplace = True)\n",
    "\n"
   ]
  },
  {
   "cell_type": "code",
   "execution_count": 13,
   "metadata": {
    "ExecuteTime": {
     "end_time": "2020-05-31T13:32:01.136695Z",
     "start_time": "2020-05-31T13:32:01.124994Z"
    },
    "hidden": true
   },
   "outputs": [
    {
     "data": {
      "text/plain": [
       "(1450, 57)"
      ]
     },
     "execution_count": 13,
     "metadata": {},
     "output_type": "execute_result"
    }
   ],
   "source": [
    "house.shape\n",
    "#previous step dropped 19 columns \n",
    "#at this point house = dataframe of relevant fixed & changeable columns"
   ]
  },
  {
   "cell_type": "code",
   "execution_count": 14,
   "metadata": {
    "ExecuteTime": {
     "end_time": "2020-05-31T13:32:01.177998Z",
     "start_time": "2020-05-31T13:32:01.143200Z"
    },
    "hidden": true
   },
   "outputs": [
    {
     "name": "stdout",
     "output_type": "stream",
     "text": [
      "35\n"
     ]
    }
   ],
   "source": [
    "#create dataframe of all fixed features\n",
    "\n",
    "house.columns\n",
    "\n",
    "changable_conditions = ['OverallQual', 'OverallCond', 'RoofStyle', 'Exterior1st', 'Exterior2nd', 'MasVnrType', 'MasVnrArea', 'ExterQual',\n",
    "'ExterCond', 'BsmtFinType2', 'BsmtFinType1', 'BsmtFinSF1', 'BsmtFinSF2', 'BsmtUnfSF', 'BsmtCond','HeatingQC','KitchenQual','GarageFinish', 'GarageQual','SalePrice']\n",
    "    \n",
    "#not applicable right now: SaleType, SaleCondition, Id\n",
    "\n",
    "\n",
    "fixed_conditions = ['MSSubClass', 'MSZoning', 'LotFrontage', 'LotArea', 'LotShape', 'LotConfig', 'Neighborhood',\n",
    " 'Condition1', 'BldgType', 'HouseStyle', 'YearBuilt', 'YearRemodAdd', 'Foundation', 'BsmtQual',\n",
    "    'BsmtExposure', 'TotalBsmtSF', '1stFlrSF', '2ndFlrSF', 'GrLivArea',\n",
    "        'BsmtFullBath', 'FullBath', 'HalfBath', 'BedroomAbvGr','TotRmsAbvGrd', 'Fireplaces', 'GarageType', 'GarageYrBlt',\n",
    "        'GarageCars', 'GarageArea','WoodDeckSF','OpenPorchSF', 'EnclosedPorch', 'MoSold', 'YrSold', 'SalePrice']\n",
    "\n",
    "print(len(fixed_conditions))\n",
    "\n"
   ]
  },
  {
   "cell_type": "code",
   "execution_count": 15,
   "metadata": {
    "ExecuteTime": {
     "end_time": "2020-05-31T13:32:01.226083Z",
     "start_time": "2020-05-31T13:32:01.185504Z"
    },
    "hidden": true
   },
   "outputs": [
    {
     "data": {
      "text/plain": [
       "Index(['MSSubClass', 'MSZoning', 'LotFrontage', 'LotArea', 'LotShape',\n",
       "       'LotConfig', 'Neighborhood', 'Condition1', 'BldgType', 'HouseStyle',\n",
       "       'YearBuilt', 'YearRemodAdd', 'Foundation', 'BsmtQual', 'BsmtExposure',\n",
       "       'TotalBsmtSF', '1stFlrSF', '2ndFlrSF', 'GrLivArea', 'BsmtFullBath',\n",
       "       'FullBath', 'HalfBath', 'BedroomAbvGr', 'TotRmsAbvGrd', 'Fireplaces',\n",
       "       'GarageType', 'GarageYrBlt', 'GarageCars', 'GarageArea', 'WoodDeckSF',\n",
       "       'OpenPorchSF', 'EnclosedPorch', 'MoSold', 'YrSold', 'SalePrice'],\n",
       "      dtype='object')"
      ]
     },
     "execution_count": 15,
     "metadata": {},
     "output_type": "execute_result"
    }
   ],
   "source": [
    "fixed = house.drop(['Id','OverallQual', 'OverallCond', 'RoofStyle', 'Exterior1st', 'Exterior2nd', 'MasVnrType', 'MasVnrArea', 'ExterQual',\n",
    "'ExterCond', 'BsmtFinType2', 'BsmtFinType1', 'BsmtFinSF1', 'BsmtFinSF2', 'BsmtUnfSF', 'BsmtCond','HeatingQC','KitchenQual','GarageFinish', 'GarageQual', 'SaleType', 'SaleCondition'], axis =1)\n",
    "\n",
    "fixed.columns\n"
   ]
  },
  {
   "cell_type": "code",
   "execution_count": 16,
   "metadata": {
    "ExecuteTime": {
     "end_time": "2020-05-31T13:32:01.249196Z",
     "start_time": "2020-05-31T13:32:01.235628Z"
    },
    "hidden": true
   },
   "outputs": [],
   "source": [
    "fixed[['MSSubClass', 'HouseStyle']]\n",
    "#HouseStyle is redundant, tells the same info as MSSubClass, so it can be dropped\n",
    "\n",
    "fixed.drop('HouseStyle', axis = 1, inplace=True)"
   ]
  },
  {
   "cell_type": "code",
   "execution_count": 17,
   "metadata": {
    "ExecuteTime": {
     "end_time": "2020-05-31T13:32:01.269196Z",
     "start_time": "2020-05-31T13:32:01.254448Z"
    },
    "hidden": true
   },
   "outputs": [
    {
     "data": {
      "text/plain": [
       "MSSubClass         0\n",
       "MSZoning           0\n",
       "LotFrontage      259\n",
       "LotArea            0\n",
       "LotShape           0\n",
       "LotConfig          0\n",
       "Neighborhood       0\n",
       "Condition1         0\n",
       "BldgType           0\n",
       "YearBuilt          0\n",
       "YearRemodAdd       0\n",
       "Foundation         0\n",
       "BsmtQual          37\n",
       "BsmtExposure      38\n",
       "TotalBsmtSF        0\n",
       "1stFlrSF           0\n",
       "2ndFlrSF           0\n",
       "GrLivArea          0\n",
       "BsmtFullBath       0\n",
       "FullBath           0\n",
       "HalfBath           0\n",
       "BedroomAbvGr       0\n",
       "TotRmsAbvGrd       0\n",
       "Fireplaces         0\n",
       "GarageType        79\n",
       "GarageYrBlt       79\n",
       "GarageCars         0\n",
       "GarageArea         0\n",
       "WoodDeckSF         0\n",
       "OpenPorchSF        0\n",
       "EnclosedPorch      0\n",
       "MoSold             0\n",
       "YrSold             0\n",
       "SalePrice          0\n",
       "dtype: int64"
      ]
     },
     "execution_count": 17,
     "metadata": {},
     "output_type": "execute_result"
    }
   ],
   "source": [
    "fixed.isnull().sum()\n",
    "#LotFrontage has 259 null -- fill with mean\n",
    "#BsmtQual has 37 null -- NA = no basement (make 'NA')\n",
    "#BsmtExposure has 38 null -- NA = no basement (make 'NA')\n",
    "#GarageType has 79 null -- NA = no garage (make 'NA')\n",
    "#GarageYrBlt has 79 null -- probably means that there is no garage; fill with 0\n",
    "\n"
   ]
  },
  {
   "cell_type": "code",
   "execution_count": 18,
   "metadata": {
    "ExecuteTime": {
     "end_time": "2020-05-31T13:32:01.289439Z",
     "start_time": "2020-05-31T13:32:01.275780Z"
    },
    "hidden": true
   },
   "outputs": [],
   "source": [
    "fixed[fixed.LotFrontage.isnull()]\n",
    "#Those with NaN in LotFrontage have LotArea and many are on corner lots or culdsacs so they must have frontage to the road\n",
    "#fill NaN's with mean of the column\n",
    "\n",
    "fixed.LotFrontage.fillna(fixed.LotFrontage.mean(), inplace=True)"
   ]
  },
  {
   "cell_type": "code",
   "execution_count": 19,
   "metadata": {
    "ExecuteTime": {
     "end_time": "2020-05-31T13:32:01.306960Z",
     "start_time": "2020-05-31T13:32:01.293432Z"
    },
    "hidden": true
   },
   "outputs": [],
   "source": [
    "fixed[fixed.GarageYrBlt.isnull()]\n",
    "#those with NaN in GarageYrBlt also have 0s for the other garage columns, so they likely dont have garages\n",
    "#fill NaN's with 0\n",
    "\n",
    "fixed.GarageYrBlt.fillna(0, inplace=True)"
   ]
  },
  {
   "cell_type": "code",
   "execution_count": 20,
   "metadata": {
    "ExecuteTime": {
     "end_time": "2020-05-31T13:32:01.323996Z",
     "start_time": "2020-05-31T13:32:01.311188Z"
    },
    "hidden": true
   },
   "outputs": [],
   "source": [
    "fixed[fixed.BsmtQual.isnull()]\n",
    "#NA was filled with NaN for BsmtQual and BsmtExposure\n",
    "#fill NaN's with 'NA'\n",
    "fixed.BsmtQual.fillna('NA', inplace=True)\n",
    "fixed.BsmtExposure.fillna('NA', inplace=True)"
   ]
  },
  {
   "cell_type": "code",
   "execution_count": 21,
   "metadata": {
    "ExecuteTime": {
     "end_time": "2020-05-31T13:32:01.337339Z",
     "start_time": "2020-05-31T13:32:01.327247Z"
    },
    "hidden": true
   },
   "outputs": [],
   "source": [
    "fixed[fixed.GarageType.isnull()]\n",
    "#NaN was filled for those without a garage\n",
    "#fill NaN's with 'NA'\n",
    "\n",
    "fixed.GarageType.fillna('NA', inplace=True)"
   ]
  },
  {
   "cell_type": "code",
   "execution_count": 22,
   "metadata": {
    "ExecuteTime": {
     "end_time": "2020-05-31T13:32:01.367299Z",
     "start_time": "2020-05-31T13:32:01.342821Z"
    },
    "hidden": true
   },
   "outputs": [],
   "source": [
    "garages = fixed[['GarageType', 'GarageYrBlt', 'GarageCars', 'GarageArea', 'SalePrice']]\n",
    "garage_dum = pd.get_dummies(garages, columns = ['GarageType'], drop_first = True)\n",
    "\n",
    "garage_dum.corr()\n",
    "#GarageArea & GarageCars are intercorrelated \n",
    "#drop GarageArea\n",
    "\n",
    "fixed.drop('GarageArea', axis = 1, inplace = True)"
   ]
  },
  {
   "cell_type": "code",
   "execution_count": 23,
   "metadata": {
    "ExecuteTime": {
     "end_time": "2020-05-31T13:32:01.419975Z",
     "start_time": "2020-05-31T13:32:01.377915Z"
    },
    "hidden": true
   },
   "outputs": [
    {
     "data": {
      "text/html": [
       "<div>\n",
       "<style scoped>\n",
       "    .dataframe tbody tr th:only-of-type {\n",
       "        vertical-align: middle;\n",
       "    }\n",
       "\n",
       "    .dataframe tbody tr th {\n",
       "        vertical-align: top;\n",
       "    }\n",
       "\n",
       "    .dataframe thead th {\n",
       "        text-align: right;\n",
       "    }\n",
       "</style>\n",
       "<table border=\"1\" class=\"dataframe\">\n",
       "  <thead>\n",
       "    <tr style=\"text-align: right;\">\n",
       "      <th></th>\n",
       "      <th>TotalBsmtSF</th>\n",
       "      <th>BsmtFullBath</th>\n",
       "      <th>SalePrice</th>\n",
       "      <th>BsmtQual_Ex</th>\n",
       "      <th>BsmtQual_Fa</th>\n",
       "      <th>BsmtQual_Gd</th>\n",
       "      <th>BsmtQual_NA</th>\n",
       "      <th>BsmtQual_TA</th>\n",
       "      <th>BsmtExposure_Av</th>\n",
       "      <th>BsmtExposure_Gd</th>\n",
       "      <th>BsmtExposure_Mn</th>\n",
       "      <th>BsmtExposure_NA</th>\n",
       "      <th>BsmtExposure_No</th>\n",
       "    </tr>\n",
       "  </thead>\n",
       "  <tbody>\n",
       "    <tr>\n",
       "      <td>TotalBsmtSF</td>\n",
       "      <td>1.000000</td>\n",
       "      <td>0.306864</td>\n",
       "      <td>0.612088</td>\n",
       "      <td>0.402858</td>\n",
       "      <td>-0.116912</td>\n",
       "      <td>0.140667</td>\n",
       "      <td>-0.390457</td>\n",
       "      <td>-0.204368</td>\n",
       "      <td>0.125007</td>\n",
       "      <td>0.291577</td>\n",
       "      <td>0.027625</td>\n",
       "      <td>-0.386635</td>\n",
       "      <td>-0.157183</td>\n",
       "    </tr>\n",
       "    <tr>\n",
       "      <td>BsmtFullBath</td>\n",
       "      <td>0.306864</td>\n",
       "      <td>1.000000</td>\n",
       "      <td>0.224054</td>\n",
       "      <td>0.145344</td>\n",
       "      <td>-0.077592</td>\n",
       "      <td>0.079912</td>\n",
       "      <td>-0.133262</td>\n",
       "      <td>-0.094249</td>\n",
       "      <td>0.134868</td>\n",
       "      <td>0.269238</td>\n",
       "      <td>0.035376</td>\n",
       "      <td>-0.135099</td>\n",
       "      <td>-0.239778</td>\n",
       "    </tr>\n",
       "    <tr>\n",
       "      <td>SalePrice</td>\n",
       "      <td>0.612088</td>\n",
       "      <td>0.224054</td>\n",
       "      <td>1.000000</td>\n",
       "      <td>0.554251</td>\n",
       "      <td>-0.131072</td>\n",
       "      <td>0.229033</td>\n",
       "      <td>-0.155385</td>\n",
       "      <td>-0.447009</td>\n",
       "      <td>0.140999</td>\n",
       "      <td>0.306543</td>\n",
       "      <td>0.045562</td>\n",
       "      <td>-0.152789</td>\n",
       "      <td>-0.266864</td>\n",
       "    </tr>\n",
       "    <tr>\n",
       "      <td>BsmtQual_Ex</td>\n",
       "      <td>0.402858</td>\n",
       "      <td>0.145344</td>\n",
       "      <td>0.554251</td>\n",
       "      <td>1.000000</td>\n",
       "      <td>-0.047455</td>\n",
       "      <td>-0.260054</td>\n",
       "      <td>-0.048827</td>\n",
       "      <td>-0.267837</td>\n",
       "      <td>0.116472</td>\n",
       "      <td>0.196476</td>\n",
       "      <td>-0.003234</td>\n",
       "      <td>-0.049500</td>\n",
       "      <td>-0.188740</td>\n",
       "    </tr>\n",
       "    <tr>\n",
       "      <td>BsmtQual_Fa</td>\n",
       "      <td>-0.116912</td>\n",
       "      <td>-0.077592</td>\n",
       "      <td>-0.131072</td>\n",
       "      <td>-0.047455</td>\n",
       "      <td>1.000000</td>\n",
       "      <td>-0.135547</td>\n",
       "      <td>-0.025450</td>\n",
       "      <td>-0.139603</td>\n",
       "      <td>-0.066336</td>\n",
       "      <td>-0.034670</td>\n",
       "      <td>0.038654</td>\n",
       "      <td>-0.025801</td>\n",
       "      <td>0.057978</td>\n",
       "    </tr>\n",
       "    <tr>\n",
       "      <td>BsmtQual_Gd</td>\n",
       "      <td>0.140667</td>\n",
       "      <td>0.079912</td>\n",
       "      <td>0.229033</td>\n",
       "      <td>-0.260054</td>\n",
       "      <td>-0.135547</td>\n",
       "      <td>1.000000</td>\n",
       "      <td>-0.139464</td>\n",
       "      <td>-0.765020</td>\n",
       "      <td>0.162251</td>\n",
       "      <td>0.057247</td>\n",
       "      <td>0.032725</td>\n",
       "      <td>-0.132656</td>\n",
       "      <td>-0.130726</td>\n",
       "    </tr>\n",
       "    <tr>\n",
       "      <td>BsmtQual_NA</td>\n",
       "      <td>-0.390457</td>\n",
       "      <td>-0.133262</td>\n",
       "      <td>-0.155385</td>\n",
       "      <td>-0.048827</td>\n",
       "      <td>-0.025450</td>\n",
       "      <td>-0.139464</td>\n",
       "      <td>1.000000</td>\n",
       "      <td>-0.143638</td>\n",
       "      <td>-0.068253</td>\n",
       "      <td>-0.051636</td>\n",
       "      <td>-0.046818</td>\n",
       "      <td>0.986405</td>\n",
       "      <td>-0.222035</td>\n",
       "    </tr>\n",
       "    <tr>\n",
       "      <td>BsmtQual_TA</td>\n",
       "      <td>-0.204368</td>\n",
       "      <td>-0.094249</td>\n",
       "      <td>-0.447009</td>\n",
       "      <td>-0.267837</td>\n",
       "      <td>-0.139603</td>\n",
       "      <td>-0.765020</td>\n",
       "      <td>-0.143638</td>\n",
       "      <td>1.000000</td>\n",
       "      <td>-0.184311</td>\n",
       "      <td>-0.139351</td>\n",
       "      <td>-0.027875</td>\n",
       "      <td>-0.145618</td>\n",
       "      <td>0.287952</td>\n",
       "    </tr>\n",
       "    <tr>\n",
       "      <td>BsmtExposure_Av</td>\n",
       "      <td>0.125007</td>\n",
       "      <td>0.134868</td>\n",
       "      <td>0.140999</td>\n",
       "      <td>0.116472</td>\n",
       "      <td>-0.066336</td>\n",
       "      <td>0.162251</td>\n",
       "      <td>-0.068253</td>\n",
       "      <td>-0.184311</td>\n",
       "      <td>1.000000</td>\n",
       "      <td>-0.134591</td>\n",
       "      <td>-0.122032</td>\n",
       "      <td>-0.069194</td>\n",
       "      <td>-0.578741</td>\n",
       "    </tr>\n",
       "    <tr>\n",
       "      <td>BsmtExposure_Gd</td>\n",
       "      <td>0.291577</td>\n",
       "      <td>0.269238</td>\n",
       "      <td>0.306543</td>\n",
       "      <td>0.196476</td>\n",
       "      <td>-0.034670</td>\n",
       "      <td>0.057247</td>\n",
       "      <td>-0.051636</td>\n",
       "      <td>-0.139351</td>\n",
       "      <td>-0.134591</td>\n",
       "      <td>1.000000</td>\n",
       "      <td>-0.092322</td>\n",
       "      <td>-0.052348</td>\n",
       "      <td>-0.437840</td>\n",
       "    </tr>\n",
       "    <tr>\n",
       "      <td>BsmtExposure_Mn</td>\n",
       "      <td>0.027625</td>\n",
       "      <td>0.035376</td>\n",
       "      <td>0.045562</td>\n",
       "      <td>-0.003234</td>\n",
       "      <td>0.038654</td>\n",
       "      <td>0.032725</td>\n",
       "      <td>-0.046818</td>\n",
       "      <td>-0.027875</td>\n",
       "      <td>-0.122032</td>\n",
       "      <td>-0.092322</td>\n",
       "      <td>1.000000</td>\n",
       "      <td>-0.047463</td>\n",
       "      <td>-0.396983</td>\n",
       "    </tr>\n",
       "    <tr>\n",
       "      <td>BsmtExposure_NA</td>\n",
       "      <td>-0.386635</td>\n",
       "      <td>-0.135099</td>\n",
       "      <td>-0.152789</td>\n",
       "      <td>-0.049500</td>\n",
       "      <td>-0.025801</td>\n",
       "      <td>-0.132656</td>\n",
       "      <td>0.986405</td>\n",
       "      <td>-0.145618</td>\n",
       "      <td>-0.069194</td>\n",
       "      <td>-0.052348</td>\n",
       "      <td>-0.047463</td>\n",
       "      <td>1.000000</td>\n",
       "      <td>-0.225095</td>\n",
       "    </tr>\n",
       "    <tr>\n",
       "      <td>BsmtExposure_No</td>\n",
       "      <td>-0.157183</td>\n",
       "      <td>-0.239778</td>\n",
       "      <td>-0.266864</td>\n",
       "      <td>-0.188740</td>\n",
       "      <td>0.057978</td>\n",
       "      <td>-0.130726</td>\n",
       "      <td>-0.222035</td>\n",
       "      <td>0.287952</td>\n",
       "      <td>-0.578741</td>\n",
       "      <td>-0.437840</td>\n",
       "      <td>-0.396983</td>\n",
       "      <td>-0.225095</td>\n",
       "      <td>1.000000</td>\n",
       "    </tr>\n",
       "  </tbody>\n",
       "</table>\n",
       "</div>"
      ],
      "text/plain": [
       "                 TotalBsmtSF  BsmtFullBath  SalePrice  BsmtQual_Ex  \\\n",
       "TotalBsmtSF         1.000000      0.306864   0.612088     0.402858   \n",
       "BsmtFullBath        0.306864      1.000000   0.224054     0.145344   \n",
       "SalePrice           0.612088      0.224054   1.000000     0.554251   \n",
       "BsmtQual_Ex         0.402858      0.145344   0.554251     1.000000   \n",
       "BsmtQual_Fa        -0.116912     -0.077592  -0.131072    -0.047455   \n",
       "BsmtQual_Gd         0.140667      0.079912   0.229033    -0.260054   \n",
       "BsmtQual_NA        -0.390457     -0.133262  -0.155385    -0.048827   \n",
       "BsmtQual_TA        -0.204368     -0.094249  -0.447009    -0.267837   \n",
       "BsmtExposure_Av     0.125007      0.134868   0.140999     0.116472   \n",
       "BsmtExposure_Gd     0.291577      0.269238   0.306543     0.196476   \n",
       "BsmtExposure_Mn     0.027625      0.035376   0.045562    -0.003234   \n",
       "BsmtExposure_NA    -0.386635     -0.135099  -0.152789    -0.049500   \n",
       "BsmtExposure_No    -0.157183     -0.239778  -0.266864    -0.188740   \n",
       "\n",
       "                 BsmtQual_Fa  BsmtQual_Gd  BsmtQual_NA  BsmtQual_TA  \\\n",
       "TotalBsmtSF        -0.116912     0.140667    -0.390457    -0.204368   \n",
       "BsmtFullBath       -0.077592     0.079912    -0.133262    -0.094249   \n",
       "SalePrice          -0.131072     0.229033    -0.155385    -0.447009   \n",
       "BsmtQual_Ex        -0.047455    -0.260054    -0.048827    -0.267837   \n",
       "BsmtQual_Fa         1.000000    -0.135547    -0.025450    -0.139603   \n",
       "BsmtQual_Gd        -0.135547     1.000000    -0.139464    -0.765020   \n",
       "BsmtQual_NA        -0.025450    -0.139464     1.000000    -0.143638   \n",
       "BsmtQual_TA        -0.139603    -0.765020    -0.143638     1.000000   \n",
       "BsmtExposure_Av    -0.066336     0.162251    -0.068253    -0.184311   \n",
       "BsmtExposure_Gd    -0.034670     0.057247    -0.051636    -0.139351   \n",
       "BsmtExposure_Mn     0.038654     0.032725    -0.046818    -0.027875   \n",
       "BsmtExposure_NA    -0.025801    -0.132656     0.986405    -0.145618   \n",
       "BsmtExposure_No     0.057978    -0.130726    -0.222035     0.287952   \n",
       "\n",
       "                 BsmtExposure_Av  BsmtExposure_Gd  BsmtExposure_Mn  \\\n",
       "TotalBsmtSF             0.125007         0.291577         0.027625   \n",
       "BsmtFullBath            0.134868         0.269238         0.035376   \n",
       "SalePrice               0.140999         0.306543         0.045562   \n",
       "BsmtQual_Ex             0.116472         0.196476        -0.003234   \n",
       "BsmtQual_Fa            -0.066336        -0.034670         0.038654   \n",
       "BsmtQual_Gd             0.162251         0.057247         0.032725   \n",
       "BsmtQual_NA            -0.068253        -0.051636        -0.046818   \n",
       "BsmtQual_TA            -0.184311        -0.139351        -0.027875   \n",
       "BsmtExposure_Av         1.000000        -0.134591        -0.122032   \n",
       "BsmtExposure_Gd        -0.134591         1.000000        -0.092322   \n",
       "BsmtExposure_Mn        -0.122032        -0.092322         1.000000   \n",
       "BsmtExposure_NA        -0.069194        -0.052348        -0.047463   \n",
       "BsmtExposure_No        -0.578741        -0.437840        -0.396983   \n",
       "\n",
       "                 BsmtExposure_NA  BsmtExposure_No  \n",
       "TotalBsmtSF            -0.386635        -0.157183  \n",
       "BsmtFullBath           -0.135099        -0.239778  \n",
       "SalePrice              -0.152789        -0.266864  \n",
       "BsmtQual_Ex            -0.049500        -0.188740  \n",
       "BsmtQual_Fa            -0.025801         0.057978  \n",
       "BsmtQual_Gd            -0.132656        -0.130726  \n",
       "BsmtQual_NA             0.986405        -0.222035  \n",
       "BsmtQual_TA            -0.145618         0.287952  \n",
       "BsmtExposure_Av        -0.069194        -0.578741  \n",
       "BsmtExposure_Gd        -0.052348        -0.437840  \n",
       "BsmtExposure_Mn        -0.047463        -0.396983  \n",
       "BsmtExposure_NA         1.000000        -0.225095  \n",
       "BsmtExposure_No        -0.225095         1.000000  "
      ]
     },
     "execution_count": 23,
     "metadata": {},
     "output_type": "execute_result"
    }
   ],
   "source": [
    "basement = fixed[['BsmtQual', 'BsmtExposure', 'TotalBsmtSF', 'BsmtFullBath', 'SalePrice']]\n",
    "basement_dum = pd.get_dummies(basement, columns = ['BsmtQual', 'BsmtExposure'])\n",
    "basement_dum.corr()"
   ]
  },
  {
   "cell_type": "code",
   "execution_count": 24,
   "metadata": {
    "ExecuteTime": {
     "end_time": "2020-05-31T13:32:01.435635Z",
     "start_time": "2020-05-31T13:32:01.427349Z"
    },
    "hidden": true
   },
   "outputs": [
    {
     "data": {
      "text/plain": [
       "(1450, 33)"
      ]
     },
     "execution_count": 24,
     "metadata": {},
     "output_type": "execute_result"
    }
   ],
   "source": [
    "fixed.shape\n",
    "#now fixed = a clean dataframe with only columns that are fixed elements of the property (can't be easily renovated/changed)"
   ]
  },
  {
   "cell_type": "code",
   "execution_count": 25,
   "metadata": {
    "ExecuteTime": {
     "end_time": "2020-05-31T13:32:01.454311Z",
     "start_time": "2020-05-31T13:32:01.439217Z"
    },
    "hidden": true
   },
   "outputs": [
    {
     "data": {
      "text/plain": [
       "MSSubClass         int64\n",
       "MSZoning          object\n",
       "LotFrontage      float64\n",
       "LotArea            int64\n",
       "LotShape          object\n",
       "LotConfig         object\n",
       "Neighborhood      object\n",
       "Condition1        object\n",
       "BldgType          object\n",
       "YearBuilt          int64\n",
       "YearRemodAdd       int64\n",
       "Foundation        object\n",
       "BsmtQual          object\n",
       "BsmtExposure      object\n",
       "TotalBsmtSF        int64\n",
       "1stFlrSF           int64\n",
       "2ndFlrSF           int64\n",
       "GrLivArea          int64\n",
       "BsmtFullBath       int64\n",
       "FullBath           int64\n",
       "HalfBath           int64\n",
       "BedroomAbvGr       int64\n",
       "TotRmsAbvGrd       int64\n",
       "Fireplaces         int64\n",
       "GarageType        object\n",
       "GarageYrBlt      float64\n",
       "GarageCars         int64\n",
       "WoodDeckSF         int64\n",
       "OpenPorchSF        int64\n",
       "EnclosedPorch      int64\n",
       "MoSold             int64\n",
       "YrSold             int64\n",
       "SalePrice          int64\n",
       "dtype: object"
      ]
     },
     "execution_count": 25,
     "metadata": {},
     "output_type": "execute_result"
    }
   ],
   "source": [
    "fixed.dtypes\n",
    "\n",
    "#check types of data"
   ]
  },
  {
   "cell_type": "code",
   "execution_count": 26,
   "metadata": {
    "ExecuteTime": {
     "end_time": "2020-05-31T13:32:01.485368Z",
     "start_time": "2020-05-31T13:32:01.459526Z"
    },
    "hidden": true
   },
   "outputs": [
    {
     "data": {
      "text/plain": [
       "MSSubClass          int64\n",
       "MSZoning           object\n",
       "LotFrontage       float64\n",
       "LotArea             int64\n",
       "LotShape           object\n",
       "LotConfig          object\n",
       "Neighborhood       object\n",
       "Condition1         object\n",
       "BldgType           object\n",
       "YearBuilt           int64\n",
       "YearRemodAdd        int64\n",
       "Foundation         object\n",
       "BsmtQual         category\n",
       "BsmtExposure     category\n",
       "TotalBsmtSF         int64\n",
       "1stFlrSF            int64\n",
       "2ndFlrSF            int64\n",
       "GrLivArea           int64\n",
       "BsmtFullBath        int64\n",
       "FullBath            int64\n",
       "HalfBath            int64\n",
       "BedroomAbvGr        int64\n",
       "TotRmsAbvGrd        int64\n",
       "Fireplaces          int64\n",
       "GarageType         object\n",
       "GarageYrBlt       float64\n",
       "GarageCars          int64\n",
       "WoodDeckSF          int64\n",
       "OpenPorchSF         int64\n",
       "EnclosedPorch       int64\n",
       "MoSold           category\n",
       "YrSold              int64\n",
       "SalePrice           int64\n",
       "dtype: object"
      ]
     },
     "execution_count": 26,
     "metadata": {},
     "output_type": "execute_result"
    }
   ],
   "source": [
    "#convert BsmtQual and BsmtExposure to categorical (give order to the values)\n",
    "\n",
    "for col in ['BsmtQual', 'BsmtExposure', 'MoSold']:\n",
    "    fixed[col] = fixed[col].astype('category')\n",
    "\n",
    "fixed.dtypes"
   ]
  },
  {
   "cell_type": "code",
   "execution_count": 27,
   "metadata": {
    "ExecuteTime": {
     "end_time": "2020-05-31T13:32:01.501219Z",
     "start_time": "2020-05-31T13:32:01.491124Z"
    },
    "hidden": true
   },
   "outputs": [
    {
     "data": {
      "text/plain": [
       "Index(['MSSubClass', 'MSZoning', 'LotFrontage', 'LotArea', 'LotShape',\n",
       "       'LotConfig', 'Neighborhood', 'Condition1', 'BldgType', 'YearBuilt',\n",
       "       'YearRemodAdd', 'Foundation', 'BsmtQual', 'BsmtExposure', 'TotalBsmtSF',\n",
       "       '1stFlrSF', '2ndFlrSF', 'GrLivArea', 'BsmtFullBath', 'FullBath',\n",
       "       'HalfBath', 'BedroomAbvGr', 'TotRmsAbvGrd', 'Fireplaces', 'GarageType',\n",
       "       'GarageYrBlt', 'GarageCars', 'WoodDeckSF', 'OpenPorchSF',\n",
       "       'EnclosedPorch', 'MoSold', 'YrSold', 'SalePrice'],\n",
       "      dtype='object')"
      ]
     },
     "execution_count": 27,
     "metadata": {},
     "output_type": "execute_result"
    }
   ],
   "source": [
    "fixed.columns"
   ]
  },
  {
   "cell_type": "code",
   "execution_count": 28,
   "metadata": {
    "ExecuteTime": {
     "end_time": "2020-05-31T13:32:01.552594Z",
     "start_time": "2020-05-31T13:32:01.510129Z"
    },
    "hidden": true
   },
   "outputs": [],
   "source": [
    "#create dummy columns\n",
    "fixed_dummy = pd.get_dummies(fixed, columns = ['MSSubClass', 'MSZoning','LotShape', 'LotConfig', 'Neighborhood', 'Condition1', 'BldgType',\n",
    "      'Foundation', 'BsmtQual', 'BsmtExposure', 'GarageType', 'MoSold'])"
   ]
  },
  {
   "cell_type": "code",
   "execution_count": 29,
   "metadata": {
    "ExecuteTime": {
     "end_time": "2020-05-31T13:32:01.616852Z",
     "start_time": "2020-05-31T13:32:01.555350Z"
    },
    "hidden": true
   },
   "outputs": [
    {
     "data": {
      "text/plain": [
       "SalePrice               1.000000\n",
       "GrLivArea               0.708658\n",
       "GarageCars              0.642135\n",
       "TotalBsmtSF             0.612088\n",
       "1stFlrSF                0.603300\n",
       "FullBath                0.556674\n",
       "BsmtQual_Ex             0.554251\n",
       "TotRmsAbvGrd            0.533355\n",
       "YearBuilt               0.517602\n",
       "YearRemodAdd            0.501186\n",
       "Foundation_PConc        0.494186\n",
       "Fireplaces              0.463264\n",
       "Neighborhood_NridgHt    0.402772\n",
       "MSSubClass_60           0.375381\n",
       "LotFrontage             0.337567\n",
       "Neighborhood_NoRidge    0.331128\n",
       "OpenPorchSF             0.329491\n",
       "GarageType_Attchd       0.328630\n",
       "WoodDeckSF              0.320770\n",
       "2ndFlrSF                0.319774\n",
       "BsmtExposure_Gd         0.306543\n",
       "HalfBath                0.280882\n",
       "LotArea                 0.264715\n",
       "GarageYrBlt             0.258923\n",
       "GarageType_BuiltIn      0.234750\n",
       "MSZoning_RL             0.231777\n",
       "BsmtQual_Gd             0.229033\n",
       "BsmtFullBath            0.224054\n",
       "LotShape_IR1            0.220529\n",
       "Neighborhood_StoneBr    0.215616\n",
       "Name: SalePrice, dtype: float64"
      ]
     },
     "execution_count": 29,
     "metadata": {},
     "output_type": "execute_result"
    }
   ],
   "source": [
    "#print correlation of each column with SalePrice\n",
    "\n",
    "fixed_dummy[fixed_dummy.columns[:]].corr()['SalePrice'][:].sort_values(ascending = False)[:30]"
   ]
  },
  {
   "cell_type": "code",
   "execution_count": 30,
   "metadata": {
    "ExecuteTime": {
     "end_time": "2020-05-31T13:32:01.628517Z",
     "start_time": "2020-05-31T13:32:01.621354Z"
    },
    "hidden": true
   },
   "outputs": [
    {
     "data": {
      "text/plain": [
       "(1450, 123)"
      ]
     },
     "execution_count": 30,
     "metadata": {},
     "output_type": "execute_result"
    }
   ],
   "source": [
    "fixed_dummy.shape"
   ]
  },
  {
   "cell_type": "markdown",
   "metadata": {},
   "source": [
    "## Modelling on Fixed Characteristics of the Home"
   ]
  },
  {
   "cell_type": "markdown",
   "metadata": {},
   "source": [
    "### Modelling"
   ]
  },
  {
   "cell_type": "code",
   "execution_count": 134,
   "metadata": {
    "ExecuteTime": {
     "end_time": "2020-05-31T13:57:32.770657Z",
     "start_time": "2020-05-31T13:57:32.759549Z"
    }
   },
   "outputs": [],
   "source": [
    "#split data so that training data is pre2010 and test data is 2010(or after)\n",
    "training_data = fixed_dummy[fixed_dummy.YrSold < 2010]\n",
    "test_data = fixed_dummy[fixed_dummy.YrSold >=2010]"
   ]
  },
  {
   "cell_type": "code",
   "execution_count": 135,
   "metadata": {
    "ExecuteTime": {
     "end_time": "2020-05-31T13:57:33.123077Z",
     "start_time": "2020-05-31T13:57:33.114923Z"
    }
   },
   "outputs": [],
   "source": [
    "#y = saleprice, use X values to predict for both before 2010 and after 2010\n",
    "y_train = training_data.pop('SalePrice')\n",
    "y_test = test_data.pop('SalePrice')\n",
    "X_train = training_data\n",
    "X_test = test_data"
   ]
  },
  {
   "cell_type": "code",
   "execution_count": 136,
   "metadata": {
    "ExecuteTime": {
     "end_time": "2020-05-31T13:57:33.511786Z",
     "start_time": "2020-05-31T13:57:33.486677Z"
    }
   },
   "outputs": [],
   "source": [
    "#standardize\n",
    "scaler = StandardScaler()\n",
    "X_train = pd.DataFrame(scaler.fit_transform(X_train), columns=X_train.columns)\n",
    "X_test = pd.DataFrame(scaler.transform(X_test), columns=X_test.columns)"
   ]
  },
  {
   "cell_type": "markdown",
   "metadata": {
    "heading_collapsed": true
   },
   "source": [
    "#### Linear Regression Model"
   ]
  },
  {
   "cell_type": "code",
   "execution_count": 34,
   "metadata": {
    "ExecuteTime": {
     "end_time": "2020-05-31T13:32:01.842249Z",
     "start_time": "2020-05-31T13:32:01.723139Z"
    },
    "hidden": true
   },
   "outputs": [
    {
     "name": "stdout",
     "output_type": "stream",
     "text": [
      "Cross-validated training scores: [ 8.64360198e-01 -4.34870728e+16 -3.51002746e+20 -1.77609325e+22\n",
      "  6.73765178e-01]\n",
      "Mean cross-validated training score: -3.622395755932424e+21\n",
      "Training Score: 0.8530189097392169\n",
      "Test Score: 0.8610175590791642\n"
     ]
    },
    {
     "data": {
      "text/html": [
       "<div>\n",
       "<style scoped>\n",
       "    .dataframe tbody tr th:only-of-type {\n",
       "        vertical-align: middle;\n",
       "    }\n",
       "\n",
       "    .dataframe tbody tr th {\n",
       "        vertical-align: top;\n",
       "    }\n",
       "\n",
       "    .dataframe thead th {\n",
       "        text-align: right;\n",
       "    }\n",
       "</style>\n",
       "<table border=\"1\" class=\"dataframe\">\n",
       "  <thead>\n",
       "    <tr style=\"text-align: right;\">\n",
       "      <th></th>\n",
       "      <th>coefficients</th>\n",
       "      <th>coef_abs</th>\n",
       "    </tr>\n",
       "  </thead>\n",
       "  <tbody>\n",
       "    <tr>\n",
       "      <td>MSZoning_RL</td>\n",
       "      <td>1.823552e+17</td>\n",
       "      <td>1.823552e+17</td>\n",
       "    </tr>\n",
       "    <tr>\n",
       "      <td>MSZoning_RM</td>\n",
       "      <td>1.610726e+17</td>\n",
       "      <td>1.610726e+17</td>\n",
       "    </tr>\n",
       "    <tr>\n",
       "      <td>BldgType_1Fam</td>\n",
       "      <td>1.287559e+17</td>\n",
       "      <td>1.287559e+17</td>\n",
       "    </tr>\n",
       "    <tr>\n",
       "      <td>Condition1_Norm</td>\n",
       "      <td>1.019246e+17</td>\n",
       "      <td>1.019246e+17</td>\n",
       "    </tr>\n",
       "    <tr>\n",
       "      <td>GarageType_Attchd</td>\n",
       "      <td>9.381722e+16</td>\n",
       "      <td>9.381722e+16</td>\n",
       "    </tr>\n",
       "    <tr>\n",
       "      <td>BldgType_TwnhsE</td>\n",
       "      <td>9.342474e+16</td>\n",
       "      <td>9.342474e+16</td>\n",
       "    </tr>\n",
       "    <tr>\n",
       "      <td>MSZoning_FV</td>\n",
       "      <td>9.246671e+16</td>\n",
       "      <td>9.246671e+16</td>\n",
       "    </tr>\n",
       "    <tr>\n",
       "      <td>BsmtExposure_No</td>\n",
       "      <td>8.940828e+16</td>\n",
       "      <td>8.940828e+16</td>\n",
       "    </tr>\n",
       "    <tr>\n",
       "      <td>GarageType_Detchd</td>\n",
       "      <td>8.478082e+16</td>\n",
       "      <td>8.478082e+16</td>\n",
       "    </tr>\n",
       "    <tr>\n",
       "      <td>LotConfig_Inside</td>\n",
       "      <td>-7.305288e+16</td>\n",
       "      <td>7.305288e+16</td>\n",
       "    </tr>\n",
       "  </tbody>\n",
       "</table>\n",
       "</div>"
      ],
      "text/plain": [
       "                   coefficients      coef_abs\n",
       "MSZoning_RL        1.823552e+17  1.823552e+17\n",
       "MSZoning_RM        1.610726e+17  1.610726e+17\n",
       "BldgType_1Fam      1.287559e+17  1.287559e+17\n",
       "Condition1_Norm    1.019246e+17  1.019246e+17\n",
       "GarageType_Attchd  9.381722e+16  9.381722e+16\n",
       "BldgType_TwnhsE    9.342474e+16  9.342474e+16\n",
       "MSZoning_FV        9.246671e+16  9.246671e+16\n",
       "BsmtExposure_No    8.940828e+16  8.940828e+16\n",
       "GarageType_Detchd  8.478082e+16  8.478082e+16\n",
       "LotConfig_Inside  -7.305288e+16  7.305288e+16"
      ]
     },
     "execution_count": 34,
     "metadata": {},
     "output_type": "execute_result"
    }
   ],
   "source": [
    "model = LinearRegression()\n",
    "model.fit(X_train, y_train)\n",
    "\n",
    "# get cross validated scores\n",
    "scores = cross_val_score(model, X_train, y_train, cv=5)\n",
    "print(\"Cross-validated training scores:\", scores)\n",
    "print(\"Mean cross-validated training score:\", scores.mean())\n",
    "\n",
    "print(\"Training Score:\", model.score(X_train, y_train))\n",
    "# evaluate the data on the test set\n",
    "print(\"Test Score:\", model.score(X_test, y_test))\n",
    "\n",
    "# collect the model coefficients in a dataframe\n",
    "df_coef = pd.DataFrame(model.coef_, index=X_train.columns,\n",
    "                       columns=['coefficients'])\n",
    "\n",
    "# calculate the absolute values of the coefficients to gauge influence (show importance of predictor variables)\n",
    "df_coef['coef_abs'] = df_coef.coefficients.abs()\n",
    "df_coef.sort_values(by = 'coef_abs', ascending = False)[:10]"
   ]
  },
  {
   "cell_type": "markdown",
   "metadata": {
    "heading_collapsed": true
   },
   "source": [
    "#### Ridge CV Model"
   ]
  },
  {
   "cell_type": "code",
   "execution_count": 35,
   "metadata": {
    "ExecuteTime": {
     "end_time": "2020-05-31T13:32:13.599955Z",
     "start_time": "2020-05-31T13:32:01.846251Z"
    },
    "hidden": true
   },
   "outputs": [
    {
     "name": "stderr",
     "output_type": "stream",
     "text": [
      "/opt/anaconda3/lib/python3.7/site-packages/sklearn/linear_model/_ridge.py:148: LinAlgWarning: Ill-conditioned matrix (rcond=2.99246e-18): result may not be accurate.\n",
      "  overwrite_a=True).T\n",
      "/opt/anaconda3/lib/python3.7/site-packages/sklearn/linear_model/_ridge.py:148: LinAlgWarning: Ill-conditioned matrix (rcond=8.0908e-18): result may not be accurate.\n",
      "  overwrite_a=True).T\n",
      "/opt/anaconda3/lib/python3.7/site-packages/sklearn/linear_model/_ridge.py:148: LinAlgWarning: Ill-conditioned matrix (rcond=3.19018e-18): result may not be accurate.\n",
      "  overwrite_a=True).T\n"
     ]
    }
   ],
   "source": [
    "model = RidgeCV(alphas=np.logspace(-20, 20, 50), cv=5)\n",
    "# fit the model\n",
    "model.fit(X_train, y_train)\n",
    "\n",
    "# evaluate on the training set\n",
    "training_score = model.score(X_train, y_train)\n",
    "# evaluate on the test set\n",
    "test_score = model.score(X_test, y_test)\n",
    "\n",
    "#mean cv score on training data\n",
    "scores = cross_val_score(model, X_train, y_train, cv=5).mean()\n",
    "\n",
    "\n",
    "\n"
   ]
  },
  {
   "cell_type": "code",
   "execution_count": 36,
   "metadata": {
    "ExecuteTime": {
     "end_time": "2020-05-31T13:32:13.622383Z",
     "start_time": "2020-05-31T13:32:13.602531Z"
    },
    "hidden": true
   },
   "outputs": [
    {
     "data": {
      "text/html": [
       "<div>\n",
       "<style scoped>\n",
       "    .dataframe tbody tr th:only-of-type {\n",
       "        vertical-align: middle;\n",
       "    }\n",
       "\n",
       "    .dataframe tbody tr th {\n",
       "        vertical-align: top;\n",
       "    }\n",
       "\n",
       "    .dataframe thead th {\n",
       "        text-align: right;\n",
       "    }\n",
       "</style>\n",
       "<table border=\"1\" class=\"dataframe\">\n",
       "  <thead>\n",
       "    <tr style=\"text-align: right;\">\n",
       "      <th></th>\n",
       "      <th>RidgeCV</th>\n",
       "    </tr>\n",
       "  </thead>\n",
       "  <tbody>\n",
       "    <tr>\n",
       "      <td>Training_Score</td>\n",
       "      <td>0.854696</td>\n",
       "    </tr>\n",
       "    <tr>\n",
       "      <td>Test_Score</td>\n",
       "      <td>0.863839</td>\n",
       "    </tr>\n",
       "    <tr>\n",
       "      <td>Mean_CV</td>\n",
       "      <td>0.803226</td>\n",
       "    </tr>\n",
       "  </tbody>\n",
       "</table>\n",
       "</div>"
      ],
      "text/plain": [
       "                 RidgeCV\n",
       "Training_Score  0.854696\n",
       "Test_Score      0.863839\n",
       "Mean_CV         0.803226"
      ]
     },
     "execution_count": 36,
     "metadata": {},
     "output_type": "execute_result"
    }
   ],
   "source": [
    "score_series_ridge = pd.DataFrame([training_score, test_score, scores], index = ['Training_Score', 'Test_Score', 'Mean_CV'], \n",
    "                            columns = ['RidgeCV'])\n",
    "score_series_ridge"
   ]
  },
  {
   "cell_type": "code",
   "execution_count": 37,
   "metadata": {
    "ExecuteTime": {
     "end_time": "2020-05-31T13:32:13.649866Z",
     "start_time": "2020-05-31T13:32:13.629542Z"
    },
    "hidden": true
   },
   "outputs": [
    {
     "data": {
      "text/html": [
       "<div>\n",
       "<style scoped>\n",
       "    .dataframe tbody tr th:only-of-type {\n",
       "        vertical-align: middle;\n",
       "    }\n",
       "\n",
       "    .dataframe tbody tr th {\n",
       "        vertical-align: top;\n",
       "    }\n",
       "\n",
       "    .dataframe thead th {\n",
       "        text-align: right;\n",
       "    }\n",
       "</style>\n",
       "<table border=\"1\" class=\"dataframe\">\n",
       "  <thead>\n",
       "    <tr style=\"text-align: right;\">\n",
       "      <th></th>\n",
       "      <th>coefficients</th>\n",
       "      <th>coef_abs</th>\n",
       "    </tr>\n",
       "  </thead>\n",
       "  <tbody>\n",
       "    <tr>\n",
       "      <td>GrLivArea</td>\n",
       "      <td>13019.396602</td>\n",
       "      <td>13019.396602</td>\n",
       "    </tr>\n",
       "    <tr>\n",
       "      <td>BsmtQual_Ex</td>\n",
       "      <td>10744.322805</td>\n",
       "      <td>10744.322805</td>\n",
       "    </tr>\n",
       "    <tr>\n",
       "      <td>Neighborhood_NoRidge</td>\n",
       "      <td>9512.123168</td>\n",
       "      <td>9512.123168</td>\n",
       "    </tr>\n",
       "    <tr>\n",
       "      <td>2ndFlrSF</td>\n",
       "      <td>9350.375835</td>\n",
       "      <td>9350.375835</td>\n",
       "    </tr>\n",
       "    <tr>\n",
       "      <td>Neighborhood_NridgHt</td>\n",
       "      <td>9304.616940</td>\n",
       "      <td>9304.616940</td>\n",
       "    </tr>\n",
       "    <tr>\n",
       "      <td>GarageCars</td>\n",
       "      <td>9212.008817</td>\n",
       "      <td>9212.008817</td>\n",
       "    </tr>\n",
       "    <tr>\n",
       "      <td>1stFlrSF</td>\n",
       "      <td>6958.476738</td>\n",
       "      <td>6958.476738</td>\n",
       "    </tr>\n",
       "    <tr>\n",
       "      <td>Neighborhood_StoneBr</td>\n",
       "      <td>6847.825035</td>\n",
       "      <td>6847.825035</td>\n",
       "    </tr>\n",
       "    <tr>\n",
       "      <td>YearRemodAdd</td>\n",
       "      <td>6401.580656</td>\n",
       "      <td>6401.580656</td>\n",
       "    </tr>\n",
       "    <tr>\n",
       "      <td>BsmtExposure_Gd</td>\n",
       "      <td>5888.734730</td>\n",
       "      <td>5888.734730</td>\n",
       "    </tr>\n",
       "  </tbody>\n",
       "</table>\n",
       "</div>"
      ],
      "text/plain": [
       "                      coefficients      coef_abs\n",
       "GrLivArea             13019.396602  13019.396602\n",
       "BsmtQual_Ex           10744.322805  10744.322805\n",
       "Neighborhood_NoRidge   9512.123168   9512.123168\n",
       "2ndFlrSF               9350.375835   9350.375835\n",
       "Neighborhood_NridgHt   9304.616940   9304.616940\n",
       "GarageCars             9212.008817   9212.008817\n",
       "1stFlrSF               6958.476738   6958.476738\n",
       "Neighborhood_StoneBr   6847.825035   6847.825035\n",
       "YearRemodAdd           6401.580656   6401.580656\n",
       "BsmtExposure_Gd        5888.734730   5888.734730"
      ]
     },
     "execution_count": 37,
     "metadata": {},
     "output_type": "execute_result"
    }
   ],
   "source": [
    "# collect the model coefficients in a dataframe\n",
    "df_coef = pd.DataFrame(model.coef_, index=X_train.columns,\n",
    "                       columns=['coefficients'])\n",
    "\n",
    "# calculate the absolute values of the coefficients to gauge influence (show importance of predictor variables)\n",
    "df_coef['coef_abs'] = df_coef.coefficients.abs()\n",
    "df_coef.sort_values(by = 'coef_abs', ascending = False)[:10]"
   ]
  },
  {
   "cell_type": "code",
   "execution_count": 38,
   "metadata": {
    "ExecuteTime": {
     "end_time": "2020-05-31T13:32:13.933475Z",
     "start_time": "2020-05-31T13:32:13.654170Z"
    },
    "hidden": true
   },
   "outputs": [
    {
     "data": {
      "image/png": "[encoded data removed]",
      "text/plain": [
       "<Figure size 432x288 with 1 Axes>"
      ]
     },
     "metadata": {
      "image/png": {
       "height": 248,
       "width": 474
      },
      "needs_background": "light"
     },
     "output_type": "display_data"
    }
   ],
   "source": [
    "df_coef['coefficients'].sort_values(ascending = False).head(5).plot(kind='barh');"
   ]
  },
  {
   "cell_type": "markdown",
   "metadata": {
    "hidden": true
   },
   "source": [
    "Greater amount of living area has the most correlation with a higher sale price, and Basement quality, neighborhood, and 2nd floor square footage also create greater sales prices."
   ]
  },
  {
   "cell_type": "markdown",
   "metadata": {},
   "source": [
    "#### Lasso CV Model"
   ]
  },
  {
   "cell_type": "code",
   "execution_count": null,
   "metadata": {
    "ExecuteTime": {
     "start_time": "2020-05-31T13:58:15.938Z"
    }
   },
   "outputs": [
    {
     "name": "stderr",
     "output_type": "stream",
     "text": [
      "/opt/anaconda3/lib/python3.7/site-packages/sklearn/linear_model/_coordinate_descent.py:472: ConvergenceWarning: Objective did not converge. You might want to increase the number of iterations. Duality gap: 469402980676.0861, tolerance: 653327368.6131212\n",
      "  tol, rng, random, positive)\n",
      "/opt/anaconda3/lib/python3.7/site-packages/sklearn/linear_model/_coordinate_descent.py:472: ConvergenceWarning: Objective did not converge. You might want to increase the number of iterations. Duality gap: 421931421419.17993, tolerance: 603476496.7681429\n",
      "  tol, rng, random, positive)\n",
      "/opt/anaconda3/lib/python3.7/site-packages/sklearn/linear_model/_coordinate_descent.py:472: ConvergenceWarning: Objective did not converge. You might want to increase the number of iterations. Duality gap: 445127317115.20404, tolerance: 690226050.284992\n",
      "  tol, rng, random, positive)\n",
      "/opt/anaconda3/lib/python3.7/site-packages/sklearn/linear_model/_coordinate_descent.py:472: ConvergenceWarning: Objective did not converge. You might want to increase the number of iterations. Duality gap: 322987834169.87244, tolerance: 625126681.6422287\n",
      "  tol, rng, random, positive)\n",
      "/opt/anaconda3/lib/python3.7/site-packages/sklearn/linear_model/_coordinate_descent.py:472: ConvergenceWarning: Objective did not converge. You might want to increase the number of iterations. Duality gap: 354319962109.72455, tolerance: 625126681.6422287\n",
      "  tol, rng, random, positive)\n",
      "/opt/anaconda3/lib/python3.7/site-packages/sklearn/linear_model/_coordinate_descent.py:472: ConvergenceWarning: Objective did not converge. You might want to increase the number of iterations. Duality gap: 319941130542.9407, tolerance: 502369327.9851828\n",
      "  tol, rng, random, positive)\n",
      "/opt/anaconda3/lib/python3.7/site-packages/sklearn/linear_model/_coordinate_descent.py:472: ConvergenceWarning: Objective did not converge. You might want to increase the number of iterations. Duality gap: 331063850243.80005, tolerance: 491297690.75953716\n",
      "  tol, rng, random, positive)\n",
      "/opt/anaconda3/lib/python3.7/site-packages/sklearn/linear_model/_coordinate_descent.py:472: ConvergenceWarning: Objective did not converge. You might want to increase the number of iterations. Duality gap: 369029044131.5106, tolerance: 556920887.6147184\n",
      "  tol, rng, random, positive)\n",
      "/opt/anaconda3/lib/python3.7/site-packages/sklearn/linear_model/_coordinate_descent.py:472: ConvergenceWarning: Objective did not converge. You might want to increase the number of iterations. Duality gap: 349094555646.3718, tolerance: 511731337.30800784\n",
      "  tol, rng, random, positive)\n",
      "/opt/anaconda3/lib/python3.7/site-packages/sklearn/linear_model/_coordinate_descent.py:472: ConvergenceWarning: Objective did not converge. You might want to increase the number of iterations. Duality gap: 308442363544.94073, tolerance: 550352257.0649558\n",
      "  tol, rng, random, positive)\n"
     ]
    }
   ],
   "source": [
    "model = LassoCV(alphas=np.logspace(-8, 8, 20), cv=5, max_iter = 1000000)\n",
    "# fit the model\n",
    "model.fit(X_train, y_train)\n",
    "\n",
    "# evaluate on the training set\n",
    "training_score = model.score(X_train, y_train)\n",
    "# evaluate on the test set\n",
    "test_score = model.score(X_test, y_test)\n",
    "\n",
    "#mean cv score on training data\n",
    "scores = cross_val_score(model, X_train, y_train, cv=5).mean()\n",
    "\n",
    "\n"
   ]
  },
  {
   "cell_type": "code",
   "execution_count": 138,
   "metadata": {
    "ExecuteTime": {
     "end_time": "2020-05-31T13:58:44.442068Z",
     "start_time": "2020-05-31T13:58:44.424765Z"
    }
   },
   "outputs": [
    {
     "data": {
      "text/html": [
       "<div>\n",
       "<style scoped>\n",
       "    .dataframe tbody tr th:only-of-type {\n",
       "        vertical-align: middle;\n",
       "    }\n",
       "\n",
       "    .dataframe tbody tr th {\n",
       "        vertical-align: top;\n",
       "    }\n",
       "\n",
       "    .dataframe thead th {\n",
       "        text-align: right;\n",
       "    }\n",
       "</style>\n",
       "<table border=\"1\" class=\"dataframe\">\n",
       "  <thead>\n",
       "    <tr style=\"text-align: right;\">\n",
       "      <th></th>\n",
       "      <th>LassoCV</th>\n",
       "    </tr>\n",
       "  </thead>\n",
       "  <tbody>\n",
       "    <tr>\n",
       "      <td>Training_Score</td>\n",
       "      <td>0.847027</td>\n",
       "    </tr>\n",
       "    <tr>\n",
       "      <td>Test_Score</td>\n",
       "      <td>0.862124</td>\n",
       "    </tr>\n",
       "    <tr>\n",
       "      <td>Mean_CV</td>\n",
       "      <td>0.814955</td>\n",
       "    </tr>\n",
       "  </tbody>\n",
       "</table>\n",
       "</div>"
      ],
      "text/plain": [
       "                 LassoCV\n",
       "Training_Score  0.847027\n",
       "Test_Score      0.862124\n",
       "Mean_CV         0.814955"
      ]
     },
     "execution_count": 138,
     "metadata": {},
     "output_type": "execute_result"
    }
   ],
   "source": [
    "score_series_lasso = pd.DataFrame([training_score, test_score, scores], index = ['Training_Score', 'Test_Score', 'Mean_CV'], \n",
    "                            columns = ['LassoCV'])\n",
    "score_series_lasso"
   ]
  },
  {
   "cell_type": "code",
   "execution_count": 139,
   "metadata": {
    "ExecuteTime": {
     "end_time": "2020-05-31T13:58:44.488962Z",
     "start_time": "2020-05-31T13:58:44.457097Z"
    }
   },
   "outputs": [
    {
     "data": {
      "text/html": [
       "<div>\n",
       "<style scoped>\n",
       "    .dataframe tbody tr th:only-of-type {\n",
       "        vertical-align: middle;\n",
       "    }\n",
       "\n",
       "    .dataframe tbody tr th {\n",
       "        vertical-align: top;\n",
       "    }\n",
       "\n",
       "    .dataframe thead th {\n",
       "        text-align: right;\n",
       "    }\n",
       "</style>\n",
       "<table border=\"1\" class=\"dataframe\">\n",
       "  <thead>\n",
       "    <tr style=\"text-align: right;\">\n",
       "      <th></th>\n",
       "      <th>coefficients</th>\n",
       "      <th>coef_abs</th>\n",
       "    </tr>\n",
       "  </thead>\n",
       "  <tbody>\n",
       "    <tr>\n",
       "      <td>GrLivArea</td>\n",
       "      <td>27704.261967</td>\n",
       "      <td>27704.261967</td>\n",
       "    </tr>\n",
       "    <tr>\n",
       "      <td>BsmtQual_Ex</td>\n",
       "      <td>12973.745499</td>\n",
       "      <td>12973.745499</td>\n",
       "    </tr>\n",
       "    <tr>\n",
       "      <td>Neighborhood_NridgHt</td>\n",
       "      <td>10401.410340</td>\n",
       "      <td>10401.410340</td>\n",
       "    </tr>\n",
       "    <tr>\n",
       "      <td>Neighborhood_NoRidge</td>\n",
       "      <td>10098.190258</td>\n",
       "      <td>10098.190258</td>\n",
       "    </tr>\n",
       "    <tr>\n",
       "      <td>GarageCars</td>\n",
       "      <td>8799.522901</td>\n",
       "      <td>8799.522901</td>\n",
       "    </tr>\n",
       "    <tr>\n",
       "      <td>YearRemodAdd</td>\n",
       "      <td>7375.372379</td>\n",
       "      <td>7375.372379</td>\n",
       "    </tr>\n",
       "    <tr>\n",
       "      <td>Neighborhood_StoneBr</td>\n",
       "      <td>7295.357408</td>\n",
       "      <td>7295.357408</td>\n",
       "    </tr>\n",
       "    <tr>\n",
       "      <td>YearBuilt</td>\n",
       "      <td>7000.081932</td>\n",
       "      <td>7000.081932</td>\n",
       "    </tr>\n",
       "    <tr>\n",
       "      <td>BldgType_1Fam</td>\n",
       "      <td>5801.708065</td>\n",
       "      <td>5801.708065</td>\n",
       "    </tr>\n",
       "    <tr>\n",
       "      <td>BsmtExposure_Gd</td>\n",
       "      <td>5330.994179</td>\n",
       "      <td>5330.994179</td>\n",
       "    </tr>\n",
       "  </tbody>\n",
       "</table>\n",
       "</div>"
      ],
      "text/plain": [
       "                      coefficients      coef_abs\n",
       "GrLivArea             27704.261967  27704.261967\n",
       "BsmtQual_Ex           12973.745499  12973.745499\n",
       "Neighborhood_NridgHt  10401.410340  10401.410340\n",
       "Neighborhood_NoRidge  10098.190258  10098.190258\n",
       "GarageCars             8799.522901   8799.522901\n",
       "YearRemodAdd           7375.372379   7375.372379\n",
       "Neighborhood_StoneBr   7295.357408   7295.357408\n",
       "YearBuilt              7000.081932   7000.081932\n",
       "BldgType_1Fam          5801.708065   5801.708065\n",
       "BsmtExposure_Gd        5330.994179   5330.994179"
      ]
     },
     "execution_count": 139,
     "metadata": {},
     "output_type": "execute_result"
    }
   ],
   "source": [
    "# collect the model coefficients in a dataframe\n",
    "df_coef = pd.DataFrame(model.coef_, index=X_train.columns,\n",
    "                       columns=['coefficients'])\n",
    "\n",
    "# calculate the absolute values of the coefficients to gauge influence (show importance of predictor variables)\n",
    "df_coef['coef_abs'] = df_coef.coefficients.abs()\n",
    "df_coef.sort_values(by = 'coef_abs', ascending = False)[:10]"
   ]
  },
  {
   "cell_type": "code",
   "execution_count": 140,
   "metadata": {
    "ExecuteTime": {
     "end_time": "2020-05-31T13:58:44.781959Z",
     "start_time": "2020-05-31T13:58:44.503796Z"
    }
   },
   "outputs": [
    {
     "data": {
      "image/png": "[encoded data removed]",
      "text/plain": [
       "<Figure size 432x288 with 1 Axes>"
      ]
     },
     "metadata": {
      "image/png": {
       "height": 248,
       "width": 474
      },
      "needs_background": "light"
     },
     "output_type": "display_data"
    }
   ],
   "source": [
    "df_coef['coefficients'].sort_values(ascending = False).head(5).plot(kind='barh');"
   ]
  },
  {
   "cell_type": "code",
   "execution_count": 141,
   "metadata": {
    "ExecuteTime": {
     "end_time": "2020-05-31T13:58:45.044322Z",
     "start_time": "2020-05-31T13:58:44.786053Z"
    }
   },
   "outputs": [
    {
     "data": {
      "image/png": "[encoded data removed]",
      "text/plain": [
       "<Figure size 432x288 with 1 Axes>"
      ]
     },
     "metadata": {
      "image/png": {
       "height": 248,
       "width": 478
      },
      "needs_background": "light"
     },
     "output_type": "display_data"
    }
   ],
   "source": [
    "df_coef['coefficients'].sort_values(ascending = True).head(5).plot(kind='barh');"
   ]
  },
  {
   "cell_type": "markdown",
   "metadata": {},
   "source": [
    "Similar to the Ridge model, greater amount of living area has the most correlation with a higher sale price, and Basement quality and neighborhood also create greater sales prices.\n"
   ]
  },
  {
   "cell_type": "markdown",
   "metadata": {
    "heading_collapsed": true
   },
   "source": [
    "#### Elastic Net CV Model \n",
    "\n"
   ]
  },
  {
   "cell_type": "code",
   "execution_count": 123,
   "metadata": {
    "ExecuteTime": {
     "end_time": "2020-05-31T13:44:34.243657Z",
     "start_time": "2020-05-31T13:43:45.876851Z"
    },
    "hidden": true
   },
   "outputs": [
    {
     "name": "stdout",
     "output_type": "stream",
     "text": [
      "Best alpha: 0.005994842503189409\n",
      "Best l1-ratio: 0.5\n"
     ]
    }
   ],
   "source": [
    "model = ElasticNetCV(alphas=np.logspace(-4, 4, 10), \n",
    "                     l1_ratio=np.array([.1, .5, .7, .9, .95, .99, 1]), max_iter = 100000,\n",
    "                     cv=5)\n",
    "# fit the model\n",
    "model.fit(X_train, y_train)\n",
    "# get the best alpha\n",
    "print('Best alpha:', model.alpha_)\n",
    "# get the best l1-ratio\n",
    "print('Best l1-ratio:', model.l1_ratio_)\n",
    "\n",
    "# evaluate on the training set\n",
    "training_score = model.score(X_train, y_train)\n",
    "# evaluate on the test set\n",
    "test_score = model.score(X_test, y_test)\n",
    "\n",
    "#mean cv score on training data\n",
    "scores = cross_val_score(model, X_train, y_train, cv=5).mean()"
   ]
  },
  {
   "cell_type": "code",
   "execution_count": 44,
   "metadata": {
    "ExecuteTime": {
     "end_time": "2020-05-31T13:32:33.396580Z",
     "start_time": "2020-05-31T13:32:33.374916Z"
    },
    "hidden": true
   },
   "outputs": [
    {
     "data": {
      "text/html": [
       "<div>\n",
       "<style scoped>\n",
       "    .dataframe tbody tr th:only-of-type {\n",
       "        vertical-align: middle;\n",
       "    }\n",
       "\n",
       "    .dataframe tbody tr th {\n",
       "        vertical-align: top;\n",
       "    }\n",
       "\n",
       "    .dataframe thead th {\n",
       "        text-align: right;\n",
       "    }\n",
       "</style>\n",
       "<table border=\"1\" class=\"dataframe\">\n",
       "  <thead>\n",
       "    <tr style=\"text-align: right;\">\n",
       "      <th></th>\n",
       "      <th>ElasticNetCV</th>\n",
       "    </tr>\n",
       "  </thead>\n",
       "  <tbody>\n",
       "    <tr>\n",
       "      <td>Training_Score</td>\n",
       "      <td>0.841846</td>\n",
       "    </tr>\n",
       "    <tr>\n",
       "      <td>Test_Score</td>\n",
       "      <td>0.858648</td>\n",
       "    </tr>\n",
       "    <tr>\n",
       "      <td>Mean_CV</td>\n",
       "      <td>0.812159</td>\n",
       "    </tr>\n",
       "  </tbody>\n",
       "</table>\n",
       "</div>"
      ],
      "text/plain": [
       "                ElasticNetCV\n",
       "Training_Score      0.841846\n",
       "Test_Score          0.858648\n",
       "Mean_CV             0.812159"
      ]
     },
     "execution_count": 44,
     "metadata": {},
     "output_type": "execute_result"
    }
   ],
   "source": [
    "score_series_elastic = pd.DataFrame([training_score, test_score, scores], index = ['Training_Score', 'Test_Score', 'Mean_CV'], \n",
    "                            columns = ['ElasticNetCV'])\n",
    "score_series_elastic"
   ]
  },
  {
   "cell_type": "code",
   "execution_count": 45,
   "metadata": {
    "ExecuteTime": {
     "end_time": "2020-05-31T13:32:33.422805Z",
     "start_time": "2020-05-31T13:32:33.401411Z"
    },
    "hidden": true
   },
   "outputs": [
    {
     "data": {
      "text/html": [
       "<div>\n",
       "<style scoped>\n",
       "    .dataframe tbody tr th:only-of-type {\n",
       "        vertical-align: middle;\n",
       "    }\n",
       "\n",
       "    .dataframe tbody tr th {\n",
       "        vertical-align: top;\n",
       "    }\n",
       "\n",
       "    .dataframe thead th {\n",
       "        text-align: right;\n",
       "    }\n",
       "</style>\n",
       "<table border=\"1\" class=\"dataframe\">\n",
       "  <thead>\n",
       "    <tr style=\"text-align: right;\">\n",
       "      <th></th>\n",
       "      <th>coefficients</th>\n",
       "      <th>coef_abs</th>\n",
       "    </tr>\n",
       "  </thead>\n",
       "  <tbody>\n",
       "    <tr>\n",
       "      <td>GrLivArea</td>\n",
       "      <td>26949.028493</td>\n",
       "      <td>26949.028493</td>\n",
       "    </tr>\n",
       "    <tr>\n",
       "      <td>BsmtQual_Ex</td>\n",
       "      <td>12986.633694</td>\n",
       "      <td>12986.633694</td>\n",
       "    </tr>\n",
       "    <tr>\n",
       "      <td>Neighborhood_NridgHt</td>\n",
       "      <td>9855.450715</td>\n",
       "      <td>9855.450715</td>\n",
       "    </tr>\n",
       "    <tr>\n",
       "      <td>Neighborhood_NoRidge</td>\n",
       "      <td>9770.889395</td>\n",
       "      <td>9770.889395</td>\n",
       "    </tr>\n",
       "    <tr>\n",
       "      <td>GarageCars</td>\n",
       "      <td>9126.048686</td>\n",
       "      <td>9126.048686</td>\n",
       "    </tr>\n",
       "    <tr>\n",
       "      <td>YearRemodAdd</td>\n",
       "      <td>7695.916143</td>\n",
       "      <td>7695.916143</td>\n",
       "    </tr>\n",
       "    <tr>\n",
       "      <td>YearBuilt</td>\n",
       "      <td>7536.289888</td>\n",
       "      <td>7536.289888</td>\n",
       "    </tr>\n",
       "    <tr>\n",
       "      <td>Neighborhood_StoneBr</td>\n",
       "      <td>6930.521612</td>\n",
       "      <td>6930.521612</td>\n",
       "    </tr>\n",
       "    <tr>\n",
       "      <td>BldgType_1Fam</td>\n",
       "      <td>5911.462307</td>\n",
       "      <td>5911.462307</td>\n",
       "    </tr>\n",
       "    <tr>\n",
       "      <td>TotalBsmtSF</td>\n",
       "      <td>5685.688340</td>\n",
       "      <td>5685.688340</td>\n",
       "    </tr>\n",
       "  </tbody>\n",
       "</table>\n",
       "</div>"
      ],
      "text/plain": [
       "                      coefficients      coef_abs\n",
       "GrLivArea             26949.028493  26949.028493\n",
       "BsmtQual_Ex           12986.633694  12986.633694\n",
       "Neighborhood_NridgHt   9855.450715   9855.450715\n",
       "Neighborhood_NoRidge   9770.889395   9770.889395\n",
       "GarageCars             9126.048686   9126.048686\n",
       "YearRemodAdd           7695.916143   7695.916143\n",
       "YearBuilt              7536.289888   7536.289888\n",
       "Neighborhood_StoneBr   6930.521612   6930.521612\n",
       "BldgType_1Fam          5911.462307   5911.462307\n",
       "TotalBsmtSF            5685.688340   5685.688340"
      ]
     },
     "execution_count": 45,
     "metadata": {},
     "output_type": "execute_result"
    }
   ],
   "source": [
    "# collect the model coefficients in a dataframe\n",
    "df_coef = pd.DataFrame(model.coef_, index=X_train.columns,\n",
    "                       columns=['coefficients'])\n",
    "\n",
    "# calculate the absolute values of the coefficients to gauge influence (show importance of predictor variables)\n",
    "df_coef['coef_abs'] = df_coef.coefficients.abs()\n",
    "df_coef.sort_values(by = 'coef_abs', ascending = False)[:10]"
   ]
  },
  {
   "cell_type": "code",
   "execution_count": 46,
   "metadata": {
    "ExecuteTime": {
     "end_time": "2020-05-31T13:32:33.687312Z",
     "start_time": "2020-05-31T13:32:33.427343Z"
    },
    "hidden": true
   },
   "outputs": [
    {
     "data": {
      "image/png": "[encoded data removed]",
      "text/plain": [
       "<Figure size 432x288 with 1 Axes>"
      ]
     },
     "metadata": {
      "image/png": {
       "height": 248,
       "width": 474
      },
      "needs_background": "light"
     },
     "output_type": "display_data"
    }
   ],
   "source": [
    "df_coef['coefficients'].sort_values(ascending = False).head(5).plot(kind='barh');"
   ]
  },
  {
   "cell_type": "markdown",
   "metadata": {
    "hidden": true
   },
   "source": [
    "Similar to the previous models, Elastic Net shows that the  amount of living area has the most correlation with a higher sale price, and Basement quality, neighborhood, and garage size also create greater sales prices.\n",
    "\n"
   ]
  },
  {
   "cell_type": "markdown",
   "metadata": {
    "heading_collapsed": true
   },
   "source": [
    "#### Compare Model Scores in DataFrame format\n",
    "Lasso has the highest mean cv score, so it is currently the best model"
   ]
  },
  {
   "cell_type": "code",
   "execution_count": 47,
   "metadata": {
    "ExecuteTime": {
     "end_time": "2020-05-31T13:32:33.720351Z",
     "start_time": "2020-05-31T13:32:33.691753Z"
    },
    "hidden": true
   },
   "outputs": [
    {
     "data": {
      "text/html": [
       "<div>\n",
       "<style scoped>\n",
       "    .dataframe tbody tr th:only-of-type {\n",
       "        vertical-align: middle;\n",
       "    }\n",
       "\n",
       "    .dataframe tbody tr th {\n",
       "        vertical-align: top;\n",
       "    }\n",
       "\n",
       "    .dataframe thead th {\n",
       "        text-align: right;\n",
       "    }\n",
       "</style>\n",
       "<table border=\"1\" class=\"dataframe\">\n",
       "  <thead>\n",
       "    <tr style=\"text-align: right;\">\n",
       "      <th></th>\n",
       "      <th>ElasticNetCV</th>\n",
       "      <th>RidgeCV</th>\n",
       "      <th>LassoCV</th>\n",
       "    </tr>\n",
       "  </thead>\n",
       "  <tbody>\n",
       "    <tr>\n",
       "      <td>Training_Score</td>\n",
       "      <td>0.841846</td>\n",
       "      <td>0.854696</td>\n",
       "      <td>0.847027</td>\n",
       "    </tr>\n",
       "    <tr>\n",
       "      <td>Test_Score</td>\n",
       "      <td>0.858648</td>\n",
       "      <td>0.863839</td>\n",
       "      <td>0.862124</td>\n",
       "    </tr>\n",
       "    <tr>\n",
       "      <td>Mean_CV</td>\n",
       "      <td>0.812159</td>\n",
       "      <td>0.803226</td>\n",
       "      <td>0.814955</td>\n",
       "    </tr>\n",
       "  </tbody>\n",
       "</table>\n",
       "</div>"
      ],
      "text/plain": [
       "                ElasticNetCV   RidgeCV   LassoCV\n",
       "Training_Score      0.841846  0.854696  0.847027\n",
       "Test_Score          0.858648  0.863839  0.862124\n",
       "Mean_CV             0.812159  0.803226  0.814955"
      ]
     },
     "execution_count": 47,
     "metadata": {},
     "output_type": "execute_result"
    }
   ],
   "source": [
    "# Merge three Dataframes to compare scores\n",
    "mergedDf = score_series_elastic.merge(score_series_ridge, left_index=True, right_index=True)\n",
    "mergedDf = mergedDf.merge(score_series_lasso, left_index = True, right_index = True)\n",
    "mergedDf"
   ]
  },
  {
   "cell_type": "markdown",
   "metadata": {
    "heading_collapsed": true
   },
   "source": [
    "### Modelling With the Log of y"
   ]
  },
  {
   "cell_type": "code",
   "execution_count": 48,
   "metadata": {
    "ExecuteTime": {
     "end_time": "2020-05-31T13:32:33.749475Z",
     "start_time": "2020-05-31T13:32:33.730236Z"
    },
    "hidden": true
   },
   "outputs": [],
   "source": [
    "#try to take log of y \n",
    "log_y_train = np.log(y_train)\n",
    "log_y_test = np.log(y_test)\n"
   ]
  },
  {
   "cell_type": "markdown",
   "metadata": {
    "heading_collapsed": true,
    "hidden": true
   },
   "source": [
    "#### Ridge CV Model (taking the log of y)"
   ]
  },
  {
   "cell_type": "code",
   "execution_count": 49,
   "metadata": {
    "ExecuteTime": {
     "end_time": "2020-05-31T13:32:46.315827Z",
     "start_time": "2020-05-31T13:32:33.758549Z"
    },
    "hidden": true
   },
   "outputs": [
    {
     "name": "stderr",
     "output_type": "stream",
     "text": [
      "/opt/anaconda3/lib/python3.7/site-packages/sklearn/linear_model/_ridge.py:148: LinAlgWarning: Ill-conditioned matrix (rcond=2.99246e-18): result may not be accurate.\n",
      "  overwrite_a=True).T\n",
      "/opt/anaconda3/lib/python3.7/site-packages/sklearn/linear_model/_ridge.py:148: LinAlgWarning: Ill-conditioned matrix (rcond=8.0908e-18): result may not be accurate.\n",
      "  overwrite_a=True).T\n",
      "/opt/anaconda3/lib/python3.7/site-packages/sklearn/linear_model/_ridge.py:148: LinAlgWarning: Ill-conditioned matrix (rcond=3.19018e-18): result may not be accurate.\n",
      "  overwrite_a=True).T\n"
     ]
    }
   ],
   "source": [
    "# create a RidgeCV model instance\n",
    "model = RidgeCV(alphas=np.logspace(-20, 20, 50), cv=5)\n",
    "# fit the model\n",
    "model.fit(X_train, log_y_train)\n",
    "\n",
    "# evaluate on the training set\n",
    "training_score = model.score(X_train, log_y_train)\n",
    "# evaluate on the test set\n",
    "test_score = model.score(X_test, log_y_test)\n",
    "\n",
    "#mean cv score on training data\n",
    "scores = cross_val_score(model, X_train, log_y_train, cv=5).mean()"
   ]
  },
  {
   "cell_type": "code",
   "execution_count": 50,
   "metadata": {
    "ExecuteTime": {
     "end_time": "2020-05-31T13:32:46.330637Z",
     "start_time": "2020-05-31T13:32:46.318699Z"
    },
    "hidden": true
   },
   "outputs": [
    {
     "data": {
      "text/html": [
       "<div>\n",
       "<style scoped>\n",
       "    .dataframe tbody tr th:only-of-type {\n",
       "        vertical-align: middle;\n",
       "    }\n",
       "\n",
       "    .dataframe tbody tr th {\n",
       "        vertical-align: top;\n",
       "    }\n",
       "\n",
       "    .dataframe thead th {\n",
       "        text-align: right;\n",
       "    }\n",
       "</style>\n",
       "<table border=\"1\" class=\"dataframe\">\n",
       "  <thead>\n",
       "    <tr style=\"text-align: right;\">\n",
       "      <th></th>\n",
       "      <th>RidgeCV_log</th>\n",
       "    </tr>\n",
       "  </thead>\n",
       "  <tbody>\n",
       "    <tr>\n",
       "      <td>Training_Score</td>\n",
       "      <td>0.880928</td>\n",
       "    </tr>\n",
       "    <tr>\n",
       "      <td>Test_Score</td>\n",
       "      <td>0.889633</td>\n",
       "    </tr>\n",
       "    <tr>\n",
       "      <td>Mean_CV</td>\n",
       "      <td>0.841501</td>\n",
       "    </tr>\n",
       "  </tbody>\n",
       "</table>\n",
       "</div>"
      ],
      "text/plain": [
       "                RidgeCV_log\n",
       "Training_Score     0.880928\n",
       "Test_Score         0.889633\n",
       "Mean_CV            0.841501"
      ]
     },
     "execution_count": 50,
     "metadata": {},
     "output_type": "execute_result"
    }
   ],
   "source": [
    "score_series_ridge_log = pd.DataFrame([training_score, test_score, scores], index = ['Training_Score', 'Test_Score', 'Mean_CV'], \n",
    "                            columns = ['RidgeCV_log'])\n",
    "score_series_ridge_log"
   ]
  },
  {
   "cell_type": "code",
   "execution_count": 51,
   "metadata": {
    "ExecuteTime": {
     "end_time": "2020-05-31T13:32:46.355771Z",
     "start_time": "2020-05-31T13:32:46.335242Z"
    },
    "hidden": true
   },
   "outputs": [
    {
     "data": {
      "text/html": [
       "<div>\n",
       "<style scoped>\n",
       "    .dataframe tbody tr th:only-of-type {\n",
       "        vertical-align: middle;\n",
       "    }\n",
       "\n",
       "    .dataframe tbody tr th {\n",
       "        vertical-align: top;\n",
       "    }\n",
       "\n",
       "    .dataframe thead th {\n",
       "        text-align: right;\n",
       "    }\n",
       "</style>\n",
       "<table border=\"1\" class=\"dataframe\">\n",
       "  <thead>\n",
       "    <tr style=\"text-align: right;\">\n",
       "      <th></th>\n",
       "      <th>coefficients</th>\n",
       "      <th>coef_abs</th>\n",
       "    </tr>\n",
       "  </thead>\n",
       "  <tbody>\n",
       "    <tr>\n",
       "      <td>GrLivArea</td>\n",
       "      <td>0.054763</td>\n",
       "      <td>0.054763</td>\n",
       "    </tr>\n",
       "    <tr>\n",
       "      <td>YearRemodAdd</td>\n",
       "      <td>0.047326</td>\n",
       "      <td>0.047326</td>\n",
       "    </tr>\n",
       "    <tr>\n",
       "      <td>GarageCars</td>\n",
       "      <td>0.047325</td>\n",
       "      <td>0.047325</td>\n",
       "    </tr>\n",
       "    <tr>\n",
       "      <td>Fireplaces</td>\n",
       "      <td>0.035080</td>\n",
       "      <td>0.035080</td>\n",
       "    </tr>\n",
       "    <tr>\n",
       "      <td>2ndFlrSF</td>\n",
       "      <td>0.034691</td>\n",
       "      <td>0.034691</td>\n",
       "    </tr>\n",
       "    <tr>\n",
       "      <td>Neighborhood_NridgHt</td>\n",
       "      <td>0.034555</td>\n",
       "      <td>0.034555</td>\n",
       "    </tr>\n",
       "    <tr>\n",
       "      <td>1stFlrSF</td>\n",
       "      <td>0.032657</td>\n",
       "      <td>0.032657</td>\n",
       "    </tr>\n",
       "    <tr>\n",
       "      <td>FullBath</td>\n",
       "      <td>0.029360</td>\n",
       "      <td>0.029360</td>\n",
       "    </tr>\n",
       "    <tr>\n",
       "      <td>BsmtQual_Ex</td>\n",
       "      <td>0.028816</td>\n",
       "      <td>0.028816</td>\n",
       "    </tr>\n",
       "    <tr>\n",
       "      <td>YearBuilt</td>\n",
       "      <td>0.028681</td>\n",
       "      <td>0.028681</td>\n",
       "    </tr>\n",
       "  </tbody>\n",
       "</table>\n",
       "</div>"
      ],
      "text/plain": [
       "                      coefficients  coef_abs\n",
       "GrLivArea                 0.054763  0.054763\n",
       "YearRemodAdd              0.047326  0.047326\n",
       "GarageCars                0.047325  0.047325\n",
       "Fireplaces                0.035080  0.035080\n",
       "2ndFlrSF                  0.034691  0.034691\n",
       "Neighborhood_NridgHt      0.034555  0.034555\n",
       "1stFlrSF                  0.032657  0.032657\n",
       "FullBath                  0.029360  0.029360\n",
       "BsmtQual_Ex               0.028816  0.028816\n",
       "YearBuilt                 0.028681  0.028681"
      ]
     },
     "execution_count": 51,
     "metadata": {},
     "output_type": "execute_result"
    }
   ],
   "source": [
    "# collect the model coefficients in a dataframe\n",
    "df_coef = pd.DataFrame(model.coef_, index=X_train.columns,\n",
    "                       columns=['coefficients'])\n",
    "\n",
    "# calculate the absolute values of the coefficients to gauge influence (show importance of predictor variables)\n",
    "df_coef['coef_abs'] = df_coef.coefficients.abs()\n",
    "df_coef.sort_values(by = 'coef_abs', ascending = False)[:10]"
   ]
  },
  {
   "cell_type": "code",
   "execution_count": 52,
   "metadata": {
    "ExecuteTime": {
     "end_time": "2020-05-31T13:32:46.596671Z",
     "start_time": "2020-05-31T13:32:46.360167Z"
    },
    "hidden": true
   },
   "outputs": [
    {
     "data": {
      "image/png": "[encoded data removed]",
      "text/plain": [
       "<Figure size 432x288 with 1 Axes>"
      ]
     },
     "metadata": {
      "image/png": {
       "height": 248,
       "width": 433
      },
      "needs_background": "light"
     },
     "output_type": "display_data"
    }
   ],
   "source": [
    "df_coef['coefficients'].sort_values(ascending = False).head(5).plot(kind='barh');"
   ]
  },
  {
   "cell_type": "markdown",
   "metadata": {
    "hidden": true
   },
   "source": [
    "In this model, amount of living space, the year a remodel or addition was completed, number of cars that fit in the garage, and number of fireplaces have the greatest impact on the sale price of the home."
   ]
  },
  {
   "cell_type": "markdown",
   "metadata": {
    "heading_collapsed": true,
    "hidden": true
   },
   "source": [
    "#### Lasso CV Model (log of y)"
   ]
  },
  {
   "cell_type": "code",
   "execution_count": 53,
   "metadata": {
    "ExecuteTime": {
     "end_time": "2020-05-31T13:32:48.975565Z",
     "start_time": "2020-05-31T13:32:46.601096Z"
    },
    "hidden": true
   },
   "outputs": [
    {
     "name": "stderr",
     "output_type": "stream",
     "text": [
      "/opt/anaconda3/lib/python3.7/site-packages/sklearn/linear_model/_coordinate_descent.py:472: ConvergenceWarning: Objective did not converge. You might want to increase the number of iterations. Duality gap: 5.258335119495554, tolerance: 0.015903091370587694\n",
      "  tol, rng, random, positive)\n",
      "/opt/anaconda3/lib/python3.7/site-packages/sklearn/linear_model/_coordinate_descent.py:472: ConvergenceWarning: Objective did not converge. You might want to increase the number of iterations. Duality gap: 8.566097749675825, tolerance: 0.015903091370587694\n",
      "  tol, rng, random, positive)\n",
      "/opt/anaconda3/lib/python3.7/site-packages/sklearn/linear_model/_coordinate_descent.py:472: ConvergenceWarning: Objective did not converge. You might want to increase the number of iterations. Duality gap: 9.373235197390187, tolerance: 0.015903091370587694\n",
      "  tol, rng, random, positive)\n",
      "/opt/anaconda3/lib/python3.7/site-packages/sklearn/linear_model/_coordinate_descent.py:472: ConvergenceWarning: Objective did not converge. You might want to increase the number of iterations. Duality gap: 9.59328949010473, tolerance: 0.015903091370587694\n",
      "  tol, rng, random, positive)\n",
      "/opt/anaconda3/lib/python3.7/site-packages/sklearn/linear_model/_coordinate_descent.py:472: ConvergenceWarning: Objective did not converge. You might want to increase the number of iterations. Duality gap: 9.655229534073717, tolerance: 0.015903091370587694\n",
      "  tol, rng, random, positive)\n",
      "/opt/anaconda3/lib/python3.7/site-packages/sklearn/linear_model/_coordinate_descent.py:472: ConvergenceWarning: Objective did not converge. You might want to increase the number of iterations. Duality gap: 4.49691956219602, tolerance: 0.014940332747390137\n",
      "  tol, rng, random, positive)\n",
      "/opt/anaconda3/lib/python3.7/site-packages/sklearn/linear_model/_coordinate_descent.py:472: ConvergenceWarning: Objective did not converge. You might want to increase the number of iterations. Duality gap: 7.269332983715433, tolerance: 0.014940332747390137\n",
      "  tol, rng, random, positive)\n",
      "/opt/anaconda3/lib/python3.7/site-packages/sklearn/linear_model/_coordinate_descent.py:472: ConvergenceWarning: Objective did not converge. You might want to increase the number of iterations. Duality gap: 7.924675611525779, tolerance: 0.014940332747390137\n",
      "  tol, rng, random, positive)\n",
      "/opt/anaconda3/lib/python3.7/site-packages/sklearn/linear_model/_coordinate_descent.py:472: ConvergenceWarning: Objective did not converge. You might want to increase the number of iterations. Duality gap: 8.09803518600468, tolerance: 0.014940332747390137\n",
      "  tol, rng, random, positive)\n",
      "/opt/anaconda3/lib/python3.7/site-packages/sklearn/linear_model/_coordinate_descent.py:472: ConvergenceWarning: Objective did not converge. You might want to increase the number of iterations. Duality gap: 8.145752432261977, tolerance: 0.014940332747390137\n",
      "  tol, rng, random, positive)\n",
      "/opt/anaconda3/lib/python3.7/site-packages/sklearn/linear_model/_coordinate_descent.py:472: ConvergenceWarning: Objective did not converge. You might want to increase the number of iterations. Duality gap: 3.2376412364096243, tolerance: 0.015418398857549096\n",
      "  tol, rng, random, positive)\n",
      "/opt/anaconda3/lib/python3.7/site-packages/sklearn/linear_model/_coordinate_descent.py:472: ConvergenceWarning: Objective did not converge. You might want to increase the number of iterations. Duality gap: 7.519049648023831, tolerance: 0.015418398857549096\n",
      "  tol, rng, random, positive)\n",
      "/opt/anaconda3/lib/python3.7/site-packages/sklearn/linear_model/_coordinate_descent.py:472: ConvergenceWarning: Objective did not converge. You might want to increase the number of iterations. Duality gap: 8.487200364066048, tolerance: 0.015418398857549096\n",
      "  tol, rng, random, positive)\n",
      "/opt/anaconda3/lib/python3.7/site-packages/sklearn/linear_model/_coordinate_descent.py:472: ConvergenceWarning: Objective did not converge. You might want to increase the number of iterations. Duality gap: 8.73711976075828, tolerance: 0.015418398857549096\n",
      "  tol, rng, random, positive)\n",
      "/opt/anaconda3/lib/python3.7/site-packages/sklearn/linear_model/_coordinate_descent.py:472: ConvergenceWarning: Objective did not converge. You might want to increase the number of iterations. Duality gap: 8.804324415448287, tolerance: 0.015418398857549096\n",
      "  tol, rng, random, positive)\n",
      "/opt/anaconda3/lib/python3.7/site-packages/sklearn/linear_model/_coordinate_descent.py:472: ConvergenceWarning: Objective did not converge. You might want to increase the number of iterations. Duality gap: 2.5757589232288467, tolerance: 0.01631153149125455\n",
      "  tol, rng, random, positive)\n",
      "/opt/anaconda3/lib/python3.7/site-packages/sklearn/linear_model/_coordinate_descent.py:472: ConvergenceWarning: Objective did not converge. You might want to increase the number of iterations. Duality gap: 7.770641646676573, tolerance: 0.01631153149125455\n",
      "  tol, rng, random, positive)\n",
      "/opt/anaconda3/lib/python3.7/site-packages/sklearn/linear_model/_coordinate_descent.py:472: ConvergenceWarning: Objective did not converge. You might want to increase the number of iterations. Duality gap: 9.00007130975421, tolerance: 0.01631153149125455\n",
      "  tol, rng, random, positive)\n",
      "/opt/anaconda3/lib/python3.7/site-packages/sklearn/linear_model/_coordinate_descent.py:472: ConvergenceWarning: Objective did not converge. You might want to increase the number of iterations. Duality gap: 9.335110604524349, tolerance: 0.01631153149125455\n",
      "  tol, rng, random, positive)\n",
      "/opt/anaconda3/lib/python3.7/site-packages/sklearn/linear_model/_coordinate_descent.py:472: ConvergenceWarning: Objective did not converge. You might want to increase the number of iterations. Duality gap: 9.43111333393594, tolerance: 0.01631153149125455\n",
      "  tol, rng, random, positive)\n",
      "/opt/anaconda3/lib/python3.7/site-packages/sklearn/linear_model/_coordinate_descent.py:472: ConvergenceWarning: Objective did not converge. You might want to increase the number of iterations. Duality gap: 0.9895767236217861, tolerance: 0.01569787937889644\n",
      "  tol, rng, random, positive)\n",
      "/opt/anaconda3/lib/python3.7/site-packages/sklearn/linear_model/_coordinate_descent.py:472: ConvergenceWarning: Objective did not converge. You might want to increase the number of iterations. Duality gap: 6.316140123094731, tolerance: 0.01569787937889644\n",
      "  tol, rng, random, positive)\n",
      "/opt/anaconda3/lib/python3.7/site-packages/sklearn/linear_model/_coordinate_descent.py:472: ConvergenceWarning: Objective did not converge. You might want to increase the number of iterations. Duality gap: 7.486838912737328, tolerance: 0.01569787937889644\n",
      "  tol, rng, random, positive)\n",
      "/opt/anaconda3/lib/python3.7/site-packages/sklearn/linear_model/_coordinate_descent.py:472: ConvergenceWarning: Objective did not converge. You might want to increase the number of iterations. Duality gap: 7.7824147942421025, tolerance: 0.01569787937889644\n",
      "  tol, rng, random, positive)\n",
      "/opt/anaconda3/lib/python3.7/site-packages/sklearn/linear_model/_coordinate_descent.py:472: ConvergenceWarning: Objective did not converge. You might want to increase the number of iterations. Duality gap: 7.861479519685767, tolerance: 0.01569787937889644\n",
      "  tol, rng, random, positive)\n",
      "/opt/anaconda3/lib/python3.7/site-packages/sklearn/linear_model/_coordinate_descent.py:472: ConvergenceWarning: Objective did not converge. You might want to increase the number of iterations. Duality gap: 3.975542050701227, tolerance: 0.012085963937666694\n",
      "  tol, rng, random, positive)\n",
      "/opt/anaconda3/lib/python3.7/site-packages/sklearn/linear_model/_coordinate_descent.py:472: ConvergenceWarning: Objective did not converge. You might want to increase the number of iterations. Duality gap: 6.167693713990107, tolerance: 0.012085963937666694\n",
      "  tol, rng, random, positive)\n",
      "/opt/anaconda3/lib/python3.7/site-packages/sklearn/linear_model/_coordinate_descent.py:472: ConvergenceWarning: Objective did not converge. You might want to increase the number of iterations. Duality gap: 6.688028371748642, tolerance: 0.012085963937666694\n",
      "  tol, rng, random, positive)\n",
      "/opt/anaconda3/lib/python3.7/site-packages/sklearn/linear_model/_coordinate_descent.py:472: ConvergenceWarning: Objective did not converge. You might want to increase the number of iterations. Duality gap: 6.824865763359459, tolerance: 0.012085963937666694\n",
      "  tol, rng, random, positive)\n",
      "/opt/anaconda3/lib/python3.7/site-packages/sklearn/linear_model/_coordinate_descent.py:472: ConvergenceWarning: Objective did not converge. You might want to increase the number of iterations. Duality gap: 6.861875921159969, tolerance: 0.012085963937666694\n",
      "  tol, rng, random, positive)\n",
      "/opt/anaconda3/lib/python3.7/site-packages/sklearn/linear_model/_coordinate_descent.py:472: ConvergenceWarning: Objective did not converge. You might want to increase the number of iterations. Duality gap: 0.019230411081863963, tolerance: 0.012123855709745926\n",
      "  tol, rng, random, positive)\n",
      "/opt/anaconda3/lib/python3.7/site-packages/sklearn/linear_model/_coordinate_descent.py:472: ConvergenceWarning: Objective did not converge. You might want to increase the number of iterations. Duality gap: 3.5726537229902045, tolerance: 0.012123855709745926\n",
      "  tol, rng, random, positive)\n",
      "/opt/anaconda3/lib/python3.7/site-packages/sklearn/linear_model/_coordinate_descent.py:472: ConvergenceWarning: Objective did not converge. You might want to increase the number of iterations. Duality gap: 6.217302232559614, tolerance: 0.012123855709745926\n",
      "  tol, rng, random, positive)\n",
      "/opt/anaconda3/lib/python3.7/site-packages/sklearn/linear_model/_coordinate_descent.py:472: ConvergenceWarning: Objective did not converge. You might want to increase the number of iterations. Duality gap: 6.871685151911671, tolerance: 0.012123855709745926\n",
      "  tol, rng, random, positive)\n",
      "/opt/anaconda3/lib/python3.7/site-packages/sklearn/linear_model/_coordinate_descent.py:472: ConvergenceWarning: Objective did not converge. You might want to increase the number of iterations. Duality gap: 7.0513383915924654, tolerance: 0.012123855709745926\n",
      "  tol, rng, random, positive)\n",
      "/opt/anaconda3/lib/python3.7/site-packages/sklearn/linear_model/_coordinate_descent.py:472: ConvergenceWarning: Objective did not converge. You might want to increase the number of iterations. Duality gap: 7.101898991328639, tolerance: 0.012123855709745926\n",
      "  tol, rng, random, positive)\n",
      "/opt/anaconda3/lib/python3.7/site-packages/sklearn/linear_model/_coordinate_descent.py:472: ConvergenceWarning: Objective did not converge. You might want to increase the number of iterations. Duality gap: 2.2927968375848398, tolerance: 0.013463972138981123\n",
      "  tol, rng, random, positive)\n"
     ]
    },
    {
     "name": "stderr",
     "output_type": "stream",
     "text": [
      "/opt/anaconda3/lib/python3.7/site-packages/sklearn/linear_model/_coordinate_descent.py:472: ConvergenceWarning: Objective did not converge. You might want to increase the number of iterations. Duality gap: 6.733084593354672, tolerance: 0.013463972138981123\n",
      "  tol, rng, random, positive)\n",
      "/opt/anaconda3/lib/python3.7/site-packages/sklearn/linear_model/_coordinate_descent.py:472: ConvergenceWarning: Objective did not converge. You might want to increase the number of iterations. Duality gap: 7.739697014584274, tolerance: 0.013463972138981123\n",
      "  tol, rng, random, positive)\n",
      "/opt/anaconda3/lib/python3.7/site-packages/sklearn/linear_model/_coordinate_descent.py:472: ConvergenceWarning: Objective did not converge. You might want to increase the number of iterations. Duality gap: 8.003163015414824, tolerance: 0.013463972138981123\n",
      "  tol, rng, random, positive)\n",
      "/opt/anaconda3/lib/python3.7/site-packages/sklearn/linear_model/_coordinate_descent.py:472: ConvergenceWarning: Objective did not converge. You might want to increase the number of iterations. Duality gap: 8.075531093665772, tolerance: 0.013463972138981123\n",
      "  tol, rng, random, positive)\n",
      "/opt/anaconda3/lib/python3.7/site-packages/sklearn/linear_model/_coordinate_descent.py:472: ConvergenceWarning: Objective did not converge. You might want to increase the number of iterations. Duality gap: 0.037513137953958164, tolerance: 0.012921918080449735\n",
      "  tol, rng, random, positive)\n",
      "/opt/anaconda3/lib/python3.7/site-packages/sklearn/linear_model/_coordinate_descent.py:472: ConvergenceWarning: Objective did not converge. You might want to increase the number of iterations. Duality gap: 4.950647877427871, tolerance: 0.012921918080449735\n",
      "  tol, rng, random, positive)\n",
      "/opt/anaconda3/lib/python3.7/site-packages/sklearn/linear_model/_coordinate_descent.py:472: ConvergenceWarning: Objective did not converge. You might want to increase the number of iterations. Duality gap: 7.251603420283095, tolerance: 0.012921918080449735\n",
      "  tol, rng, random, positive)\n",
      "/opt/anaconda3/lib/python3.7/site-packages/sklearn/linear_model/_coordinate_descent.py:472: ConvergenceWarning: Objective did not converge. You might want to increase the number of iterations. Duality gap: 7.8304362228489275, tolerance: 0.012921918080449735\n",
      "  tol, rng, random, positive)\n",
      "/opt/anaconda3/lib/python3.7/site-packages/sklearn/linear_model/_coordinate_descent.py:472: ConvergenceWarning: Objective did not converge. You might want to increase the number of iterations. Duality gap: 7.9914825473324935, tolerance: 0.012921918080449735\n",
      "  tol, rng, random, positive)\n",
      "/opt/anaconda3/lib/python3.7/site-packages/sklearn/linear_model/_coordinate_descent.py:472: ConvergenceWarning: Objective did not converge. You might want to increase the number of iterations. Duality gap: 8.037567473777251, tolerance: 0.012921918080449735\n",
      "  tol, rng, random, positive)\n",
      "/opt/anaconda3/lib/python3.7/site-packages/sklearn/linear_model/_coordinate_descent.py:472: ConvergenceWarning: Objective did not converge. You might want to increase the number of iterations. Duality gap: 3.2446810100520658, tolerance: 0.013007901370305065\n",
      "  tol, rng, random, positive)\n",
      "/opt/anaconda3/lib/python3.7/site-packages/sklearn/linear_model/_coordinate_descent.py:472: ConvergenceWarning: Objective did not converge. You might want to increase the number of iterations. Duality gap: 5.80200701669846, tolerance: 0.013007901370305065\n",
      "  tol, rng, random, positive)\n",
      "/opt/anaconda3/lib/python3.7/site-packages/sklearn/linear_model/_coordinate_descent.py:472: ConvergenceWarning: Objective did not converge. You might want to increase the number of iterations. Duality gap: 6.380778602567091, tolerance: 0.013007901370305065\n",
      "  tol, rng, random, positive)\n",
      "/opt/anaconda3/lib/python3.7/site-packages/sklearn/linear_model/_coordinate_descent.py:472: ConvergenceWarning: Objective did not converge. You might want to increase the number of iterations. Duality gap: 6.527986844699854, tolerance: 0.013007901370305065\n",
      "  tol, rng, random, positive)\n",
      "/opt/anaconda3/lib/python3.7/site-packages/sklearn/linear_model/_coordinate_descent.py:472: ConvergenceWarning: Objective did not converge. You might want to increase the number of iterations. Duality gap: 6.566655468821098, tolerance: 0.013007901370305065\n",
      "  tol, rng, random, positive)\n",
      "/opt/anaconda3/lib/python3.7/site-packages/sklearn/linear_model/_coordinate_descent.py:472: ConvergenceWarning: Objective did not converge. You might want to increase the number of iterations. Duality gap: 3.4400167348595625, tolerance: 0.011842771890857593\n",
      "  tol, rng, random, positive)\n",
      "/opt/anaconda3/lib/python3.7/site-packages/sklearn/linear_model/_coordinate_descent.py:472: ConvergenceWarning: Objective did not converge. You might want to increase the number of iterations. Duality gap: 5.8175467576152, tolerance: 0.011842771890857593\n",
      "  tol, rng, random, positive)\n",
      "/opt/anaconda3/lib/python3.7/site-packages/sklearn/linear_model/_coordinate_descent.py:472: ConvergenceWarning: Objective did not converge. You might want to increase the number of iterations. Duality gap: 6.396589931566693, tolerance: 0.011842771890857593\n",
      "  tol, rng, random, positive)\n",
      "/opt/anaconda3/lib/python3.7/site-packages/sklearn/linear_model/_coordinate_descent.py:472: ConvergenceWarning: Objective did not converge. You might want to increase the number of iterations. Duality gap: 6.555350409942115, tolerance: 0.011842771890857593\n",
      "  tol, rng, random, positive)\n",
      "/opt/anaconda3/lib/python3.7/site-packages/sklearn/linear_model/_coordinate_descent.py:472: ConvergenceWarning: Objective did not converge. You might want to increase the number of iterations. Duality gap: 6.6004033366098085, tolerance: 0.011842771890857593\n",
      "  tol, rng, random, positive)\n",
      "/opt/anaconda3/lib/python3.7/site-packages/sklearn/linear_model/_coordinate_descent.py:472: ConvergenceWarning: Objective did not converge. You might want to increase the number of iterations. Duality gap: 4.097049967564762, tolerance: 0.011409851728955266\n",
      "  tol, rng, random, positive)\n",
      "/opt/anaconda3/lib/python3.7/site-packages/sklearn/linear_model/_coordinate_descent.py:472: ConvergenceWarning: Objective did not converge. You might want to increase the number of iterations. Duality gap: 5.614372712222095, tolerance: 0.011409851728955266\n",
      "  tol, rng, random, positive)\n",
      "/opt/anaconda3/lib/python3.7/site-packages/sklearn/linear_model/_coordinate_descent.py:472: ConvergenceWarning: Objective did not converge. You might want to increase the number of iterations. Duality gap: 5.952181014953909, tolerance: 0.011409851728955266\n",
      "  tol, rng, random, positive)\n",
      "/opt/anaconda3/lib/python3.7/site-packages/sklearn/linear_model/_coordinate_descent.py:472: ConvergenceWarning: Objective did not converge. You might want to increase the number of iterations. Duality gap: 6.036771731579689, tolerance: 0.011409851728955266\n",
      "  tol, rng, random, positive)\n",
      "/opt/anaconda3/lib/python3.7/site-packages/sklearn/linear_model/_coordinate_descent.py:472: ConvergenceWarning: Objective did not converge. You might want to increase the number of iterations. Duality gap: 6.058567391844381, tolerance: 0.011409851728955266\n",
      "  tol, rng, random, positive)\n",
      "/opt/anaconda3/lib/python3.7/site-packages/sklearn/linear_model/_coordinate_descent.py:472: ConvergenceWarning: Objective did not converge. You might want to increase the number of iterations. Duality gap: 3.2575951875462046, tolerance: 0.01249675078459716\n",
      "  tol, rng, random, positive)\n",
      "/opt/anaconda3/lib/python3.7/site-packages/sklearn/linear_model/_coordinate_descent.py:472: ConvergenceWarning: Objective did not converge. You might want to increase the number of iterations. Duality gap: 5.779604777034236, tolerance: 0.01249675078459716\n",
      "  tol, rng, random, positive)\n",
      "/opt/anaconda3/lib/python3.7/site-packages/sklearn/linear_model/_coordinate_descent.py:472: ConvergenceWarning: Objective did not converge. You might want to increase the number of iterations. Duality gap: 6.361724968122566, tolerance: 0.01249675078459716\n",
      "  tol, rng, random, positive)\n",
      "/opt/anaconda3/lib/python3.7/site-packages/sklearn/linear_model/_coordinate_descent.py:472: ConvergenceWarning: Objective did not converge. You might want to increase the number of iterations. Duality gap: 6.514226123271352, tolerance: 0.01249675078459716\n",
      "  tol, rng, random, positive)\n",
      "/opt/anaconda3/lib/python3.7/site-packages/sklearn/linear_model/_coordinate_descent.py:472: ConvergenceWarning: Objective did not converge. You might want to increase the number of iterations. Duality gap: 6.555946898832294, tolerance: 0.01249675078459716\n",
      "  tol, rng, random, positive)\n",
      "/opt/anaconda3/lib/python3.7/site-packages/sklearn/linear_model/_coordinate_descent.py:472: ConvergenceWarning: Objective did not converge. You might want to increase the number of iterations. Duality gap: 4.012856928304124, tolerance: 0.011948627436351873\n",
      "  tol, rng, random, positive)\n"
     ]
    },
    {
     "name": "stderr",
     "output_type": "stream",
     "text": [
      "/opt/anaconda3/lib/python3.7/site-packages/sklearn/linear_model/_coordinate_descent.py:472: ConvergenceWarning: Objective did not converge. You might want to increase the number of iterations. Duality gap: 5.987472225231142, tolerance: 0.011948627436351873\n",
      "  tol, rng, random, positive)\n",
      "/opt/anaconda3/lib/python3.7/site-packages/sklearn/linear_model/_coordinate_descent.py:472: ConvergenceWarning: Objective did not converge. You might want to increase the number of iterations. Duality gap: 6.465642804171414, tolerance: 0.011948627436351873\n",
      "  tol, rng, random, positive)\n",
      "/opt/anaconda3/lib/python3.7/site-packages/sklearn/linear_model/_coordinate_descent.py:472: ConvergenceWarning: Objective did not converge. You might want to increase the number of iterations. Duality gap: 6.594512990029072, tolerance: 0.011948627436351873\n",
      "  tol, rng, random, positive)\n",
      "/opt/anaconda3/lib/python3.7/site-packages/sklearn/linear_model/_coordinate_descent.py:472: ConvergenceWarning: Objective did not converge. You might want to increase the number of iterations. Duality gap: 6.630551207776247, tolerance: 0.011948627436351873\n",
      "  tol, rng, random, positive)\n",
      "/opt/anaconda3/lib/python3.7/site-packages/sklearn/linear_model/_coordinate_descent.py:472: ConvergenceWarning: Objective did not converge. You might want to increase the number of iterations. Duality gap: 3.378131025994752, tolerance: 0.01204441566621188\n",
      "  tol, rng, random, positive)\n",
      "/opt/anaconda3/lib/python3.7/site-packages/sklearn/linear_model/_coordinate_descent.py:472: ConvergenceWarning: Objective did not converge. You might want to increase the number of iterations. Duality gap: 4.56286846179855, tolerance: 0.01204441566621188\n",
      "  tol, rng, random, positive)\n",
      "/opt/anaconda3/lib/python3.7/site-packages/sklearn/linear_model/_coordinate_descent.py:472: ConvergenceWarning: Objective did not converge. You might want to increase the number of iterations. Duality gap: 4.83454767665036, tolerance: 0.01204441566621188\n",
      "  tol, rng, random, positive)\n",
      "/opt/anaconda3/lib/python3.7/site-packages/sklearn/linear_model/_coordinate_descent.py:472: ConvergenceWarning: Objective did not converge. You might want to increase the number of iterations. Duality gap: 4.902291117815568, tolerance: 0.01204441566621188\n",
      "  tol, rng, random, positive)\n",
      "/opt/anaconda3/lib/python3.7/site-packages/sklearn/linear_model/_coordinate_descent.py:472: ConvergenceWarning: Objective did not converge. You might want to increase the number of iterations. Duality gap: 0.08810549129780831, tolerance: 0.012317913246721546\n",
      "  tol, rng, random, positive)\n",
      "/opt/anaconda3/lib/python3.7/site-packages/sklearn/linear_model/_coordinate_descent.py:472: ConvergenceWarning: Objective did not converge. You might want to increase the number of iterations. Duality gap: 5.522487176418691, tolerance: 0.012317913246721546\n",
      "  tol, rng, random, positive)\n",
      "/opt/anaconda3/lib/python3.7/site-packages/sklearn/linear_model/_coordinate_descent.py:472: ConvergenceWarning: Objective did not converge. You might want to increase the number of iterations. Duality gap: 6.854492488290948, tolerance: 0.012317913246721546\n",
      "  tol, rng, random, positive)\n",
      "/opt/anaconda3/lib/python3.7/site-packages/sklearn/linear_model/_coordinate_descent.py:472: ConvergenceWarning: Objective did not converge. You might want to increase the number of iterations. Duality gap: 7.188512313166052, tolerance: 0.012317913246721546\n",
      "  tol, rng, random, positive)\n",
      "/opt/anaconda3/lib/python3.7/site-packages/sklearn/linear_model/_coordinate_descent.py:472: ConvergenceWarning: Objective did not converge. You might want to increase the number of iterations. Duality gap: 7.277317904689145, tolerance: 0.012317913246721546\n",
      "  tol, rng, random, positive)\n",
      "/opt/anaconda3/lib/python3.7/site-packages/sklearn/linear_model/_coordinate_descent.py:472: ConvergenceWarning: Objective did not converge. You might want to increase the number of iterations. Duality gap: 4.620921726695011, tolerance: 0.01192466261820174\n",
      "  tol, rng, random, positive)\n",
      "/opt/anaconda3/lib/python3.7/site-packages/sklearn/linear_model/_coordinate_descent.py:472: ConvergenceWarning: Objective did not converge. You might want to increase the number of iterations. Duality gap: 6.209865143501356, tolerance: 0.01192466261820174\n",
      "  tol, rng, random, positive)\n",
      "/opt/anaconda3/lib/python3.7/site-packages/sklearn/linear_model/_coordinate_descent.py:472: ConvergenceWarning: Objective did not converge. You might want to increase the number of iterations. Duality gap: 6.5720028342502745, tolerance: 0.01192466261820174\n",
      "  tol, rng, random, positive)\n",
      "/opt/anaconda3/lib/python3.7/site-packages/sklearn/linear_model/_coordinate_descent.py:472: ConvergenceWarning: Objective did not converge. You might want to increase the number of iterations. Duality gap: 6.66164647168272, tolerance: 0.01192466261820174\n",
      "  tol, rng, random, positive)\n",
      "/opt/anaconda3/lib/python3.7/site-packages/sklearn/linear_model/_coordinate_descent.py:472: ConvergenceWarning: Objective did not converge. You might want to increase the number of iterations. Duality gap: 6.684270089746751, tolerance: 0.01192466261820174\n",
      "  tol, rng, random, positive)\n",
      "/opt/anaconda3/lib/python3.7/site-packages/sklearn/linear_model/_coordinate_descent.py:472: ConvergenceWarning: Objective did not converge. You might want to increase the number of iterations. Duality gap: 2.7957239427444778, tolerance: 0.012465099609553372\n",
      "  tol, rng, random, positive)\n",
      "/opt/anaconda3/lib/python3.7/site-packages/sklearn/linear_model/_coordinate_descent.py:472: ConvergenceWarning: Objective did not converge. You might want to increase the number of iterations. Duality gap: 5.649346826629504, tolerance: 0.012465099609553372\n",
      "  tol, rng, random, positive)\n",
      "/opt/anaconda3/lib/python3.7/site-packages/sklearn/linear_model/_coordinate_descent.py:472: ConvergenceWarning: Objective did not converge. You might want to increase the number of iterations. Duality gap: 6.318063411448306, tolerance: 0.012465099609553372\n",
      "  tol, rng, random, positive)\n",
      "/opt/anaconda3/lib/python3.7/site-packages/sklearn/linear_model/_coordinate_descent.py:472: ConvergenceWarning: Objective did not converge. You might want to increase the number of iterations. Duality gap: 6.498310105673881, tolerance: 0.012465099609553372\n",
      "  tol, rng, random, positive)\n",
      "/opt/anaconda3/lib/python3.7/site-packages/sklearn/linear_model/_coordinate_descent.py:472: ConvergenceWarning: Objective did not converge. You might want to increase the number of iterations. Duality gap: 3.453005333633582, tolerance: 0.012435711781405408\n",
      "  tol, rng, random, positive)\n",
      "/opt/anaconda3/lib/python3.7/site-packages/sklearn/linear_model/_coordinate_descent.py:472: ConvergenceWarning: Objective did not converge. You might want to increase the number of iterations. Duality gap: 6.29090102636874, tolerance: 0.012435711781405408\n",
      "  tol, rng, random, positive)\n",
      "/opt/anaconda3/lib/python3.7/site-packages/sklearn/linear_model/_coordinate_descent.py:472: ConvergenceWarning: Objective did not converge. You might want to increase the number of iterations. Duality gap: 6.9468972330029235, tolerance: 0.012435711781405408\n",
      "  tol, rng, random, positive)\n",
      "/opt/anaconda3/lib/python3.7/site-packages/sklearn/linear_model/_coordinate_descent.py:472: ConvergenceWarning: Objective did not converge. You might want to increase the number of iterations. Duality gap: 7.117848560176313, tolerance: 0.012435711781405408\n",
      "  tol, rng, random, positive)\n",
      "/opt/anaconda3/lib/python3.7/site-packages/sklearn/linear_model/_coordinate_descent.py:472: ConvergenceWarning: Objective did not converge. You might want to increase the number of iterations. Duality gap: 7.163942695172038, tolerance: 0.012435711781405408\n",
      "  tol, rng, random, positive)\n",
      "/opt/anaconda3/lib/python3.7/site-packages/sklearn/linear_model/_coordinate_descent.py:472: ConvergenceWarning: Objective did not converge. You might want to increase the number of iterations. Duality gap: 2.4276260416496314, tolerance: 0.01252325957501501\n",
      "  tol, rng, random, positive)\n",
      "/opt/anaconda3/lib/python3.7/site-packages/sklearn/linear_model/_coordinate_descent.py:472: ConvergenceWarning: Objective did not converge. You might want to increase the number of iterations. Duality gap: 5.106003186266608, tolerance: 0.01252325957501501\n",
      "  tol, rng, random, positive)\n",
      "/opt/anaconda3/lib/python3.7/site-packages/sklearn/linear_model/_coordinate_descent.py:472: ConvergenceWarning: Objective did not converge. You might want to increase the number of iterations. Duality gap: 5.666375145477611, tolerance: 0.01252325957501501\n",
      "  tol, rng, random, positive)\n",
      "/opt/anaconda3/lib/python3.7/site-packages/sklearn/linear_model/_coordinate_descent.py:472: ConvergenceWarning: Objective did not converge. You might want to increase the number of iterations. Duality gap: 5.799023908193695, tolerance: 0.01252325957501501\n",
      "  tol, rng, random, positive)\n",
      "/opt/anaconda3/lib/python3.7/site-packages/sklearn/linear_model/_coordinate_descent.py:472: ConvergenceWarning: Objective did not converge. You might want to increase the number of iterations. Duality gap: 5.831502189974524, tolerance: 0.01252325957501501\n",
      "  tol, rng, random, positive)\n",
      "/opt/anaconda3/lib/python3.7/site-packages/sklearn/linear_model/_coordinate_descent.py:472: ConvergenceWarning: Objective did not converge. You might want to increase the number of iterations. Duality gap: 1.3004030364732735, tolerance: 0.013215025824964824\n",
      "  tol, rng, random, positive)\n",
      "/opt/anaconda3/lib/python3.7/site-packages/sklearn/linear_model/_coordinate_descent.py:472: ConvergenceWarning: Objective did not converge. You might want to increase the number of iterations. Duality gap: 6.2728234638084786, tolerance: 0.013215025824964824\n",
      "  tol, rng, random, positive)\n",
      "/opt/anaconda3/lib/python3.7/site-packages/sklearn/linear_model/_coordinate_descent.py:472: ConvergenceWarning: Objective did not converge. You might want to increase the number of iterations. Duality gap: 7.466355850690632, tolerance: 0.013215025824964824\n",
      "  tol, rng, random, positive)\n",
      "/opt/anaconda3/lib/python3.7/site-packages/sklearn/linear_model/_coordinate_descent.py:472: ConvergenceWarning: Objective did not converge. You might want to increase the number of iterations. Duality gap: 7.796884763043895, tolerance: 0.013215025824964824\n",
      "  tol, rng, random, positive)\n",
      "/opt/anaconda3/lib/python3.7/site-packages/sklearn/linear_model/_coordinate_descent.py:472: ConvergenceWarning: Objective did not converge. You might want to increase the number of iterations. Duality gap: 7.894091354434043, tolerance: 0.013215025824964824\n",
      "  tol, rng, random, positive)\n",
      "/opt/anaconda3/lib/python3.7/site-packages/sklearn/linear_model/_coordinate_descent.py:472: ConvergenceWarning: Objective did not converge. You might want to increase the number of iterations. Duality gap: 4.615375985394428, tolerance: 0.012827716247923466\n",
      "  tol, rng, random, positive)\n",
      "/opt/anaconda3/lib/python3.7/site-packages/sklearn/linear_model/_coordinate_descent.py:472: ConvergenceWarning: Objective did not converge. You might want to increase the number of iterations. Duality gap: 6.60849920456859, tolerance: 0.012827716247923466\n",
      "  tol, rng, random, positive)\n"
     ]
    },
    {
     "name": "stderr",
     "output_type": "stream",
     "text": [
      "/opt/anaconda3/lib/python3.7/site-packages/sklearn/linear_model/_coordinate_descent.py:472: ConvergenceWarning: Objective did not converge. You might want to increase the number of iterations. Duality gap: 7.080260547900105, tolerance: 0.012827716247923466\n",
      "  tol, rng, random, positive)\n",
      "/opt/anaconda3/lib/python3.7/site-packages/sklearn/linear_model/_coordinate_descent.py:472: ConvergenceWarning: Objective did not converge. You might want to increase the number of iterations. Duality gap: 7.2034880706944175, tolerance: 0.012827716247923466\n",
      "  tol, rng, random, positive)\n",
      "/opt/anaconda3/lib/python3.7/site-packages/sklearn/linear_model/_coordinate_descent.py:472: ConvergenceWarning: Objective did not converge. You might want to increase the number of iterations. Duality gap: 7.236687603052794, tolerance: 0.012827716247923466\n",
      "  tol, rng, random, positive)\n",
      "/opt/anaconda3/lib/python3.7/site-packages/sklearn/linear_model/_coordinate_descent.py:472: ConvergenceWarning: Objective did not converge. You might want to increase the number of iterations. Duality gap: 0.04577450327005117, tolerance: 0.012466933962773862\n",
      "  tol, rng, random, positive)\n",
      "/opt/anaconda3/lib/python3.7/site-packages/sklearn/linear_model/_coordinate_descent.py:472: ConvergenceWarning: Objective did not converge. You might want to increase the number of iterations. Duality gap: 4.927217176353851, tolerance: 0.012466933962773862\n",
      "  tol, rng, random, positive)\n",
      "/opt/anaconda3/lib/python3.7/site-packages/sklearn/linear_model/_coordinate_descent.py:472: ConvergenceWarning: Objective did not converge. You might want to increase the number of iterations. Duality gap: 6.192516075929317, tolerance: 0.012466933962773862\n",
      "  tol, rng, random, positive)\n",
      "/opt/anaconda3/lib/python3.7/site-packages/sklearn/linear_model/_coordinate_descent.py:472: ConvergenceWarning: Objective did not converge. You might want to increase the number of iterations. Duality gap: 6.534294882760155, tolerance: 0.012466933962773862\n",
      "  tol, rng, random, positive)\n",
      "/opt/anaconda3/lib/python3.7/site-packages/sklearn/linear_model/_coordinate_descent.py:472: ConvergenceWarning: Objective did not converge. You might want to increase the number of iterations. Duality gap: 6.634378640158411, tolerance: 0.012466933962773862\n",
      "  tol, rng, random, positive)\n",
      "/opt/anaconda3/lib/python3.7/site-packages/sklearn/linear_model/_coordinate_descent.py:472: ConvergenceWarning: Objective did not converge. You might want to increase the number of iterations. Duality gap: 2.9690271833690236, tolerance: 0.013323631619593004\n",
      "  tol, rng, random, positive)\n",
      "/opt/anaconda3/lib/python3.7/site-packages/sklearn/linear_model/_coordinate_descent.py:472: ConvergenceWarning: Objective did not converge. You might want to increase the number of iterations. Duality gap: 6.608329638223182, tolerance: 0.013323631619593004\n",
      "  tol, rng, random, positive)\n",
      "/opt/anaconda3/lib/python3.7/site-packages/sklearn/linear_model/_coordinate_descent.py:472: ConvergenceWarning: Objective did not converge. You might want to increase the number of iterations. Duality gap: 7.443238705435906, tolerance: 0.013323631619593004\n",
      "  tol, rng, random, positive)\n",
      "/opt/anaconda3/lib/python3.7/site-packages/sklearn/linear_model/_coordinate_descent.py:472: ConvergenceWarning: Objective did not converge. You might want to increase the number of iterations. Duality gap: 7.6626923743985635, tolerance: 0.013323631619593004\n",
      "  tol, rng, random, positive)\n",
      "/opt/anaconda3/lib/python3.7/site-packages/sklearn/linear_model/_coordinate_descent.py:472: ConvergenceWarning: Objective did not converge. You might want to increase the number of iterations. Duality gap: 7.722843736023033, tolerance: 0.013323631619593004\n",
      "  tol, rng, random, positive)\n",
      "/opt/anaconda3/lib/python3.7/site-packages/sklearn/linear_model/_coordinate_descent.py:472: ConvergenceWarning: Objective did not converge. You might want to increase the number of iterations. Duality gap: 4.7554046589339904, tolerance: 0.013411029960143992\n",
      "  tol, rng, random, positive)\n",
      "/opt/anaconda3/lib/python3.7/site-packages/sklearn/linear_model/_coordinate_descent.py:472: ConvergenceWarning: Objective did not converge. You might want to increase the number of iterations. Duality gap: 6.008979017334672, tolerance: 0.013411029960143992\n",
      "  tol, rng, random, positive)\n",
      "/opt/anaconda3/lib/python3.7/site-packages/sklearn/linear_model/_coordinate_descent.py:472: ConvergenceWarning: Objective did not converge. You might want to increase the number of iterations. Duality gap: 6.319891588933941, tolerance: 0.013411029960143992\n",
      "  tol, rng, random, positive)\n",
      "/opt/anaconda3/lib/python3.7/site-packages/sklearn/linear_model/_coordinate_descent.py:472: ConvergenceWarning: Objective did not converge. You might want to increase the number of iterations. Duality gap: 6.402383220811706, tolerance: 0.013411029960143992\n",
      "  tol, rng, random, positive)\n",
      "/opt/anaconda3/lib/python3.7/site-packages/sklearn/linear_model/_coordinate_descent.py:472: ConvergenceWarning: Objective did not converge. You might want to increase the number of iterations. Duality gap: 0.8880220111971227, tolerance: 0.012600181736230436\n",
      "  tol, rng, random, positive)\n",
      "/opt/anaconda3/lib/python3.7/site-packages/sklearn/linear_model/_coordinate_descent.py:472: ConvergenceWarning: Objective did not converge. You might want to increase the number of iterations. Duality gap: 5.168674266135714, tolerance: 0.012600181736230436\n",
      "  tol, rng, random, positive)\n",
      "/opt/anaconda3/lib/python3.7/site-packages/sklearn/linear_model/_coordinate_descent.py:472: ConvergenceWarning: Objective did not converge. You might want to increase the number of iterations. Duality gap: 6.153613398862889, tolerance: 0.012600181736230436\n",
      "  tol, rng, random, positive)\n",
      "/opt/anaconda3/lib/python3.7/site-packages/sklearn/linear_model/_coordinate_descent.py:472: ConvergenceWarning: Objective did not converge. You might want to increase the number of iterations. Duality gap: 6.410770619023542, tolerance: 0.012600181736230436\n",
      "  tol, rng, random, positive)\n",
      "/opt/anaconda3/lib/python3.7/site-packages/sklearn/linear_model/_coordinate_descent.py:472: ConvergenceWarning: Objective did not converge. You might want to increase the number of iterations. Duality gap: 6.481818748654979, tolerance: 0.012600181736230436\n",
      "  tol, rng, random, positive)\n",
      "/opt/anaconda3/lib/python3.7/site-packages/sklearn/linear_model/_coordinate_descent.py:472: ConvergenceWarning: Objective did not converge. You might want to increase the number of iterations. Duality gap: 2.9769216786863, tolerance: 0.01220912771655301\n",
      "  tol, rng, random, positive)\n",
      "/opt/anaconda3/lib/python3.7/site-packages/sklearn/linear_model/_coordinate_descent.py:472: ConvergenceWarning: Objective did not converge. You might want to increase the number of iterations. Duality gap: 5.484875921206634, tolerance: 0.01220912771655301\n",
      "  tol, rng, random, positive)\n",
      "/opt/anaconda3/lib/python3.7/site-packages/sklearn/linear_model/_coordinate_descent.py:472: ConvergenceWarning: Objective did not converge. You might want to increase the number of iterations. Duality gap: 5.998538005609344, tolerance: 0.01220912771655301\n",
      "  tol, rng, random, positive)\n",
      "/opt/anaconda3/lib/python3.7/site-packages/sklearn/linear_model/_coordinate_descent.py:472: ConvergenceWarning: Objective did not converge. You might want to increase the number of iterations. Duality gap: 6.121347406148566, tolerance: 0.01220912771655301\n",
      "  tol, rng, random, positive)\n",
      "/opt/anaconda3/lib/python3.7/site-packages/sklearn/linear_model/_coordinate_descent.py:472: ConvergenceWarning: Objective did not converge. You might want to increase the number of iterations. Duality gap: 6.151876151437193, tolerance: 0.01220912771655301\n",
      "  tol, rng, random, positive)\n",
      "/opt/anaconda3/lib/python3.7/site-packages/sklearn/linear_model/_coordinate_descent.py:472: ConvergenceWarning: Objective did not converge. You might want to increase the number of iterations. Duality gap: 0.06352388931592046, tolerance: 0.01184617019806367\n",
      "  tol, rng, random, positive)\n",
      "/opt/anaconda3/lib/python3.7/site-packages/sklearn/linear_model/_coordinate_descent.py:472: ConvergenceWarning: Objective did not converge. You might want to increase the number of iterations. Duality gap: 0.8147218466839368, tolerance: 0.01184617019806367\n",
      "  tol, rng, random, positive)\n",
      "/opt/anaconda3/lib/python3.7/site-packages/sklearn/linear_model/_coordinate_descent.py:472: ConvergenceWarning: Objective did not converge. You might want to increase the number of iterations. Duality gap: 3.898947351896778, tolerance: 0.01184617019806367\n",
      "  tol, rng, random, positive)\n",
      "/opt/anaconda3/lib/python3.7/site-packages/sklearn/linear_model/_coordinate_descent.py:472: ConvergenceWarning: Objective did not converge. You might want to increase the number of iterations. Duality gap: 4.651302594440873, tolerance: 0.01184617019806367\n",
      "  tol, rng, random, positive)\n",
      "/opt/anaconda3/lib/python3.7/site-packages/sklearn/linear_model/_coordinate_descent.py:472: ConvergenceWarning: Objective did not converge. You might want to increase the number of iterations. Duality gap: 1.6750351761281959, tolerance: 0.01310377851974466\n",
      "  tol, rng, random, positive)\n",
      "/opt/anaconda3/lib/python3.7/site-packages/sklearn/linear_model/_coordinate_descent.py:472: ConvergenceWarning: Objective did not converge. You might want to increase the number of iterations. Duality gap: 5.488765094657878, tolerance: 0.01310377851974466\n",
      "  tol, rng, random, positive)\n",
      "/opt/anaconda3/lib/python3.7/site-packages/sklearn/linear_model/_coordinate_descent.py:472: ConvergenceWarning: Objective did not converge. You might want to increase the number of iterations. Duality gap: 6.281400100776961, tolerance: 0.01310377851974466\n",
      "  tol, rng, random, positive)\n",
      "/opt/anaconda3/lib/python3.7/site-packages/sklearn/linear_model/_coordinate_descent.py:472: ConvergenceWarning: Objective did not converge. You might want to increase the number of iterations. Duality gap: 6.469196451452855, tolerance: 0.01310377851974466\n",
      "  tol, rng, random, positive)\n",
      "/opt/anaconda3/lib/python3.7/site-packages/sklearn/linear_model/_coordinate_descent.py:472: ConvergenceWarning: Objective did not converge. You might want to increase the number of iterations. Duality gap: 6.515630117883496, tolerance: 0.01310377851974466\n",
      "  tol, rng, random, positive)\n",
      "/opt/anaconda3/lib/python3.7/site-packages/sklearn/linear_model/_coordinate_descent.py:472: ConvergenceWarning: Objective did not converge. You might want to increase the number of iterations. Duality gap: 0.628799649233974, tolerance: 0.013016737046746584\n",
      "  tol, rng, random, positive)\n",
      "/opt/anaconda3/lib/python3.7/site-packages/sklearn/linear_model/_coordinate_descent.py:472: ConvergenceWarning: Objective did not converge. You might want to increase the number of iterations. Duality gap: 4.9865266136603275, tolerance: 0.013016737046746584\n",
      "  tol, rng, random, positive)\n",
      "/opt/anaconda3/lib/python3.7/site-packages/sklearn/linear_model/_coordinate_descent.py:472: ConvergenceWarning: Objective did not converge. You might want to increase the number of iterations. Duality gap: 5.963142175853896, tolerance: 0.013016737046746584\n",
      "  tol, rng, random, positive)\n",
      "/opt/anaconda3/lib/python3.7/site-packages/sklearn/linear_model/_coordinate_descent.py:472: ConvergenceWarning: Objective did not converge. You might want to increase the number of iterations. Duality gap: 6.215175137955552, tolerance: 0.013016737046746584\n",
      "  tol, rng, random, positive)\n",
      "/opt/anaconda3/lib/python3.7/site-packages/sklearn/linear_model/_coordinate_descent.py:472: ConvergenceWarning: Objective did not converge. You might want to increase the number of iterations. Duality gap: 6.284494011627434, tolerance: 0.013016737046746584\n",
      "  tol, rng, random, positive)\n"
     ]
    }
   ],
   "source": [
    "model = LassoCV(alphas=np.logspace(-8, 8, 20), cv=5)\n",
    "# fit the model\n",
    "model.fit(X_train, log_y_train)\n",
    "\n",
    "# evaluate on the training set\n",
    "training_score = model.score(X_train, log_y_train)\n",
    "# evaluate on the test set\n",
    "test_score = model.score(X_test, log_y_test)\n",
    "\n",
    "#mean cv score on training data\n",
    "scores = cross_val_score(model, X_train, log_y_train, cv=5).mean()"
   ]
  },
  {
   "cell_type": "code",
   "execution_count": 54,
   "metadata": {
    "ExecuteTime": {
     "end_time": "2020-05-31T13:32:48.990073Z",
     "start_time": "2020-05-31T13:32:48.977999Z"
    },
    "hidden": true
   },
   "outputs": [
    {
     "data": {
      "text/html": [
       "<div>\n",
       "<style scoped>\n",
       "    .dataframe tbody tr th:only-of-type {\n",
       "        vertical-align: middle;\n",
       "    }\n",
       "\n",
       "    .dataframe tbody tr th {\n",
       "        vertical-align: top;\n",
       "    }\n",
       "\n",
       "    .dataframe thead th {\n",
       "        text-align: right;\n",
       "    }\n",
       "</style>\n",
       "<table border=\"1\" class=\"dataframe\">\n",
       "  <thead>\n",
       "    <tr style=\"text-align: right;\">\n",
       "      <th></th>\n",
       "      <th>LassoCV_log</th>\n",
       "    </tr>\n",
       "  </thead>\n",
       "  <tbody>\n",
       "    <tr>\n",
       "      <td>Training_Score</td>\n",
       "      <td>0.881633</td>\n",
       "    </tr>\n",
       "    <tr>\n",
       "      <td>Test_Score</td>\n",
       "      <td>0.894639</td>\n",
       "    </tr>\n",
       "    <tr>\n",
       "      <td>Mean_CV</td>\n",
       "      <td>0.842388</td>\n",
       "    </tr>\n",
       "  </tbody>\n",
       "</table>\n",
       "</div>"
      ],
      "text/plain": [
       "                LassoCV_log\n",
       "Training_Score     0.881633\n",
       "Test_Score         0.894639\n",
       "Mean_CV            0.842388"
      ]
     },
     "execution_count": 54,
     "metadata": {},
     "output_type": "execute_result"
    }
   ],
   "source": [
    "score_series_lasso_log = pd.DataFrame([training_score, test_score, scores], index = ['Training_Score', 'Test_Score', 'Mean_CV'], \n",
    "                            columns = ['LassoCV_log'])\n",
    "score_series_lasso_log"
   ]
  },
  {
   "cell_type": "code",
   "execution_count": 55,
   "metadata": {
    "ExecuteTime": {
     "end_time": "2020-05-31T13:32:49.012274Z",
     "start_time": "2020-05-31T13:32:48.994585Z"
    },
    "hidden": true
   },
   "outputs": [
    {
     "data": {
      "text/html": [
       "<div>\n",
       "<style scoped>\n",
       "    .dataframe tbody tr th:only-of-type {\n",
       "        vertical-align: middle;\n",
       "    }\n",
       "\n",
       "    .dataframe tbody tr th {\n",
       "        vertical-align: top;\n",
       "    }\n",
       "\n",
       "    .dataframe thead th {\n",
       "        text-align: right;\n",
       "    }\n",
       "</style>\n",
       "<table border=\"1\" class=\"dataframe\">\n",
       "  <thead>\n",
       "    <tr style=\"text-align: right;\">\n",
       "      <th></th>\n",
       "      <th>coefficients</th>\n",
       "      <th>coef_abs</th>\n",
       "    </tr>\n",
       "  </thead>\n",
       "  <tbody>\n",
       "    <tr>\n",
       "      <td>GrLivArea</td>\n",
       "      <td>0.123100</td>\n",
       "      <td>0.123100</td>\n",
       "    </tr>\n",
       "    <tr>\n",
       "      <td>GarageCars</td>\n",
       "      <td>0.051435</td>\n",
       "      <td>0.051435</td>\n",
       "    </tr>\n",
       "    <tr>\n",
       "      <td>YearRemodAdd</td>\n",
       "      <td>0.050798</td>\n",
       "      <td>0.050798</td>\n",
       "    </tr>\n",
       "    <tr>\n",
       "      <td>YearBuilt</td>\n",
       "      <td>0.042090</td>\n",
       "      <td>0.042090</td>\n",
       "    </tr>\n",
       "    <tr>\n",
       "      <td>Neighborhood_NridgHt</td>\n",
       "      <td>0.039975</td>\n",
       "      <td>0.039975</td>\n",
       "    </tr>\n",
       "    <tr>\n",
       "      <td>Fireplaces</td>\n",
       "      <td>0.036004</td>\n",
       "      <td>0.036004</td>\n",
       "    </tr>\n",
       "    <tr>\n",
       "      <td>BsmtQual_Ex</td>\n",
       "      <td>0.031056</td>\n",
       "      <td>0.031056</td>\n",
       "    </tr>\n",
       "    <tr>\n",
       "      <td>MSSubClass_160</td>\n",
       "      <td>-0.028867</td>\n",
       "      <td>0.028867</td>\n",
       "    </tr>\n",
       "    <tr>\n",
       "      <td>BsmtFullBath</td>\n",
       "      <td>0.027604</td>\n",
       "      <td>0.027604</td>\n",
       "    </tr>\n",
       "    <tr>\n",
       "      <td>FullBath</td>\n",
       "      <td>0.027214</td>\n",
       "      <td>0.027214</td>\n",
       "    </tr>\n",
       "  </tbody>\n",
       "</table>\n",
       "</div>"
      ],
      "text/plain": [
       "                      coefficients  coef_abs\n",
       "GrLivArea                 0.123100  0.123100\n",
       "GarageCars                0.051435  0.051435\n",
       "YearRemodAdd              0.050798  0.050798\n",
       "YearBuilt                 0.042090  0.042090\n",
       "Neighborhood_NridgHt      0.039975  0.039975\n",
       "Fireplaces                0.036004  0.036004\n",
       "BsmtQual_Ex               0.031056  0.031056\n",
       "MSSubClass_160           -0.028867  0.028867\n",
       "BsmtFullBath              0.027604  0.027604\n",
       "FullBath                  0.027214  0.027214"
      ]
     },
     "execution_count": 55,
     "metadata": {},
     "output_type": "execute_result"
    }
   ],
   "source": [
    "# collect the model coefficients in a dataframe\n",
    "df_coef = pd.DataFrame(model.coef_, index=X_train.columns,\n",
    "                       columns=['coefficients'])\n",
    "\n",
    "# calculate the absolute values of the coefficients to gauge influence (show importance of predictor variables)\n",
    "df_coef['coef_abs'] = df_coef.coefficients.abs()\n",
    "df_coef.sort_values(by = 'coef_abs', ascending = False)[:10]"
   ]
  },
  {
   "cell_type": "code",
   "execution_count": 56,
   "metadata": {
    "ExecuteTime": {
     "end_time": "2020-05-31T13:32:49.260066Z",
     "start_time": "2020-05-31T13:32:49.016487Z"
    },
    "hidden": true
   },
   "outputs": [
    {
     "data": {
      "image/png": "[encoded data removed]",
      "text/plain": [
       "<Figure size 432x288 with 1 Axes>"
      ]
     },
     "metadata": {
      "image/png": {
       "height": 248,
       "width": 470
      },
      "needs_background": "light"
     },
     "output_type": "display_data"
    }
   ],
   "source": [
    "df_coef['coefficients'].sort_values(ascending = False).head(5).plot(kind='barh');"
   ]
  },
  {
   "cell_type": "markdown",
   "metadata": {
    "hidden": true
   },
   "source": [
    "In this model, amount of living space, the year a remodel or addition was completed, number of cars that fit in the garage, and year the house was built have the greatest impact on the sale price of the home.\n"
   ]
  },
  {
   "cell_type": "markdown",
   "metadata": {
    "heading_collapsed": true,
    "hidden": true
   },
   "source": [
    "#### Elastic Net CV Model (log of y)"
   ]
  },
  {
   "cell_type": "code",
   "execution_count": 57,
   "metadata": {
    "ExecuteTime": {
     "end_time": "2020-05-31T13:32:53.093164Z",
     "start_time": "2020-05-31T13:32:49.263753Z"
    },
    "hidden": true
   },
   "outputs": [
    {
     "name": "stderr",
     "output_type": "stream",
     "text": [
      "/opt/anaconda3/lib/python3.7/site-packages/sklearn/linear_model/_coordinate_descent.py:472: ConvergenceWarning: Objective did not converge. You might want to increase the number of iterations. Duality gap: 7.252828478081699, tolerance: 0.015903091370587694\n",
      "  tol, rng, random, positive)\n",
      "/opt/anaconda3/lib/python3.7/site-packages/sklearn/linear_model/_coordinate_descent.py:472: ConvergenceWarning: Objective did not converge. You might want to increase the number of iterations. Duality gap: 6.20600300328789, tolerance: 0.014940332747390137\n",
      "  tol, rng, random, positive)\n",
      "/opt/anaconda3/lib/python3.7/site-packages/sklearn/linear_model/_coordinate_descent.py:472: ConvergenceWarning: Objective did not converge. You might want to increase the number of iterations. Duality gap: 5.752759247030029, tolerance: 0.015418398857549096\n",
      "  tol, rng, random, positive)\n",
      "/opt/anaconda3/lib/python3.7/site-packages/sklearn/linear_model/_coordinate_descent.py:472: ConvergenceWarning: Objective did not converge. You might want to increase the number of iterations. Duality gap: 5.525595070182854, tolerance: 0.01631153149125455\n",
      "  tol, rng, random, positive)\n",
      "/opt/anaconda3/lib/python3.7/site-packages/sklearn/linear_model/_coordinate_descent.py:472: ConvergenceWarning: Objective did not converge. You might want to increase the number of iterations. Duality gap: 3.6974438504304814, tolerance: 0.01569787937889644\n",
      "  tol, rng, random, positive)\n",
      "/opt/anaconda3/lib/python3.7/site-packages/sklearn/linear_model/_coordinate_descent.py:472: ConvergenceWarning: Objective did not converge. You might want to increase the number of iterations. Duality gap: 1.5763950328119378, tolerance: 0.015903091370587694\n",
      "  tol, rng, random, positive)\n",
      "/opt/anaconda3/lib/python3.7/site-packages/sklearn/linear_model/_coordinate_descent.py:472: ConvergenceWarning: Objective did not converge. You might want to increase the number of iterations. Duality gap: 1.328817611821549, tolerance: 0.014940332747390137\n",
      "  tol, rng, random, positive)\n",
      "/opt/anaconda3/lib/python3.7/site-packages/sklearn/linear_model/_coordinate_descent.py:472: ConvergenceWarning: Objective did not converge. You might want to increase the number of iterations. Duality gap: 0.09885679127821234, tolerance: 0.015418398857549096\n",
      "  tol, rng, random, positive)\n",
      "/opt/anaconda3/lib/python3.7/site-packages/sklearn/linear_model/_coordinate_descent.py:472: ConvergenceWarning: Objective did not converge. You might want to increase the number of iterations. Duality gap: 0.327557607885117, tolerance: 0.015903091370587694\n",
      "  tol, rng, random, positive)\n",
      "/opt/anaconda3/lib/python3.7/site-packages/sklearn/linear_model/_coordinate_descent.py:472: ConvergenceWarning: Objective did not converge. You might want to increase the number of iterations. Duality gap: 0.24750404224738176, tolerance: 0.014940332747390137\n",
      "  tol, rng, random, positive)\n",
      "/opt/anaconda3/lib/python3.7/site-packages/sklearn/linear_model/_coordinate_descent.py:472: ConvergenceWarning: Objective did not converge. You might want to increase the number of iterations. Duality gap: 0.016457640383887195, tolerance: 0.015903091370587694\n",
      "  tol, rng, random, positive)\n"
     ]
    },
    {
     "name": "stdout",
     "output_type": "stream",
     "text": [
      "Best alpha: 0.046415888336127774\n",
      "Best l1-ratio: 0.1\n"
     ]
    },
    {
     "name": "stderr",
     "output_type": "stream",
     "text": [
      "/opt/anaconda3/lib/python3.7/site-packages/sklearn/linear_model/_coordinate_descent.py:472: ConvergenceWarning: Objective did not converge. You might want to increase the number of iterations. Duality gap: 5.280898634984842, tolerance: 0.012085963937666694\n",
      "  tol, rng, random, positive)\n",
      "/opt/anaconda3/lib/python3.7/site-packages/sklearn/linear_model/_coordinate_descent.py:472: ConvergenceWarning: Objective did not converge. You might want to increase the number of iterations. Duality gap: 5.181401519907569, tolerance: 0.012123855709745926\n",
      "  tol, rng, random, positive)\n",
      "/opt/anaconda3/lib/python3.7/site-packages/sklearn/linear_model/_coordinate_descent.py:472: ConvergenceWarning: Objective did not converge. You might want to increase the number of iterations. Duality gap: 4.80990513802621, tolerance: 0.013463972138981123\n",
      "  tol, rng, random, positive)\n",
      "/opt/anaconda3/lib/python3.7/site-packages/sklearn/linear_model/_coordinate_descent.py:472: ConvergenceWarning: Objective did not converge. You might want to increase the number of iterations. Duality gap: 0.03666160840764299, tolerance: 0.012921918080449735\n",
      "  tol, rng, random, positive)\n",
      "/opt/anaconda3/lib/python3.7/site-packages/sklearn/linear_model/_coordinate_descent.py:472: ConvergenceWarning: Objective did not converge. You might want to increase the number of iterations. Duality gap: 6.2537038661712305, tolerance: 0.012921918080449735\n",
      "  tol, rng, random, positive)\n",
      "/opt/anaconda3/lib/python3.7/site-packages/sklearn/linear_model/_coordinate_descent.py:472: ConvergenceWarning: Objective did not converge. You might want to increase the number of iterations. Duality gap: 4.776784322489652, tolerance: 0.013007901370305065\n",
      "  tol, rng, random, positive)\n",
      "/opt/anaconda3/lib/python3.7/site-packages/sklearn/linear_model/_coordinate_descent.py:472: ConvergenceWarning: Objective did not converge. You might want to increase the number of iterations. Duality gap: 1.3760128395063056, tolerance: 0.012085963937666694\n",
      "  tol, rng, random, positive)\n",
      "/opt/anaconda3/lib/python3.7/site-packages/sklearn/linear_model/_coordinate_descent.py:472: ConvergenceWarning: Objective did not converge. You might want to increase the number of iterations. Duality gap: 0.8225657599578291, tolerance: 0.012123855709745926\n",
      "  tol, rng, random, positive)\n",
      "/opt/anaconda3/lib/python3.7/site-packages/sklearn/linear_model/_coordinate_descent.py:472: ConvergenceWarning: Objective did not converge. You might want to increase the number of iterations. Duality gap: 2.0560918962403907, tolerance: 0.012921918080449735\n",
      "  tol, rng, random, positive)\n",
      "/opt/anaconda3/lib/python3.7/site-packages/sklearn/linear_model/_coordinate_descent.py:472: ConvergenceWarning: Objective did not converge. You might want to increase the number of iterations. Duality gap: 0.6202041882041307, tolerance: 0.013007901370305065\n",
      "  tol, rng, random, positive)\n",
      "/opt/anaconda3/lib/python3.7/site-packages/sklearn/linear_model/_coordinate_descent.py:472: ConvergenceWarning: Objective did not converge. You might want to increase the number of iterations. Duality gap: 0.39071121794819064, tolerance: 0.012085963937666694\n",
      "  tol, rng, random, positive)\n",
      "/opt/anaconda3/lib/python3.7/site-packages/sklearn/linear_model/_coordinate_descent.py:472: ConvergenceWarning: Objective did not converge. You might want to increase the number of iterations. Duality gap: 0.06212307992967325, tolerance: 0.012123855709745926\n",
      "  tol, rng, random, positive)\n",
      "/opt/anaconda3/lib/python3.7/site-packages/sklearn/linear_model/_coordinate_descent.py:472: ConvergenceWarning: Objective did not converge. You might want to increase the number of iterations. Duality gap: 0.8538083238475807, tolerance: 0.012921918080449735\n",
      "  tol, rng, random, positive)\n",
      "/opt/anaconda3/lib/python3.7/site-packages/sklearn/linear_model/_coordinate_descent.py:472: ConvergenceWarning: Objective did not converge. You might want to increase the number of iterations. Duality gap: 0.1682654777698982, tolerance: 0.012921918080449735\n",
      "  tol, rng, random, positive)\n",
      "/opt/anaconda3/lib/python3.7/site-packages/sklearn/linear_model/_coordinate_descent.py:472: ConvergenceWarning: Objective did not converge. You might want to increase the number of iterations. Duality gap: 0.07835091646922265, tolerance: 0.012921918080449735\n",
      "  tol, rng, random, positive)\n",
      "/opt/anaconda3/lib/python3.7/site-packages/sklearn/linear_model/_coordinate_descent.py:472: ConvergenceWarning: Objective did not converge. You might want to increase the number of iterations. Duality gap: 0.08008459127766088, tolerance: 0.012921918080449735\n",
      "  tol, rng, random, positive)\n",
      "/opt/anaconda3/lib/python3.7/site-packages/sklearn/linear_model/_coordinate_descent.py:472: ConvergenceWarning: Objective did not converge. You might want to increase the number of iterations. Duality gap: 0.03695468867372398, tolerance: 0.012123855709745926\n",
      "  tol, rng, random, positive)\n",
      "/opt/anaconda3/lib/python3.7/site-packages/sklearn/linear_model/_coordinate_descent.py:472: ConvergenceWarning: Objective did not converge. You might want to increase the number of iterations. Duality gap: 0.08146662975702057, tolerance: 0.012921918080449735\n",
      "  tol, rng, random, positive)\n",
      "/opt/anaconda3/lib/python3.7/site-packages/sklearn/linear_model/_coordinate_descent.py:472: ConvergenceWarning: Objective did not converge. You might want to increase the number of iterations. Duality gap: 4.885919281379861, tolerance: 0.011842771890857593\n",
      "  tol, rng, random, positive)\n",
      "/opt/anaconda3/lib/python3.7/site-packages/sklearn/linear_model/_coordinate_descent.py:472: ConvergenceWarning: Objective did not converge. You might want to increase the number of iterations. Duality gap: 0.07516640311735934, tolerance: 0.011409851728955266\n",
      "  tol, rng, random, positive)\n",
      "/opt/anaconda3/lib/python3.7/site-packages/sklearn/linear_model/_coordinate_descent.py:472: ConvergenceWarning: Objective did not converge. You might want to increase the number of iterations. Duality gap: 4.959871179960936, tolerance: 0.011409851728955266\n",
      "  tol, rng, random, positive)\n",
      "/opt/anaconda3/lib/python3.7/site-packages/sklearn/linear_model/_coordinate_descent.py:472: ConvergenceWarning: Objective did not converge. You might want to increase the number of iterations. Duality gap: 4.798588906196795, tolerance: 0.01249675078459716\n",
      "  tol, rng, random, positive)\n",
      "/opt/anaconda3/lib/python3.7/site-packages/sklearn/linear_model/_coordinate_descent.py:472: ConvergenceWarning: Objective did not converge. You might want to increase the number of iterations. Duality gap: 0.01606512148509509, tolerance: 0.011948627436351873\n",
      "  tol, rng, random, positive)\n",
      "/opt/anaconda3/lib/python3.7/site-packages/sklearn/linear_model/_coordinate_descent.py:472: ConvergenceWarning: Objective did not converge. You might want to increase the number of iterations. Duality gap: 5.181354714232249, tolerance: 0.011948627436351873\n",
      "  tol, rng, random, positive)\n",
      "/opt/anaconda3/lib/python3.7/site-packages/sklearn/linear_model/_coordinate_descent.py:472: ConvergenceWarning: Objective did not converge. You might want to increase the number of iterations. Duality gap: 0.7348483275835953, tolerance: 0.01204441566621188\n",
      "  tol, rng, random, positive)\n",
      "/opt/anaconda3/lib/python3.7/site-packages/sklearn/linear_model/_coordinate_descent.py:472: ConvergenceWarning: Objective did not converge. You might want to increase the number of iterations. Duality gap: 0.9042997456885544, tolerance: 0.011842771890857593\n",
      "  tol, rng, random, positive)\n",
      "/opt/anaconda3/lib/python3.7/site-packages/sklearn/linear_model/_coordinate_descent.py:472: ConvergenceWarning: Objective did not converge. You might want to increase the number of iterations. Duality gap: 1.9958016944756647, tolerance: 0.011409851728955266\n",
      "  tol, rng, random, positive)\n",
      "/opt/anaconda3/lib/python3.7/site-packages/sklearn/linear_model/_coordinate_descent.py:472: ConvergenceWarning: Objective did not converge. You might want to increase the number of iterations. Duality gap: 0.6840547545068354, tolerance: 0.01249675078459716\n",
      "  tol, rng, random, positive)\n",
      "/opt/anaconda3/lib/python3.7/site-packages/sklearn/linear_model/_coordinate_descent.py:472: ConvergenceWarning: Objective did not converge. You might want to increase the number of iterations. Duality gap: 1.5468414722554078, tolerance: 0.011948627436351873\n",
      "  tol, rng, random, positive)\n",
      "/opt/anaconda3/lib/python3.7/site-packages/sklearn/linear_model/_coordinate_descent.py:472: ConvergenceWarning: Objective did not converge. You might want to increase the number of iterations. Duality gap: 0.1295662287921182, tolerance: 0.011842771890857593\n",
      "  tol, rng, random, positive)\n",
      "/opt/anaconda3/lib/python3.7/site-packages/sklearn/linear_model/_coordinate_descent.py:472: ConvergenceWarning: Objective did not converge. You might want to increase the number of iterations. Duality gap: 1.0356596824128914, tolerance: 0.011409851728955266\n",
      "  tol, rng, random, positive)\n",
      "/opt/anaconda3/lib/python3.7/site-packages/sklearn/linear_model/_coordinate_descent.py:472: ConvergenceWarning: Objective did not converge. You might want to increase the number of iterations. Duality gap: 0.018844061481374297, tolerance: 0.01249675078459716\n",
      "  tol, rng, random, positive)\n",
      "/opt/anaconda3/lib/python3.7/site-packages/sklearn/linear_model/_coordinate_descent.py:472: ConvergenceWarning: Objective did not converge. You might want to increase the number of iterations. Duality gap: 0.5489168546152179, tolerance: 0.011948627436351873\n",
      "  tol, rng, random, positive)\n",
      "/opt/anaconda3/lib/python3.7/site-packages/sklearn/linear_model/_coordinate_descent.py:472: ConvergenceWarning: Objective did not converge. You might want to increase the number of iterations. Duality gap: 0.364829614053237, tolerance: 0.011409851728955266\n",
      "  tol, rng, random, positive)\n",
      "/opt/anaconda3/lib/python3.7/site-packages/sklearn/linear_model/_coordinate_descent.py:472: ConvergenceWarning: Objective did not converge. You might want to increase the number of iterations. Duality gap: 0.04956928014663475, tolerance: 0.011948627436351873\n",
      "  tol, rng, random, positive)\n"
     ]
    },
    {
     "name": "stderr",
     "output_type": "stream",
     "text": [
      "/opt/anaconda3/lib/python3.7/site-packages/sklearn/linear_model/_coordinate_descent.py:472: ConvergenceWarning: Objective did not converge. You might want to increase the number of iterations. Duality gap: 0.24140229076424902, tolerance: 0.011409851728955266\n",
      "  tol, rng, random, positive)\n",
      "/opt/anaconda3/lib/python3.7/site-packages/sklearn/linear_model/_coordinate_descent.py:472: ConvergenceWarning: Objective did not converge. You might want to increase the number of iterations. Duality gap: 0.15908294401451428, tolerance: 0.011409851728955266\n",
      "  tol, rng, random, positive)\n",
      "/opt/anaconda3/lib/python3.7/site-packages/sklearn/linear_model/_coordinate_descent.py:472: ConvergenceWarning: Objective did not converge. You might want to increase the number of iterations. Duality gap: 0.140911258476887, tolerance: 0.011409851728955266\n",
      "  tol, rng, random, positive)\n",
      "/opt/anaconda3/lib/python3.7/site-packages/sklearn/linear_model/_coordinate_descent.py:472: ConvergenceWarning: Objective did not converge. You might want to increase the number of iterations. Duality gap: 2.4219884183334948, tolerance: 0.012317913246721546\n",
      "  tol, rng, random, positive)\n",
      "/opt/anaconda3/lib/python3.7/site-packages/sklearn/linear_model/_coordinate_descent.py:472: ConvergenceWarning: Objective did not converge. You might want to increase the number of iterations. Duality gap: 0.12843902106795468, tolerance: 0.01192466261820174\n",
      "  tol, rng, random, positive)\n",
      "/opt/anaconda3/lib/python3.7/site-packages/sklearn/linear_model/_coordinate_descent.py:472: ConvergenceWarning: Objective did not converge. You might want to increase the number of iterations. Duality gap: 5.517457718434678, tolerance: 0.01192466261820174\n",
      "  tol, rng, random, positive)\n",
      "/opt/anaconda3/lib/python3.7/site-packages/sklearn/linear_model/_coordinate_descent.py:472: ConvergenceWarning: Objective did not converge. You might want to increase the number of iterations. Duality gap: 5.1783218171870535, tolerance: 0.012435711781405408\n",
      "  tol, rng, random, positive)\n",
      "/opt/anaconda3/lib/python3.7/site-packages/sklearn/linear_model/_coordinate_descent.py:472: ConvergenceWarning: Objective did not converge. You might want to increase the number of iterations. Duality gap: 4.014664310724726, tolerance: 0.01252325957501501\n",
      "  tol, rng, random, positive)\n",
      "/opt/anaconda3/lib/python3.7/site-packages/sklearn/linear_model/_coordinate_descent.py:472: ConvergenceWarning: Objective did not converge. You might want to increase the number of iterations. Duality gap: 2.4262086392474185, tolerance: 0.01192466261820174\n",
      "  tol, rng, random, positive)\n",
      "/opt/anaconda3/lib/python3.7/site-packages/sklearn/linear_model/_coordinate_descent.py:472: ConvergenceWarning: Objective did not converge. You might want to increase the number of iterations. Duality gap: 0.6487290307751916, tolerance: 0.012435711781405408\n",
      "  tol, rng, random, positive)\n",
      "/opt/anaconda3/lib/python3.7/site-packages/sklearn/linear_model/_coordinate_descent.py:472: ConvergenceWarning: Objective did not converge. You might want to increase the number of iterations. Duality gap: 0.1357134684517014, tolerance: 0.01252325957501501\n",
      "  tol, rng, random, positive)\n",
      "/opt/anaconda3/lib/python3.7/site-packages/sklearn/linear_model/_coordinate_descent.py:472: ConvergenceWarning: Objective did not converge. You might want to increase the number of iterations. Duality gap: 1.3435784725927178, tolerance: 0.01192466261820174\n",
      "  tol, rng, random, positive)\n",
      "/opt/anaconda3/lib/python3.7/site-packages/sklearn/linear_model/_coordinate_descent.py:472: ConvergenceWarning: Objective did not converge. You might want to increase the number of iterations. Duality gap: 0.555632493879676, tolerance: 0.01192466261820174\n",
      "  tol, rng, random, positive)\n",
      "/opt/anaconda3/lib/python3.7/site-packages/sklearn/linear_model/_coordinate_descent.py:472: ConvergenceWarning: Objective did not converge. You might want to increase the number of iterations. Duality gap: 0.4065410197490067, tolerance: 0.01192466261820174\n",
      "  tol, rng, random, positive)\n",
      "/opt/anaconda3/lib/python3.7/site-packages/sklearn/linear_model/_coordinate_descent.py:472: ConvergenceWarning: Objective did not converge. You might want to increase the number of iterations. Duality gap: 0.3022406821634007, tolerance: 0.01192466261820174\n",
      "  tol, rng, random, positive)\n",
      "/opt/anaconda3/lib/python3.7/site-packages/sklearn/linear_model/_coordinate_descent.py:472: ConvergenceWarning: Objective did not converge. You might want to increase the number of iterations. Duality gap: 0.278311096810107, tolerance: 0.01192466261820174\n",
      "  tol, rng, random, positive)\n",
      "/opt/anaconda3/lib/python3.7/site-packages/sklearn/linear_model/_coordinate_descent.py:472: ConvergenceWarning: Objective did not converge. You might want to increase the number of iterations. Duality gap: 3.925419777937922, tolerance: 0.013215025824964824\n",
      "  tol, rng, random, positive)\n",
      "/opt/anaconda3/lib/python3.7/site-packages/sklearn/linear_model/_coordinate_descent.py:472: ConvergenceWarning: Objective did not converge. You might want to increase the number of iterations. Duality gap: 0.041402339596707805, tolerance: 0.012827716247923466\n",
      "  tol, rng, random, positive)\n",
      "/opt/anaconda3/lib/python3.7/site-packages/sklearn/linear_model/_coordinate_descent.py:472: ConvergenceWarning: Objective did not converge. You might want to increase the number of iterations. Duality gap: 5.781538920824621, tolerance: 0.012827716247923466\n",
      "  tol, rng, random, positive)\n",
      "/opt/anaconda3/lib/python3.7/site-packages/sklearn/linear_model/_coordinate_descent.py:472: ConvergenceWarning: Objective did not converge. You might want to increase the number of iterations. Duality gap: 1.995059042778493, tolerance: 0.012466933962773862\n",
      "  tol, rng, random, positive)\n",
      "/opt/anaconda3/lib/python3.7/site-packages/sklearn/linear_model/_coordinate_descent.py:472: ConvergenceWarning: Objective did not converge. You might want to increase the number of iterations. Duality gap: 5.135862902322307, tolerance: 0.013323631619593004\n",
      "  tol, rng, random, positive)\n",
      "/opt/anaconda3/lib/python3.7/site-packages/sklearn/linear_model/_coordinate_descent.py:472: ConvergenceWarning: Objective did not converge. You might want to increase the number of iterations. Duality gap: 1.664372039314542, tolerance: 0.013411029960143992\n",
      "  tol, rng, random, positive)\n",
      "/opt/anaconda3/lib/python3.7/site-packages/sklearn/linear_model/_coordinate_descent.py:472: ConvergenceWarning: Objective did not converge. You might want to increase the number of iterations. Duality gap: 0.015897501743330267, tolerance: 0.013215025824964824\n",
      "  tol, rng, random, positive)\n",
      "/opt/anaconda3/lib/python3.7/site-packages/sklearn/linear_model/_coordinate_descent.py:472: ConvergenceWarning: Objective did not converge. You might want to increase the number of iterations. Duality gap: 2.0188853051215654, tolerance: 0.012827716247923466\n",
      "  tol, rng, random, positive)\n",
      "/opt/anaconda3/lib/python3.7/site-packages/sklearn/linear_model/_coordinate_descent.py:472: ConvergenceWarning: Objective did not converge. You might want to increase the number of iterations. Duality gap: 0.15101169248574742, tolerance: 0.013323631619593004\n",
      "  tol, rng, random, positive)\n",
      "/opt/anaconda3/lib/python3.7/site-packages/sklearn/linear_model/_coordinate_descent.py:472: ConvergenceWarning: Objective did not converge. You might want to increase the number of iterations. Duality gap: 0.017222047110113436, tolerance: 0.013215025824964824\n",
      "  tol, rng, random, positive)\n",
      "/opt/anaconda3/lib/python3.7/site-packages/sklearn/linear_model/_coordinate_descent.py:472: ConvergenceWarning: Objective did not converge. You might want to increase the number of iterations. Duality gap: 0.8709271771946998, tolerance: 0.012827716247923466\n",
      "  tol, rng, random, positive)\n",
      "/opt/anaconda3/lib/python3.7/site-packages/sklearn/linear_model/_coordinate_descent.py:472: ConvergenceWarning: Objective did not converge. You might want to increase the number of iterations. Duality gap: 0.018355705822408197, tolerance: 0.013215025824964824\n",
      "  tol, rng, random, positive)\n",
      "/opt/anaconda3/lib/python3.7/site-packages/sklearn/linear_model/_coordinate_descent.py:472: ConvergenceWarning: Objective did not converge. You might want to increase the number of iterations. Duality gap: 0.17770408607491106, tolerance: 0.012827716247923466\n",
      "  tol, rng, random, positive)\n",
      "/opt/anaconda3/lib/python3.7/site-packages/sklearn/linear_model/_coordinate_descent.py:472: ConvergenceWarning: Objective did not converge. You might want to increase the number of iterations. Duality gap: 0.017049568469559517, tolerance: 0.013215025824964824\n",
      "  tol, rng, random, positive)\n",
      "/opt/anaconda3/lib/python3.7/site-packages/sklearn/linear_model/_coordinate_descent.py:472: ConvergenceWarning: Objective did not converge. You might want to increase the number of iterations. Duality gap: 0.08225414740446446, tolerance: 0.012827716247923466\n",
      "  tol, rng, random, positive)\n",
      "/opt/anaconda3/lib/python3.7/site-packages/sklearn/linear_model/_coordinate_descent.py:472: ConvergenceWarning: Objective did not converge. You might want to increase the number of iterations. Duality gap: 0.01613746768995128, tolerance: 0.013215025824964824\n",
      "  tol, rng, random, positive)\n",
      "/opt/anaconda3/lib/python3.7/site-packages/sklearn/linear_model/_coordinate_descent.py:472: ConvergenceWarning: Objective did not converge. You might want to increase the number of iterations. Duality gap: 0.03102081372545662, tolerance: 0.012827716247923466\n",
      "  tol, rng, random, positive)\n"
     ]
    },
    {
     "name": "stderr",
     "output_type": "stream",
     "text": [
      "/opt/anaconda3/lib/python3.7/site-packages/sklearn/linear_model/_coordinate_descent.py:472: ConvergenceWarning: Objective did not converge. You might want to increase the number of iterations. Duality gap: 0.01591561028345012, tolerance: 0.013215025824964824\n",
      "  tol, rng, random, positive)\n",
      "/opt/anaconda3/lib/python3.7/site-packages/sklearn/linear_model/_coordinate_descent.py:472: ConvergenceWarning: Objective did not converge. You might want to increase the number of iterations. Duality gap: 0.02188011250830968, tolerance: 0.012827716247923466\n",
      "  tol, rng, random, positive)\n",
      "/opt/anaconda3/lib/python3.7/site-packages/sklearn/linear_model/_coordinate_descent.py:472: ConvergenceWarning: Objective did not converge. You might want to increase the number of iterations. Duality gap: 3.0445887926850643, tolerance: 0.012600181736230436\n",
      "  tol, rng, random, positive)\n",
      "/opt/anaconda3/lib/python3.7/site-packages/sklearn/linear_model/_coordinate_descent.py:472: ConvergenceWarning: Objective did not converge. You might want to increase the number of iterations. Duality gap: 4.476781158705206, tolerance: 0.01220912771655301\n",
      "  tol, rng, random, positive)\n",
      "/opt/anaconda3/lib/python3.7/site-packages/sklearn/linear_model/_coordinate_descent.py:472: ConvergenceWarning: Objective did not converge. You might want to increase the number of iterations. Duality gap: 3.8236858351512533, tolerance: 0.01310377851974466\n",
      "  tol, rng, random, positive)\n",
      "/opt/anaconda3/lib/python3.7/site-packages/sklearn/linear_model/_coordinate_descent.py:472: ConvergenceWarning: Objective did not converge. You might want to increase the number of iterations. Duality gap: 2.789179032195582, tolerance: 0.013016737046746584\n",
      "  tol, rng, random, positive)\n",
      "/opt/anaconda3/lib/python3.7/site-packages/sklearn/linear_model/_coordinate_descent.py:472: ConvergenceWarning: Objective did not converge. You might want to increase the number of iterations. Duality gap: 0.014079989801912163, tolerance: 0.012600181736230436\n",
      "  tol, rng, random, positive)\n",
      "/opt/anaconda3/lib/python3.7/site-packages/sklearn/linear_model/_coordinate_descent.py:472: ConvergenceWarning: Objective did not converge. You might want to increase the number of iterations. Duality gap: 0.3773175264813329, tolerance: 0.01220912771655301\n",
      "  tol, rng, random, positive)\n",
      "/opt/anaconda3/lib/python3.7/site-packages/sklearn/linear_model/_coordinate_descent.py:472: ConvergenceWarning: Objective did not converge. You might want to increase the number of iterations. Duality gap: 0.03361831430841811, tolerance: 0.01310377851974466\n",
      "  tol, rng, random, positive)\n",
      "/opt/anaconda3/lib/python3.7/site-packages/sklearn/linear_model/_coordinate_descent.py:472: ConvergenceWarning: Objective did not converge. You might want to increase the number of iterations. Duality gap: 0.01629483705025514, tolerance: 0.012600181736230436\n",
      "  tol, rng, random, positive)\n",
      "/opt/anaconda3/lib/python3.7/site-packages/sklearn/linear_model/_coordinate_descent.py:472: ConvergenceWarning: Objective did not converge. You might want to increase the number of iterations. Duality gap: 0.04107645138204852, tolerance: 0.01310377851974466\n",
      "  tol, rng, random, positive)\n",
      "/opt/anaconda3/lib/python3.7/site-packages/sklearn/linear_model/_coordinate_descent.py:472: ConvergenceWarning: Objective did not converge. You might want to increase the number of iterations. Duality gap: 0.045159854692645496, tolerance: 0.01310377851974466\n",
      "  tol, rng, random, positive)\n",
      "/opt/anaconda3/lib/python3.7/site-packages/sklearn/linear_model/_coordinate_descent.py:472: ConvergenceWarning: Objective did not converge. You might want to increase the number of iterations. Duality gap: 0.0442784969527672, tolerance: 0.01310377851974466\n",
      "  tol, rng, random, positive)\n",
      "/opt/anaconda3/lib/python3.7/site-packages/sklearn/linear_model/_coordinate_descent.py:472: ConvergenceWarning: Objective did not converge. You might want to increase the number of iterations. Duality gap: 0.045199771788130505, tolerance: 0.01310377851974466\n",
      "  tol, rng, random, positive)\n",
      "/opt/anaconda3/lib/python3.7/site-packages/sklearn/linear_model/_coordinate_descent.py:472: ConvergenceWarning: Objective did not converge. You might want to increase the number of iterations. Duality gap: 0.045348545147188446, tolerance: 0.01310377851974466\n",
      "  tol, rng, random, positive)\n"
     ]
    }
   ],
   "source": [
    "best_model = ElasticNetCV(alphas=np.logspace(-4, 4, 10), \n",
    "                     l1_ratio=np.array([.1, .5, .7, .9, .95, .99, 1]),\n",
    "                     cv=5)\n",
    "# fit the model\n",
    "best_model.fit(X_train, log_y_train)\n",
    "# get the best alpha\n",
    "print('Best alpha:', best_model.alpha_)\n",
    "# get the best l1-ratio\n",
    "print('Best l1-ratio:', best_model.l1_ratio_)\n",
    "\n",
    "# evaluate on the training set\n",
    "training_score = best_model.score(X_train, log_y_train)\n",
    "# evaluate on the test set\n",
    "test_score = best_model.score(X_test, log_y_test)\n",
    "\n",
    "#mean cv score on training data\n",
    "scores = cross_val_score(best_model, X_train, log_y_train, cv=5).mean()"
   ]
  },
  {
   "cell_type": "code",
   "execution_count": 58,
   "metadata": {
    "ExecuteTime": {
     "end_time": "2020-05-31T13:32:53.108577Z",
     "start_time": "2020-05-31T13:32:53.096731Z"
    },
    "hidden": true
   },
   "outputs": [
    {
     "data": {
      "text/html": [
       "<div>\n",
       "<style scoped>\n",
       "    .dataframe tbody tr th:only-of-type {\n",
       "        vertical-align: middle;\n",
       "    }\n",
       "\n",
       "    .dataframe tbody tr th {\n",
       "        vertical-align: top;\n",
       "    }\n",
       "\n",
       "    .dataframe thead th {\n",
       "        text-align: right;\n",
       "    }\n",
       "</style>\n",
       "<table border=\"1\" class=\"dataframe\">\n",
       "  <thead>\n",
       "    <tr style=\"text-align: right;\">\n",
       "      <th></th>\n",
       "      <th>ElasticNetCV_log</th>\n",
       "    </tr>\n",
       "  </thead>\n",
       "  <tbody>\n",
       "    <tr>\n",
       "      <td>Training_Score</td>\n",
       "      <td>0.873240</td>\n",
       "    </tr>\n",
       "    <tr>\n",
       "      <td>Test_Score</td>\n",
       "      <td>0.896111</td>\n",
       "    </tr>\n",
       "    <tr>\n",
       "      <td>Mean_CV</td>\n",
       "      <td>0.844990</td>\n",
       "    </tr>\n",
       "  </tbody>\n",
       "</table>\n",
       "</div>"
      ],
      "text/plain": [
       "                ElasticNetCV_log\n",
       "Training_Score          0.873240\n",
       "Test_Score              0.896111\n",
       "Mean_CV                 0.844990"
      ]
     },
     "execution_count": 58,
     "metadata": {},
     "output_type": "execute_result"
    }
   ],
   "source": [
    "score_series_elastic_log = pd.DataFrame([training_score, test_score, scores], index = ['Training_Score', 'Test_Score', 'Mean_CV'], \n",
    "                            columns = ['ElasticNetCV_log'])\n",
    "score_series_elastic_log"
   ]
  },
  {
   "cell_type": "code",
   "execution_count": 59,
   "metadata": {
    "ExecuteTime": {
     "end_time": "2020-05-31T13:32:53.130637Z",
     "start_time": "2020-05-31T13:32:53.112222Z"
    },
    "hidden": true
   },
   "outputs": [
    {
     "data": {
      "text/html": [
       "<div>\n",
       "<style scoped>\n",
       "    .dataframe tbody tr th:only-of-type {\n",
       "        vertical-align: middle;\n",
       "    }\n",
       "\n",
       "    .dataframe tbody tr th {\n",
       "        vertical-align: top;\n",
       "    }\n",
       "\n",
       "    .dataframe thead th {\n",
       "        text-align: right;\n",
       "    }\n",
       "</style>\n",
       "<table border=\"1\" class=\"dataframe\">\n",
       "  <thead>\n",
       "    <tr style=\"text-align: right;\">\n",
       "      <th></th>\n",
       "      <th>coefficients</th>\n",
       "      <th>coef_abs</th>\n",
       "    </tr>\n",
       "  </thead>\n",
       "  <tbody>\n",
       "    <tr>\n",
       "      <td>GrLivArea</td>\n",
       "      <td>0.083409</td>\n",
       "      <td>0.083409</td>\n",
       "    </tr>\n",
       "    <tr>\n",
       "      <td>GarageCars</td>\n",
       "      <td>0.053928</td>\n",
       "      <td>0.053928</td>\n",
       "    </tr>\n",
       "    <tr>\n",
       "      <td>YearRemodAdd</td>\n",
       "      <td>0.052785</td>\n",
       "      <td>0.052785</td>\n",
       "    </tr>\n",
       "    <tr>\n",
       "      <td>Fireplaces</td>\n",
       "      <td>0.036554</td>\n",
       "      <td>0.036554</td>\n",
       "    </tr>\n",
       "    <tr>\n",
       "      <td>Neighborhood_NridgHt</td>\n",
       "      <td>0.032072</td>\n",
       "      <td>0.032072</td>\n",
       "    </tr>\n",
       "    <tr>\n",
       "      <td>YearBuilt</td>\n",
       "      <td>0.030222</td>\n",
       "      <td>0.030222</td>\n",
       "    </tr>\n",
       "    <tr>\n",
       "      <td>BsmtQual_Ex</td>\n",
       "      <td>0.027940</td>\n",
       "      <td>0.027940</td>\n",
       "    </tr>\n",
       "    <tr>\n",
       "      <td>FullBath</td>\n",
       "      <td>0.024990</td>\n",
       "      <td>0.024990</td>\n",
       "    </tr>\n",
       "    <tr>\n",
       "      <td>Neighborhood_Crawfor</td>\n",
       "      <td>0.023910</td>\n",
       "      <td>0.023910</td>\n",
       "    </tr>\n",
       "    <tr>\n",
       "      <td>BsmtFullBath</td>\n",
       "      <td>0.023289</td>\n",
       "      <td>0.023289</td>\n",
       "    </tr>\n",
       "  </tbody>\n",
       "</table>\n",
       "</div>"
      ],
      "text/plain": [
       "                      coefficients  coef_abs\n",
       "GrLivArea                 0.083409  0.083409\n",
       "GarageCars                0.053928  0.053928\n",
       "YearRemodAdd              0.052785  0.052785\n",
       "Fireplaces                0.036554  0.036554\n",
       "Neighborhood_NridgHt      0.032072  0.032072\n",
       "YearBuilt                 0.030222  0.030222\n",
       "BsmtQual_Ex               0.027940  0.027940\n",
       "FullBath                  0.024990  0.024990\n",
       "Neighborhood_Crawfor      0.023910  0.023910\n",
       "BsmtFullBath              0.023289  0.023289"
      ]
     },
     "execution_count": 59,
     "metadata": {},
     "output_type": "execute_result"
    }
   ],
   "source": [
    "# collect the model coefficients in a dataframe\n",
    "df_coef = pd.DataFrame(best_model.coef_, index=X_train.columns,\n",
    "                       columns=['coefficients'])\n",
    "\n",
    "# calculate the absolute values of the coefficients to gauge influence (show importance of predictor variables)\n",
    "df_coef['coef_abs'] = df_coef.coefficients.abs()\n",
    "df_coef.sort_values(by = 'coef_abs', ascending = False)[:10]"
   ]
  },
  {
   "cell_type": "code",
   "execution_count": 60,
   "metadata": {
    "ExecuteTime": {
     "end_time": "2020-05-31T13:32:53.438773Z",
     "start_time": "2020-05-31T13:32:53.133944Z"
    },
    "hidden": true
   },
   "outputs": [
    {
     "data": {
      "image/png": "[encoded data removed]",
      "text/plain": [
       "<Figure size 432x288 with 1 Axes>"
      ]
     },
     "metadata": {
      "image/png": {
       "height": 248,
       "width": 470
      },
      "needs_background": "light"
     },
     "output_type": "display_data"
    }
   ],
   "source": [
    "df_coef['coefficients'].sort_values(ascending = False).head(5).plot(kind='barh');"
   ]
  },
  {
   "cell_type": "markdown",
   "metadata": {
    "hidden": true
   },
   "source": [
    "In this model, amount of living space, the year a remodel or addition was completed, number of cars that fit in the garage, and number of fireplaces have the greatest impact on the sale price of the home."
   ]
  },
  {
   "cell_type": "markdown",
   "metadata": {
    "hidden": true
   },
   "source": [
    "#### Compare model scores from all models: those with the unmodified X and Y, and with taking the log of Y"
   ]
  },
  {
   "cell_type": "code",
   "execution_count": 61,
   "metadata": {
    "ExecuteTime": {
     "end_time": "2020-05-31T13:32:53.460081Z",
     "start_time": "2020-05-31T13:32:53.442159Z"
    },
    "hidden": true
   },
   "outputs": [
    {
     "data": {
      "text/html": [
       "<div>\n",
       "<style scoped>\n",
       "    .dataframe tbody tr th:only-of-type {\n",
       "        vertical-align: middle;\n",
       "    }\n",
       "\n",
       "    .dataframe tbody tr th {\n",
       "        vertical-align: top;\n",
       "    }\n",
       "\n",
       "    .dataframe thead th {\n",
       "        text-align: right;\n",
       "    }\n",
       "</style>\n",
       "<table border=\"1\" class=\"dataframe\">\n",
       "  <thead>\n",
       "    <tr style=\"text-align: right;\">\n",
       "      <th></th>\n",
       "      <th>ElasticNetCV_log</th>\n",
       "      <th>RidgeCV_log</th>\n",
       "      <th>LassoCV_log</th>\n",
       "      <th>ElasticNetCV</th>\n",
       "      <th>RidgeCV</th>\n",
       "      <th>LassoCV</th>\n",
       "    </tr>\n",
       "  </thead>\n",
       "  <tbody>\n",
       "    <tr>\n",
       "      <td>Training_Score</td>\n",
       "      <td>0.873240</td>\n",
       "      <td>0.880928</td>\n",
       "      <td>0.881633</td>\n",
       "      <td>0.841846</td>\n",
       "      <td>0.854696</td>\n",
       "      <td>0.847027</td>\n",
       "    </tr>\n",
       "    <tr>\n",
       "      <td>Test_Score</td>\n",
       "      <td>0.896111</td>\n",
       "      <td>0.889633</td>\n",
       "      <td>0.894639</td>\n",
       "      <td>0.858648</td>\n",
       "      <td>0.863839</td>\n",
       "      <td>0.862124</td>\n",
       "    </tr>\n",
       "    <tr>\n",
       "      <td>Mean_CV</td>\n",
       "      <td>0.844990</td>\n",
       "      <td>0.841501</td>\n",
       "      <td>0.842388</td>\n",
       "      <td>0.812159</td>\n",
       "      <td>0.803226</td>\n",
       "      <td>0.814955</td>\n",
       "    </tr>\n",
       "  </tbody>\n",
       "</table>\n",
       "</div>"
      ],
      "text/plain": [
       "                ElasticNetCV_log  RidgeCV_log  LassoCV_log  ElasticNetCV  \\\n",
       "Training_Score          0.873240     0.880928     0.881633      0.841846   \n",
       "Test_Score              0.896111     0.889633     0.894639      0.858648   \n",
       "Mean_CV                 0.844990     0.841501     0.842388      0.812159   \n",
       "\n",
       "                 RidgeCV   LassoCV  \n",
       "Training_Score  0.854696  0.847027  \n",
       "Test_Score      0.863839  0.862124  \n",
       "Mean_CV         0.803226  0.814955  "
      ]
     },
     "execution_count": 61,
     "metadata": {},
     "output_type": "execute_result"
    }
   ],
   "source": [
    "logDf = score_series_elastic_log.merge(score_series_ridge_log, left_index=True, right_index=True)\n",
    "logDf = logDf.merge(score_series_lasso_log, left_index = True, right_index = True)\n",
    "\n",
    "all_scores = logDf.merge(mergedDf, left_index= True, right_index = True)\n",
    "\n",
    "all_scores"
   ]
  },
  {
   "cell_type": "markdown",
   "metadata": {
    "hidden": true
   },
   "source": [
    "Before taking the log of y values, the best model was Lasso, with a CV mean score of .8149\n",
    "\n",
    "After taking the log of y, the best model was Elastic Net, with a mean CV score of .8449.\n",
    "\n",
    "The strongest coefficients are GrLivArea, GarageCars, YearRemodAdd, Fireplaces & Neighborhood."
   ]
  },
  {
   "cell_type": "markdown",
   "metadata": {
    "heading_collapsed": true
   },
   "source": [
    "## Conclusion:\n",
    "The best model for predicting house sale prices based on fixed features is Elastic Net CV, after taking the log of the sales prices (y values). Based on this model, the strongest predictors of price are ground floor living space, size of the garage, year a remodel or addition was completed, number of fireplaces & neighborhood. The model performs a bit better and more accurate than the models done without taking the log of sales price, but looking at the coefficients from the previous models may also be informative for the real estate company.\n",
    "\n",
    "Before taking the log of the sales price, the best performing model was LassoCV. The coefficients can tell the company how much more or less value a house will have based on the fixed characteristics of the home. \n",
    "* Each increase by 1 sqft in Ground Floor Living Area will equate to an increase of \\$27,704 in sale price\n",
    "* A basement with the highest quality (Excellent) will equate to a \\$12,973 greater sale price\n",
    "* A home in North Ridge Heights or North Ridge will increase sale prices by about \\$10,000\n",
    "* Each additional car that can fit in the garage will increase the sale price by \\$8,800"
   ]
  },
  {
   "cell_type": "markdown",
   "metadata": {},
   "source": [
    "# 2. Determine any value of *changeable* property characteristics unexplained by the *fixed* ones.\n",
    "\n",
    "---\n",
    "\n",
    "To gain better predictions on the house's sale price, I developed a model to predict the residuals from the previous regression model based on changeable features of the home. This model would help the real estate company evaluate the cost or benefits of renovating a home to improve its quality, condition, or etc.\n",
    "\n",
    "There are two specific requirements for these estimates:\n",
    "1. The estimates of effects must be in terms of dollars added or subtracted from the house value. \n",
    "2. The effects must be on the variance in price remaining from the first model.\n",
    "\n",
    "The residuals from the first model (training and testing) represent the variance in price unexplained by the fixed characteristics. Of that variance in price remaining, how much of it can be explained by the easy-to-change aspects of the property?"
   ]
  },
  {
   "cell_type": "markdown",
   "metadata": {
    "ExecuteTime": {
     "end_time": "2020-05-30T12:48:03.374254Z",
     "start_time": "2020-05-30T12:48:03.365543Z"
    },
    "heading_collapsed": true
   },
   "source": [
    "## EDA & Feature Engineering\n",
    "Looking closely at the features that can be changed"
   ]
  },
  {
   "cell_type": "code",
   "execution_count": 62,
   "metadata": {
    "ExecuteTime": {
     "end_time": "2020-05-31T13:32:53.496297Z",
     "start_time": "2020-05-31T13:32:53.463717Z"
    },
    "hidden": true
   },
   "outputs": [
    {
     "data": {
      "text/html": [
       "<div>\n",
       "<style scoped>\n",
       "    .dataframe tbody tr th:only-of-type {\n",
       "        vertical-align: middle;\n",
       "    }\n",
       "\n",
       "    .dataframe tbody tr th {\n",
       "        vertical-align: top;\n",
       "    }\n",
       "\n",
       "    .dataframe thead th {\n",
       "        text-align: right;\n",
       "    }\n",
       "</style>\n",
       "<table border=\"1\" class=\"dataframe\">\n",
       "  <thead>\n",
       "    <tr style=\"text-align: right;\">\n",
       "      <th></th>\n",
       "      <th>OverallQual</th>\n",
       "      <th>OverallCond</th>\n",
       "      <th>RoofStyle</th>\n",
       "      <th>Exterior1st</th>\n",
       "      <th>Exterior2nd</th>\n",
       "      <th>MasVnrType</th>\n",
       "      <th>MasVnrArea</th>\n",
       "      <th>ExterQual</th>\n",
       "      <th>ExterCond</th>\n",
       "      <th>BsmtFinType2</th>\n",
       "      <th>BsmtFinType1</th>\n",
       "      <th>BsmtFinSF1</th>\n",
       "      <th>BsmtFinSF2</th>\n",
       "      <th>BsmtUnfSF</th>\n",
       "      <th>BsmtCond</th>\n",
       "      <th>HeatingQC</th>\n",
       "      <th>KitchenQual</th>\n",
       "      <th>GarageFinish</th>\n",
       "      <th>GarageQual</th>\n",
       "      <th>YrSold</th>\n",
       "    </tr>\n",
       "  </thead>\n",
       "  <tbody>\n",
       "    <tr>\n",
       "      <td>0</td>\n",
       "      <td>7</td>\n",
       "      <td>5</td>\n",
       "      <td>Gable</td>\n",
       "      <td>VinylSd</td>\n",
       "      <td>VinylSd</td>\n",
       "      <td>BrkFace</td>\n",
       "      <td>196.0</td>\n",
       "      <td>Gd</td>\n",
       "      <td>TA</td>\n",
       "      <td>Unf</td>\n",
       "      <td>GLQ</td>\n",
       "      <td>706</td>\n",
       "      <td>0</td>\n",
       "      <td>150</td>\n",
       "      <td>TA</td>\n",
       "      <td>Ex</td>\n",
       "      <td>Gd</td>\n",
       "      <td>RFn</td>\n",
       "      <td>TA</td>\n",
       "      <td>2008</td>\n",
       "    </tr>\n",
       "    <tr>\n",
       "      <td>1</td>\n",
       "      <td>6</td>\n",
       "      <td>8</td>\n",
       "      <td>Gable</td>\n",
       "      <td>MetalSd</td>\n",
       "      <td>MetalSd</td>\n",
       "      <td>None</td>\n",
       "      <td>0.0</td>\n",
       "      <td>TA</td>\n",
       "      <td>TA</td>\n",
       "      <td>Unf</td>\n",
       "      <td>ALQ</td>\n",
       "      <td>978</td>\n",
       "      <td>0</td>\n",
       "      <td>284</td>\n",
       "      <td>TA</td>\n",
       "      <td>Ex</td>\n",
       "      <td>TA</td>\n",
       "      <td>RFn</td>\n",
       "      <td>TA</td>\n",
       "      <td>2007</td>\n",
       "    </tr>\n",
       "    <tr>\n",
       "      <td>2</td>\n",
       "      <td>7</td>\n",
       "      <td>5</td>\n",
       "      <td>Gable</td>\n",
       "      <td>VinylSd</td>\n",
       "      <td>VinylSd</td>\n",
       "      <td>BrkFace</td>\n",
       "      <td>162.0</td>\n",
       "      <td>Gd</td>\n",
       "      <td>TA</td>\n",
       "      <td>Unf</td>\n",
       "      <td>GLQ</td>\n",
       "      <td>486</td>\n",
       "      <td>0</td>\n",
       "      <td>434</td>\n",
       "      <td>TA</td>\n",
       "      <td>Ex</td>\n",
       "      <td>Gd</td>\n",
       "      <td>RFn</td>\n",
       "      <td>TA</td>\n",
       "      <td>2008</td>\n",
       "    </tr>\n",
       "    <tr>\n",
       "      <td>3</td>\n",
       "      <td>7</td>\n",
       "      <td>5</td>\n",
       "      <td>Gable</td>\n",
       "      <td>Wd Sdng</td>\n",
       "      <td>Wd Shng</td>\n",
       "      <td>None</td>\n",
       "      <td>0.0</td>\n",
       "      <td>TA</td>\n",
       "      <td>TA</td>\n",
       "      <td>Unf</td>\n",
       "      <td>ALQ</td>\n",
       "      <td>216</td>\n",
       "      <td>0</td>\n",
       "      <td>540</td>\n",
       "      <td>Gd</td>\n",
       "      <td>Gd</td>\n",
       "      <td>Gd</td>\n",
       "      <td>Unf</td>\n",
       "      <td>TA</td>\n",
       "      <td>2006</td>\n",
       "    </tr>\n",
       "    <tr>\n",
       "      <td>4</td>\n",
       "      <td>8</td>\n",
       "      <td>5</td>\n",
       "      <td>Gable</td>\n",
       "      <td>VinylSd</td>\n",
       "      <td>VinylSd</td>\n",
       "      <td>BrkFace</td>\n",
       "      <td>350.0</td>\n",
       "      <td>Gd</td>\n",
       "      <td>TA</td>\n",
       "      <td>Unf</td>\n",
       "      <td>GLQ</td>\n",
       "      <td>655</td>\n",
       "      <td>0</td>\n",
       "      <td>490</td>\n",
       "      <td>TA</td>\n",
       "      <td>Ex</td>\n",
       "      <td>Gd</td>\n",
       "      <td>RFn</td>\n",
       "      <td>TA</td>\n",
       "      <td>2008</td>\n",
       "    </tr>\n",
       "  </tbody>\n",
       "</table>\n",
       "</div>"
      ],
      "text/plain": [
       "   OverallQual  OverallCond RoofStyle Exterior1st Exterior2nd MasVnrType  \\\n",
       "0            7            5     Gable     VinylSd     VinylSd    BrkFace   \n",
       "1            6            8     Gable     MetalSd     MetalSd       None   \n",
       "2            7            5     Gable     VinylSd     VinylSd    BrkFace   \n",
       "3            7            5     Gable     Wd Sdng     Wd Shng       None   \n",
       "4            8            5     Gable     VinylSd     VinylSd    BrkFace   \n",
       "\n",
       "   MasVnrArea ExterQual ExterCond BsmtFinType2 BsmtFinType1  BsmtFinSF1  \\\n",
       "0       196.0        Gd        TA          Unf          GLQ         706   \n",
       "1         0.0        TA        TA          Unf          ALQ         978   \n",
       "2       162.0        Gd        TA          Unf          GLQ         486   \n",
       "3         0.0        TA        TA          Unf          ALQ         216   \n",
       "4       350.0        Gd        TA          Unf          GLQ         655   \n",
       "\n",
       "   BsmtFinSF2  BsmtUnfSF BsmtCond HeatingQC KitchenQual GarageFinish  \\\n",
       "0           0        150       TA        Ex          Gd          RFn   \n",
       "1           0        284       TA        Ex          TA          RFn   \n",
       "2           0        434       TA        Ex          Gd          RFn   \n",
       "3           0        540       Gd        Gd          Gd          Unf   \n",
       "4           0        490       TA        Ex          Gd          RFn   \n",
       "\n",
       "  GarageQual  YrSold  \n",
       "0         TA    2008  \n",
       "1         TA    2007  \n",
       "2         TA    2008  \n",
       "3         TA    2006  \n",
       "4         TA    2008  "
      ]
     },
     "execution_count": 62,
     "metadata": {},
     "output_type": "execute_result"
    }
   ],
   "source": [
    "changeable = house[['OverallQual', 'OverallCond', 'RoofStyle', 'Exterior1st', 'Exterior2nd', 'MasVnrType', 'MasVnrArea', 'ExterQual',\n",
    "'ExterCond', 'BsmtFinType2', 'BsmtFinType1', 'BsmtFinSF1', 'BsmtFinSF2', 'BsmtUnfSF', 'BsmtCond','HeatingQC','KitchenQual','GarageFinish', 'GarageQual', 'YrSold']]\n",
    "changeable.head()"
   ]
  },
  {
   "cell_type": "code",
   "execution_count": 63,
   "metadata": {
    "ExecuteTime": {
     "end_time": "2020-05-31T13:32:53.527031Z",
     "start_time": "2020-05-31T13:32:53.500656Z"
    },
    "hidden": true
   },
   "outputs": [
    {
     "data": {
      "text/plain": [
       "OverallQual      0\n",
       "OverallCond      0\n",
       "RoofStyle        0\n",
       "Exterior1st      0\n",
       "Exterior2nd      0\n",
       "MasVnrType       8\n",
       "MasVnrArea       8\n",
       "ExterQual        0\n",
       "ExterCond        0\n",
       "BsmtFinType2    38\n",
       "BsmtFinType1    37\n",
       "BsmtFinSF1       0\n",
       "BsmtFinSF2       0\n",
       "BsmtUnfSF        0\n",
       "BsmtCond        37\n",
       "HeatingQC        0\n",
       "KitchenQual      0\n",
       "GarageFinish    79\n",
       "GarageQual      79\n",
       "YrSold           0\n",
       "dtype: int64"
      ]
     },
     "execution_count": 63,
     "metadata": {},
     "output_type": "execute_result"
    }
   ],
   "source": [
    "changeable.isnull().sum()"
   ]
  },
  {
   "cell_type": "code",
   "execution_count": 64,
   "metadata": {
    "ExecuteTime": {
     "end_time": "2020-05-31T13:32:53.569770Z",
     "start_time": "2020-05-31T13:32:53.536296Z"
    },
    "hidden": true
   },
   "outputs": [
    {
     "name": "stderr",
     "output_type": "stream",
     "text": [
      "/opt/anaconda3/lib/python3.7/site-packages/pandas/core/generic.py:6287: SettingWithCopyWarning: \n",
      "A value is trying to be set on a copy of a slice from a DataFrame\n",
      "\n",
      "See the caveats in the documentation: http://pandas.pydata.org/pandas-docs/stable/user_guide/indexing.html#returning-a-view-versus-a-copy\n",
      "  self._update_inplace(new_data)\n"
     ]
    }
   ],
   "source": [
    "#na was automatically put as NaN\n",
    "#change back to 'NA'\n",
    "changeable.MasVnrType.fillna('NA', inplace=True)\n",
    "changeable.MasVnrArea.fillna('NA', inplace=True)\n",
    "changeable.BsmtFinType2.fillna('NA', inplace=True)\n",
    "changeable.BsmtFinType1.fillna('NA', inplace=True)\n",
    "changeable.BsmtCond.fillna('NA', inplace=True)\n",
    "changeable.GarageFinish.fillna('NA', inplace=True)\n",
    "changeable.GarageQual.fillna('NA', inplace=True)"
   ]
  },
  {
   "cell_type": "code",
   "execution_count": 65,
   "metadata": {
    "ExecuteTime": {
     "end_time": "2020-05-31T13:32:53.602014Z",
     "start_time": "2020-05-31T13:32:53.574381Z"
    },
    "hidden": true
   },
   "outputs": [
    {
     "data": {
      "text/plain": [
       "OverallQual     0\n",
       "OverallCond     0\n",
       "RoofStyle       0\n",
       "Exterior1st     0\n",
       "Exterior2nd     0\n",
       "MasVnrType      0\n",
       "MasVnrArea      0\n",
       "ExterQual       0\n",
       "ExterCond       0\n",
       "BsmtFinType2    0\n",
       "BsmtFinType1    0\n",
       "BsmtFinSF1      0\n",
       "BsmtFinSF2      0\n",
       "BsmtUnfSF       0\n",
       "BsmtCond        0\n",
       "HeatingQC       0\n",
       "KitchenQual     0\n",
       "GarageFinish    0\n",
       "GarageQual      0\n",
       "YrSold          0\n",
       "dtype: int64"
      ]
     },
     "execution_count": 65,
     "metadata": {},
     "output_type": "execute_result"
    }
   ],
   "source": [
    "changeable.isnull().sum()"
   ]
  },
  {
   "cell_type": "code",
   "execution_count": 66,
   "metadata": {
    "ExecuteTime": {
     "end_time": "2020-05-31T13:32:53.620019Z",
     "start_time": "2020-05-31T13:32:53.605472Z"
    },
    "hidden": true
   },
   "outputs": [
    {
     "name": "stderr",
     "output_type": "stream",
     "text": [
      "/opt/anaconda3/lib/python3.7/site-packages/pandas/core/frame.py:4102: SettingWithCopyWarning: \n",
      "A value is trying to be set on a copy of a slice from a DataFrame\n",
      "\n",
      "See the caveats in the documentation: http://pandas.pydata.org/pandas-docs/stable/user_guide/indexing.html#returning-a-view-versus-a-copy\n",
      "  errors=errors,\n"
     ]
    }
   ],
   "source": [
    "changeable[['Exterior1st', 'Exterior2nd']]\n",
    "changeable[changeable.Exterior1st == changeable.Exterior2nd]\n",
    "#nearly all of the data is the same between exterior 1st & 2nd so 2nd can be deleted\n",
    "\n",
    "changeable.drop('Exterior2nd', axis = 1, inplace = True)"
   ]
  },
  {
   "cell_type": "code",
   "execution_count": 67,
   "metadata": {
    "ExecuteTime": {
     "end_time": "2020-05-31T13:32:53.631257Z",
     "start_time": "2020-05-31T13:32:53.622935Z"
    },
    "hidden": true
   },
   "outputs": [
    {
     "data": {
      "text/plain": [
       "(1450, 19)"
      ]
     },
     "execution_count": 67,
     "metadata": {},
     "output_type": "execute_result"
    }
   ],
   "source": [
    "changeable.shape"
   ]
  },
  {
   "cell_type": "code",
   "execution_count": 68,
   "metadata": {
    "ExecuteTime": {
     "end_time": "2020-05-31T13:32:53.655979Z",
     "start_time": "2020-05-31T13:32:53.648771Z"
    },
    "hidden": true
   },
   "outputs": [],
   "source": [
    "changeable[changeable.MasVnrType == 'None']\n",
    "#over half of the MasVnrType is None, so it can be deleted\n",
    "\n",
    "changeable.drop('MasVnrType', axis = 1, inplace = True)"
   ]
  },
  {
   "cell_type": "code",
   "execution_count": 69,
   "metadata": {
    "ExecuteTime": {
     "end_time": "2020-05-31T13:32:53.670569Z",
     "start_time": "2020-05-31T13:32:53.662517Z"
    },
    "hidden": true
   },
   "outputs": [],
   "source": [
    "changeable[changeable.BsmtFinSF2 == 0]\n",
    "#almost all values in BsmtFinSF2 are 0 so they can be deleted\n",
    "changeable.drop('BsmtFinSF2', axis = 1, inplace = True)"
   ]
  },
  {
   "cell_type": "code",
   "execution_count": 70,
   "metadata": {
    "ExecuteTime": {
     "end_time": "2020-05-31T13:32:53.682249Z",
     "start_time": "2020-05-31T13:32:53.673287Z"
    },
    "hidden": true
   },
   "outputs": [],
   "source": [
    "changeable[changeable.BsmtFinType2 == 'Unf']\n",
    "#almost all values for BsmtFinType2 are Unf so it can be dropped\n",
    "changeable.drop('BsmtFinType2', axis = 1, inplace = True)"
   ]
  },
  {
   "cell_type": "code",
   "execution_count": 71,
   "metadata": {
    "ExecuteTime": {
     "end_time": "2020-05-31T13:32:53.694462Z",
     "start_time": "2020-05-31T13:32:53.684886Z"
    },
    "hidden": true
   },
   "outputs": [],
   "source": [
    "changeable.MasVnrArea.value_counts()\n",
    "#over 800 have 0 and the rest have about 1 in each value\n",
    "changeable.drop('MasVnrArea', axis = 1, inplace = True)"
   ]
  },
  {
   "cell_type": "code",
   "execution_count": 72,
   "metadata": {
    "ExecuteTime": {
     "end_time": "2020-05-31T13:32:53.722247Z",
     "start_time": "2020-05-31T13:32:53.700068Z"
    },
    "hidden": true
   },
   "outputs": [
    {
     "data": {
      "text/html": [
       "<div>\n",
       "<style scoped>\n",
       "    .dataframe tbody tr th:only-of-type {\n",
       "        vertical-align: middle;\n",
       "    }\n",
       "\n",
       "    .dataframe tbody tr th {\n",
       "        vertical-align: top;\n",
       "    }\n",
       "\n",
       "    .dataframe thead th {\n",
       "        text-align: right;\n",
       "    }\n",
       "</style>\n",
       "<table border=\"1\" class=\"dataframe\">\n",
       "  <thead>\n",
       "    <tr style=\"text-align: right;\">\n",
       "      <th></th>\n",
       "      <th>OverallQual</th>\n",
       "      <th>OverallCond</th>\n",
       "      <th>RoofStyle</th>\n",
       "      <th>Exterior1st</th>\n",
       "      <th>ExterQual</th>\n",
       "      <th>ExterCond</th>\n",
       "      <th>BsmtFinType1</th>\n",
       "      <th>BsmtFinSF1</th>\n",
       "      <th>BsmtUnfSF</th>\n",
       "      <th>BsmtCond</th>\n",
       "      <th>HeatingQC</th>\n",
       "      <th>KitchenQual</th>\n",
       "      <th>GarageFinish</th>\n",
       "      <th>GarageQual</th>\n",
       "      <th>YrSold</th>\n",
       "    </tr>\n",
       "  </thead>\n",
       "  <tbody>\n",
       "    <tr>\n",
       "      <td>0</td>\n",
       "      <td>7</td>\n",
       "      <td>5</td>\n",
       "      <td>Gable</td>\n",
       "      <td>VinylSd</td>\n",
       "      <td>Gd</td>\n",
       "      <td>TA</td>\n",
       "      <td>GLQ</td>\n",
       "      <td>706</td>\n",
       "      <td>150</td>\n",
       "      <td>TA</td>\n",
       "      <td>Ex</td>\n",
       "      <td>Gd</td>\n",
       "      <td>RFn</td>\n",
       "      <td>TA</td>\n",
       "      <td>2008</td>\n",
       "    </tr>\n",
       "    <tr>\n",
       "      <td>1</td>\n",
       "      <td>6</td>\n",
       "      <td>8</td>\n",
       "      <td>Gable</td>\n",
       "      <td>MetalSd</td>\n",
       "      <td>TA</td>\n",
       "      <td>TA</td>\n",
       "      <td>ALQ</td>\n",
       "      <td>978</td>\n",
       "      <td>284</td>\n",
       "      <td>TA</td>\n",
       "      <td>Ex</td>\n",
       "      <td>TA</td>\n",
       "      <td>RFn</td>\n",
       "      <td>TA</td>\n",
       "      <td>2007</td>\n",
       "    </tr>\n",
       "    <tr>\n",
       "      <td>2</td>\n",
       "      <td>7</td>\n",
       "      <td>5</td>\n",
       "      <td>Gable</td>\n",
       "      <td>VinylSd</td>\n",
       "      <td>Gd</td>\n",
       "      <td>TA</td>\n",
       "      <td>GLQ</td>\n",
       "      <td>486</td>\n",
       "      <td>434</td>\n",
       "      <td>TA</td>\n",
       "      <td>Ex</td>\n",
       "      <td>Gd</td>\n",
       "      <td>RFn</td>\n",
       "      <td>TA</td>\n",
       "      <td>2008</td>\n",
       "    </tr>\n",
       "    <tr>\n",
       "      <td>3</td>\n",
       "      <td>7</td>\n",
       "      <td>5</td>\n",
       "      <td>Gable</td>\n",
       "      <td>Wd Sdng</td>\n",
       "      <td>TA</td>\n",
       "      <td>TA</td>\n",
       "      <td>ALQ</td>\n",
       "      <td>216</td>\n",
       "      <td>540</td>\n",
       "      <td>Gd</td>\n",
       "      <td>Gd</td>\n",
       "      <td>Gd</td>\n",
       "      <td>Unf</td>\n",
       "      <td>TA</td>\n",
       "      <td>2006</td>\n",
       "    </tr>\n",
       "    <tr>\n",
       "      <td>4</td>\n",
       "      <td>8</td>\n",
       "      <td>5</td>\n",
       "      <td>Gable</td>\n",
       "      <td>VinylSd</td>\n",
       "      <td>Gd</td>\n",
       "      <td>TA</td>\n",
       "      <td>GLQ</td>\n",
       "      <td>655</td>\n",
       "      <td>490</td>\n",
       "      <td>TA</td>\n",
       "      <td>Ex</td>\n",
       "      <td>Gd</td>\n",
       "      <td>RFn</td>\n",
       "      <td>TA</td>\n",
       "      <td>2008</td>\n",
       "    </tr>\n",
       "  </tbody>\n",
       "</table>\n",
       "</div>"
      ],
      "text/plain": [
       "   OverallQual  OverallCond RoofStyle Exterior1st ExterQual ExterCond  \\\n",
       "0            7            5     Gable     VinylSd        Gd        TA   \n",
       "1            6            8     Gable     MetalSd        TA        TA   \n",
       "2            7            5     Gable     VinylSd        Gd        TA   \n",
       "3            7            5     Gable     Wd Sdng        TA        TA   \n",
       "4            8            5     Gable     VinylSd        Gd        TA   \n",
       "\n",
       "  BsmtFinType1  BsmtFinSF1  BsmtUnfSF BsmtCond HeatingQC KitchenQual  \\\n",
       "0          GLQ         706        150       TA        Ex          Gd   \n",
       "1          ALQ         978        284       TA        Ex          TA   \n",
       "2          GLQ         486        434       TA        Ex          Gd   \n",
       "3          ALQ         216        540       Gd        Gd          Gd   \n",
       "4          GLQ         655        490       TA        Ex          Gd   \n",
       "\n",
       "  GarageFinish GarageQual  YrSold  \n",
       "0          RFn         TA    2008  \n",
       "1          RFn         TA    2007  \n",
       "2          RFn         TA    2008  \n",
       "3          Unf         TA    2006  \n",
       "4          RFn         TA    2008  "
      ]
     },
     "execution_count": 72,
     "metadata": {},
     "output_type": "execute_result"
    }
   ],
   "source": [
    "changeable.head()"
   ]
  },
  {
   "cell_type": "code",
   "execution_count": 73,
   "metadata": {
    "ExecuteTime": {
     "end_time": "2020-05-31T13:32:53.734202Z",
     "start_time": "2020-05-31T13:32:53.725655Z"
    },
    "hidden": true
   },
   "outputs": [
    {
     "data": {
      "text/plain": [
       "Index(['OverallQual', 'OverallCond', 'RoofStyle', 'Exterior1st', 'ExterQual',\n",
       "       'ExterCond', 'BsmtFinType1', 'BsmtFinSF1', 'BsmtUnfSF', 'BsmtCond',\n",
       "       'HeatingQC', 'KitchenQual', 'GarageFinish', 'GarageQual', 'YrSold'],\n",
       "      dtype='object')"
      ]
     },
     "execution_count": 73,
     "metadata": {},
     "output_type": "execute_result"
    }
   ],
   "source": [
    "changeable.columns"
   ]
  },
  {
   "cell_type": "code",
   "execution_count": 74,
   "metadata": {
    "ExecuteTime": {
     "end_time": "2020-05-31T13:32:53.763622Z",
     "start_time": "2020-05-31T13:32:53.739906Z"
    },
    "hidden": true
   },
   "outputs": [
    {
     "name": "stderr",
     "output_type": "stream",
     "text": [
      "/opt/anaconda3/lib/python3.7/site-packages/ipykernel_launcher.py:3: SettingWithCopyWarning: \n",
      "A value is trying to be set on a copy of a slice from a DataFrame.\n",
      "Try using .loc[row_indexer,col_indexer] = value instead\n",
      "\n",
      "See the caveats in the documentation: http://pandas.pydata.org/pandas-docs/stable/user_guide/indexing.html#returning-a-view-versus-a-copy\n",
      "  This is separate from the ipykernel package so we can avoid doing imports until\n"
     ]
    }
   ],
   "source": [
    "#change columns to categorical\n",
    "for col in ['ExterQual', 'ExterCond', 'BsmtCond', 'HeatingQC', 'KitchenQual', 'GarageQual', 'BsmtFinType1', 'GarageFinish']:\n",
    "    changeable[col] = changeable[col].astype('category')"
   ]
  },
  {
   "cell_type": "code",
   "execution_count": 75,
   "metadata": {
    "ExecuteTime": {
     "end_time": "2020-05-31T13:32:53.777032Z",
     "start_time": "2020-05-31T13:32:53.766470Z"
    },
    "hidden": true
   },
   "outputs": [
    {
     "data": {
      "text/plain": [
       "OverallQual        int64\n",
       "OverallCond        int64\n",
       "RoofStyle         object\n",
       "Exterior1st       object\n",
       "ExterQual       category\n",
       "ExterCond       category\n",
       "BsmtFinType1    category\n",
       "BsmtFinSF1         int64\n",
       "BsmtUnfSF          int64\n",
       "BsmtCond        category\n",
       "HeatingQC       category\n",
       "KitchenQual     category\n",
       "GarageFinish    category\n",
       "GarageQual      category\n",
       "YrSold             int64\n",
       "dtype: object"
      ]
     },
     "execution_count": 75,
     "metadata": {},
     "output_type": "execute_result"
    }
   ],
   "source": [
    "changeable.dtypes"
   ]
  },
  {
   "cell_type": "code",
   "execution_count": 76,
   "metadata": {
    "ExecuteTime": {
     "end_time": "2020-05-31T13:32:53.838224Z",
     "start_time": "2020-05-31T13:32:53.784314Z"
    },
    "hidden": true
   },
   "outputs": [
    {
     "data": {
      "text/html": [
       "<div>\n",
       "<style scoped>\n",
       "    .dataframe tbody tr th:only-of-type {\n",
       "        vertical-align: middle;\n",
       "    }\n",
       "\n",
       "    .dataframe tbody tr th {\n",
       "        vertical-align: top;\n",
       "    }\n",
       "\n",
       "    .dataframe thead th {\n",
       "        text-align: right;\n",
       "    }\n",
       "</style>\n",
       "<table border=\"1\" class=\"dataframe\">\n",
       "  <thead>\n",
       "    <tr style=\"text-align: right;\">\n",
       "      <th></th>\n",
       "      <th>OverallQual</th>\n",
       "      <th>OverallCond</th>\n",
       "      <th>RoofStyle</th>\n",
       "      <th>Exterior1st</th>\n",
       "      <th>ExterQual</th>\n",
       "      <th>ExterCond</th>\n",
       "      <th>BsmtFinType1</th>\n",
       "      <th>BsmtFinSF1</th>\n",
       "      <th>BsmtUnfSF</th>\n",
       "      <th>BsmtCond</th>\n",
       "      <th>HeatingQC</th>\n",
       "      <th>KitchenQual</th>\n",
       "      <th>GarageFinish</th>\n",
       "      <th>GarageQual</th>\n",
       "      <th>YrSold</th>\n",
       "    </tr>\n",
       "  </thead>\n",
       "  <tbody>\n",
       "    <tr>\n",
       "      <td>0</td>\n",
       "      <td>7</td>\n",
       "      <td>5</td>\n",
       "      <td>Gable</td>\n",
       "      <td>VinylSd</td>\n",
       "      <td>Gd</td>\n",
       "      <td>TA</td>\n",
       "      <td>GLQ</td>\n",
       "      <td>706</td>\n",
       "      <td>150</td>\n",
       "      <td>TA</td>\n",
       "      <td>Ex</td>\n",
       "      <td>Gd</td>\n",
       "      <td>RFn</td>\n",
       "      <td>TA</td>\n",
       "      <td>2008</td>\n",
       "    </tr>\n",
       "    <tr>\n",
       "      <td>1</td>\n",
       "      <td>6</td>\n",
       "      <td>8</td>\n",
       "      <td>Gable</td>\n",
       "      <td>MetalSd</td>\n",
       "      <td>TA</td>\n",
       "      <td>TA</td>\n",
       "      <td>ALQ</td>\n",
       "      <td>978</td>\n",
       "      <td>284</td>\n",
       "      <td>TA</td>\n",
       "      <td>Ex</td>\n",
       "      <td>TA</td>\n",
       "      <td>RFn</td>\n",
       "      <td>TA</td>\n",
       "      <td>2007</td>\n",
       "    </tr>\n",
       "    <tr>\n",
       "      <td>2</td>\n",
       "      <td>7</td>\n",
       "      <td>5</td>\n",
       "      <td>Gable</td>\n",
       "      <td>VinylSd</td>\n",
       "      <td>Gd</td>\n",
       "      <td>TA</td>\n",
       "      <td>GLQ</td>\n",
       "      <td>486</td>\n",
       "      <td>434</td>\n",
       "      <td>TA</td>\n",
       "      <td>Ex</td>\n",
       "      <td>Gd</td>\n",
       "      <td>RFn</td>\n",
       "      <td>TA</td>\n",
       "      <td>2008</td>\n",
       "    </tr>\n",
       "    <tr>\n",
       "      <td>3</td>\n",
       "      <td>7</td>\n",
       "      <td>5</td>\n",
       "      <td>Gable</td>\n",
       "      <td>Wd Sdng</td>\n",
       "      <td>TA</td>\n",
       "      <td>TA</td>\n",
       "      <td>ALQ</td>\n",
       "      <td>216</td>\n",
       "      <td>540</td>\n",
       "      <td>Gd</td>\n",
       "      <td>Gd</td>\n",
       "      <td>Gd</td>\n",
       "      <td>Unf</td>\n",
       "      <td>TA</td>\n",
       "      <td>2006</td>\n",
       "    </tr>\n",
       "    <tr>\n",
       "      <td>4</td>\n",
       "      <td>8</td>\n",
       "      <td>5</td>\n",
       "      <td>Gable</td>\n",
       "      <td>VinylSd</td>\n",
       "      <td>Gd</td>\n",
       "      <td>TA</td>\n",
       "      <td>GLQ</td>\n",
       "      <td>655</td>\n",
       "      <td>490</td>\n",
       "      <td>TA</td>\n",
       "      <td>Ex</td>\n",
       "      <td>Gd</td>\n",
       "      <td>RFn</td>\n",
       "      <td>TA</td>\n",
       "      <td>2008</td>\n",
       "    </tr>\n",
       "    <tr>\n",
       "      <td>...</td>\n",
       "      <td>...</td>\n",
       "      <td>...</td>\n",
       "      <td>...</td>\n",
       "      <td>...</td>\n",
       "      <td>...</td>\n",
       "      <td>...</td>\n",
       "      <td>...</td>\n",
       "      <td>...</td>\n",
       "      <td>...</td>\n",
       "      <td>...</td>\n",
       "      <td>...</td>\n",
       "      <td>...</td>\n",
       "      <td>...</td>\n",
       "      <td>...</td>\n",
       "      <td>...</td>\n",
       "    </tr>\n",
       "    <tr>\n",
       "      <td>1455</td>\n",
       "      <td>6</td>\n",
       "      <td>5</td>\n",
       "      <td>Gable</td>\n",
       "      <td>VinylSd</td>\n",
       "      <td>TA</td>\n",
       "      <td>TA</td>\n",
       "      <td>Unf</td>\n",
       "      <td>0</td>\n",
       "      <td>953</td>\n",
       "      <td>TA</td>\n",
       "      <td>Ex</td>\n",
       "      <td>TA</td>\n",
       "      <td>RFn</td>\n",
       "      <td>TA</td>\n",
       "      <td>2007</td>\n",
       "    </tr>\n",
       "    <tr>\n",
       "      <td>1456</td>\n",
       "      <td>6</td>\n",
       "      <td>6</td>\n",
       "      <td>Gable</td>\n",
       "      <td>Plywood</td>\n",
       "      <td>TA</td>\n",
       "      <td>TA</td>\n",
       "      <td>ALQ</td>\n",
       "      <td>790</td>\n",
       "      <td>589</td>\n",
       "      <td>TA</td>\n",
       "      <td>TA</td>\n",
       "      <td>TA</td>\n",
       "      <td>Unf</td>\n",
       "      <td>TA</td>\n",
       "      <td>2010</td>\n",
       "    </tr>\n",
       "    <tr>\n",
       "      <td>1457</td>\n",
       "      <td>7</td>\n",
       "      <td>9</td>\n",
       "      <td>Gable</td>\n",
       "      <td>CemntBd</td>\n",
       "      <td>Ex</td>\n",
       "      <td>Gd</td>\n",
       "      <td>GLQ</td>\n",
       "      <td>275</td>\n",
       "      <td>877</td>\n",
       "      <td>Gd</td>\n",
       "      <td>Ex</td>\n",
       "      <td>Gd</td>\n",
       "      <td>RFn</td>\n",
       "      <td>TA</td>\n",
       "      <td>2010</td>\n",
       "    </tr>\n",
       "    <tr>\n",
       "      <td>1458</td>\n",
       "      <td>5</td>\n",
       "      <td>6</td>\n",
       "      <td>Hip</td>\n",
       "      <td>MetalSd</td>\n",
       "      <td>TA</td>\n",
       "      <td>TA</td>\n",
       "      <td>GLQ</td>\n",
       "      <td>49</td>\n",
       "      <td>0</td>\n",
       "      <td>TA</td>\n",
       "      <td>Gd</td>\n",
       "      <td>Gd</td>\n",
       "      <td>Unf</td>\n",
       "      <td>TA</td>\n",
       "      <td>2010</td>\n",
       "    </tr>\n",
       "    <tr>\n",
       "      <td>1459</td>\n",
       "      <td>5</td>\n",
       "      <td>6</td>\n",
       "      <td>Gable</td>\n",
       "      <td>HdBoard</td>\n",
       "      <td>Gd</td>\n",
       "      <td>TA</td>\n",
       "      <td>BLQ</td>\n",
       "      <td>830</td>\n",
       "      <td>136</td>\n",
       "      <td>TA</td>\n",
       "      <td>Gd</td>\n",
       "      <td>TA</td>\n",
       "      <td>Fin</td>\n",
       "      <td>TA</td>\n",
       "      <td>2008</td>\n",
       "    </tr>\n",
       "  </tbody>\n",
       "</table>\n",
       "<p>1450 rows × 15 columns</p>\n",
       "</div>"
      ],
      "text/plain": [
       "      OverallQual  OverallCond RoofStyle Exterior1st ExterQual ExterCond  \\\n",
       "0               7            5     Gable     VinylSd        Gd        TA   \n",
       "1               6            8     Gable     MetalSd        TA        TA   \n",
       "2               7            5     Gable     VinylSd        Gd        TA   \n",
       "3               7            5     Gable     Wd Sdng        TA        TA   \n",
       "4               8            5     Gable     VinylSd        Gd        TA   \n",
       "...           ...          ...       ...         ...       ...       ...   \n",
       "1455            6            5     Gable     VinylSd        TA        TA   \n",
       "1456            6            6     Gable     Plywood        TA        TA   \n",
       "1457            7            9     Gable     CemntBd        Ex        Gd   \n",
       "1458            5            6       Hip     MetalSd        TA        TA   \n",
       "1459            5            6     Gable     HdBoard        Gd        TA   \n",
       "\n",
       "     BsmtFinType1  BsmtFinSF1  BsmtUnfSF BsmtCond HeatingQC KitchenQual  \\\n",
       "0             GLQ         706        150       TA        Ex          Gd   \n",
       "1             ALQ         978        284       TA        Ex          TA   \n",
       "2             GLQ         486        434       TA        Ex          Gd   \n",
       "3             ALQ         216        540       Gd        Gd          Gd   \n",
       "4             GLQ         655        490       TA        Ex          Gd   \n",
       "...           ...         ...        ...      ...       ...         ...   \n",
       "1455          Unf           0        953       TA        Ex          TA   \n",
       "1456          ALQ         790        589       TA        TA          TA   \n",
       "1457          GLQ         275        877       Gd        Ex          Gd   \n",
       "1458          GLQ          49          0       TA        Gd          Gd   \n",
       "1459          BLQ         830        136       TA        Gd          TA   \n",
       "\n",
       "     GarageFinish GarageQual  YrSold  \n",
       "0             RFn         TA    2008  \n",
       "1             RFn         TA    2007  \n",
       "2             RFn         TA    2008  \n",
       "3             Unf         TA    2006  \n",
       "4             RFn         TA    2008  \n",
       "...           ...        ...     ...  \n",
       "1455          RFn         TA    2007  \n",
       "1456          Unf         TA    2010  \n",
       "1457          RFn         TA    2010  \n",
       "1458          Unf         TA    2010  \n",
       "1459          Fin         TA    2008  \n",
       "\n",
       "[1450 rows x 15 columns]"
      ]
     },
     "execution_count": 76,
     "metadata": {},
     "output_type": "execute_result"
    }
   ],
   "source": [
    "changeable"
   ]
  },
  {
   "cell_type": "code",
   "execution_count": 77,
   "metadata": {
    "ExecuteTime": {
     "end_time": "2020-05-31T13:32:53.867272Z",
     "start_time": "2020-05-31T13:32:53.843196Z"
    },
    "hidden": true
   },
   "outputs": [],
   "source": [
    "#dummify columns: RoofStyle, Exterior1st\n",
    "\n",
    "changeable = pd.get_dummies(changeable, columns = ['RoofStyle', 'Exterior1st', 'ExterQual', 'ExterCond', 'BsmtCond', 'HeatingQC', 'KitchenQual', 'GarageQual', 'BsmtFinType1', 'GarageFinish'], drop_first = True)"
   ]
  },
  {
   "cell_type": "code",
   "execution_count": 78,
   "metadata": {
    "ExecuteTime": {
     "end_time": "2020-05-31T13:32:53.891489Z",
     "start_time": "2020-05-31T13:32:53.870255Z"
    },
    "hidden": true
   },
   "outputs": [
    {
     "data": {
      "text/html": [
       "<div>\n",
       "<style scoped>\n",
       "    .dataframe tbody tr th:only-of-type {\n",
       "        vertical-align: middle;\n",
       "    }\n",
       "\n",
       "    .dataframe tbody tr th {\n",
       "        vertical-align: top;\n",
       "    }\n",
       "\n",
       "    .dataframe thead th {\n",
       "        text-align: right;\n",
       "    }\n",
       "</style>\n",
       "<table border=\"1\" class=\"dataframe\">\n",
       "  <thead>\n",
       "    <tr style=\"text-align: right;\">\n",
       "      <th></th>\n",
       "      <th>OverallQual</th>\n",
       "      <th>OverallCond</th>\n",
       "      <th>BsmtFinSF1</th>\n",
       "      <th>BsmtUnfSF</th>\n",
       "      <th>YrSold</th>\n",
       "      <th>RoofStyle_Gable</th>\n",
       "      <th>RoofStyle_Gambrel</th>\n",
       "      <th>RoofStyle_Hip</th>\n",
       "      <th>RoofStyle_Mansard</th>\n",
       "      <th>RoofStyle_Shed</th>\n",
       "      <th>...</th>\n",
       "      <th>GarageQual_TA</th>\n",
       "      <th>BsmtFinType1_BLQ</th>\n",
       "      <th>BsmtFinType1_GLQ</th>\n",
       "      <th>BsmtFinType1_LwQ</th>\n",
       "      <th>BsmtFinType1_NA</th>\n",
       "      <th>BsmtFinType1_Rec</th>\n",
       "      <th>BsmtFinType1_Unf</th>\n",
       "      <th>GarageFinish_NA</th>\n",
       "      <th>GarageFinish_RFn</th>\n",
       "      <th>GarageFinish_Unf</th>\n",
       "    </tr>\n",
       "  </thead>\n",
       "  <tbody>\n",
       "    <tr>\n",
       "      <td>0</td>\n",
       "      <td>7</td>\n",
       "      <td>5</td>\n",
       "      <td>706</td>\n",
       "      <td>150</td>\n",
       "      <td>2008</td>\n",
       "      <td>1</td>\n",
       "      <td>0</td>\n",
       "      <td>0</td>\n",
       "      <td>0</td>\n",
       "      <td>0</td>\n",
       "      <td>...</td>\n",
       "      <td>1</td>\n",
       "      <td>0</td>\n",
       "      <td>1</td>\n",
       "      <td>0</td>\n",
       "      <td>0</td>\n",
       "      <td>0</td>\n",
       "      <td>0</td>\n",
       "      <td>0</td>\n",
       "      <td>1</td>\n",
       "      <td>0</td>\n",
       "    </tr>\n",
       "    <tr>\n",
       "      <td>1</td>\n",
       "      <td>6</td>\n",
       "      <td>8</td>\n",
       "      <td>978</td>\n",
       "      <td>284</td>\n",
       "      <td>2007</td>\n",
       "      <td>1</td>\n",
       "      <td>0</td>\n",
       "      <td>0</td>\n",
       "      <td>0</td>\n",
       "      <td>0</td>\n",
       "      <td>...</td>\n",
       "      <td>1</td>\n",
       "      <td>0</td>\n",
       "      <td>0</td>\n",
       "      <td>0</td>\n",
       "      <td>0</td>\n",
       "      <td>0</td>\n",
       "      <td>0</td>\n",
       "      <td>0</td>\n",
       "      <td>1</td>\n",
       "      <td>0</td>\n",
       "    </tr>\n",
       "    <tr>\n",
       "      <td>2</td>\n",
       "      <td>7</td>\n",
       "      <td>5</td>\n",
       "      <td>486</td>\n",
       "      <td>434</td>\n",
       "      <td>2008</td>\n",
       "      <td>1</td>\n",
       "      <td>0</td>\n",
       "      <td>0</td>\n",
       "      <td>0</td>\n",
       "      <td>0</td>\n",
       "      <td>...</td>\n",
       "      <td>1</td>\n",
       "      <td>0</td>\n",
       "      <td>1</td>\n",
       "      <td>0</td>\n",
       "      <td>0</td>\n",
       "      <td>0</td>\n",
       "      <td>0</td>\n",
       "      <td>0</td>\n",
       "      <td>1</td>\n",
       "      <td>0</td>\n",
       "    </tr>\n",
       "    <tr>\n",
       "      <td>3</td>\n",
       "      <td>7</td>\n",
       "      <td>5</td>\n",
       "      <td>216</td>\n",
       "      <td>540</td>\n",
       "      <td>2006</td>\n",
       "      <td>1</td>\n",
       "      <td>0</td>\n",
       "      <td>0</td>\n",
       "      <td>0</td>\n",
       "      <td>0</td>\n",
       "      <td>...</td>\n",
       "      <td>1</td>\n",
       "      <td>0</td>\n",
       "      <td>0</td>\n",
       "      <td>0</td>\n",
       "      <td>0</td>\n",
       "      <td>0</td>\n",
       "      <td>0</td>\n",
       "      <td>0</td>\n",
       "      <td>0</td>\n",
       "      <td>1</td>\n",
       "    </tr>\n",
       "    <tr>\n",
       "      <td>4</td>\n",
       "      <td>8</td>\n",
       "      <td>5</td>\n",
       "      <td>655</td>\n",
       "      <td>490</td>\n",
       "      <td>2008</td>\n",
       "      <td>1</td>\n",
       "      <td>0</td>\n",
       "      <td>0</td>\n",
       "      <td>0</td>\n",
       "      <td>0</td>\n",
       "      <td>...</td>\n",
       "      <td>1</td>\n",
       "      <td>0</td>\n",
       "      <td>1</td>\n",
       "      <td>0</td>\n",
       "      <td>0</td>\n",
       "      <td>0</td>\n",
       "      <td>0</td>\n",
       "      <td>0</td>\n",
       "      <td>1</td>\n",
       "      <td>0</td>\n",
       "    </tr>\n",
       "  </tbody>\n",
       "</table>\n",
       "<p>5 rows × 56 columns</p>\n",
       "</div>"
      ],
      "text/plain": [
       "   OverallQual  OverallCond  BsmtFinSF1  BsmtUnfSF  YrSold  RoofStyle_Gable  \\\n",
       "0            7            5         706        150    2008                1   \n",
       "1            6            8         978        284    2007                1   \n",
       "2            7            5         486        434    2008                1   \n",
       "3            7            5         216        540    2006                1   \n",
       "4            8            5         655        490    2008                1   \n",
       "\n",
       "   RoofStyle_Gambrel  RoofStyle_Hip  RoofStyle_Mansard  RoofStyle_Shed  ...  \\\n",
       "0                  0              0                  0               0  ...   \n",
       "1                  0              0                  0               0  ...   \n",
       "2                  0              0                  0               0  ...   \n",
       "3                  0              0                  0               0  ...   \n",
       "4                  0              0                  0               0  ...   \n",
       "\n",
       "   GarageQual_TA  BsmtFinType1_BLQ  BsmtFinType1_GLQ  BsmtFinType1_LwQ  \\\n",
       "0              1                 0                 1                 0   \n",
       "1              1                 0                 0                 0   \n",
       "2              1                 0                 1                 0   \n",
       "3              1                 0                 0                 0   \n",
       "4              1                 0                 1                 0   \n",
       "\n",
       "   BsmtFinType1_NA  BsmtFinType1_Rec  BsmtFinType1_Unf  GarageFinish_NA  \\\n",
       "0                0                 0                 0                0   \n",
       "1                0                 0                 0                0   \n",
       "2                0                 0                 0                0   \n",
       "3                0                 0                 0                0   \n",
       "4                0                 0                 0                0   \n",
       "\n",
       "   GarageFinish_RFn  GarageFinish_Unf  \n",
       "0                 1                 0  \n",
       "1                 1                 0  \n",
       "2                 1                 0  \n",
       "3                 0                 1  \n",
       "4                 1                 0  \n",
       "\n",
       "[5 rows x 56 columns]"
      ]
     },
     "execution_count": 78,
     "metadata": {},
     "output_type": "execute_result"
    }
   ],
   "source": [
    "changeable.head()\n"
   ]
  },
  {
   "cell_type": "markdown",
   "metadata": {
    "heading_collapsed": true
   },
   "source": [
    "## Modelling\n",
    "### This model will take the changeable features from the homes to predict the residuals from the previous model. \n",
    "This would help the company gain a better understanding of the home's sale price based on both fixed and changeable features of the home. "
   ]
  },
  {
   "cell_type": "code",
   "execution_count": 79,
   "metadata": {
    "ExecuteTime": {
     "end_time": "2020-05-31T13:32:53.933899Z",
     "start_time": "2020-05-31T13:32:53.895813Z"
    },
    "hidden": true
   },
   "outputs": [],
   "source": [
    "#define residuals from previous model\n",
    "#have to use log_y_train/test since the model used the log of y\n",
    "\n",
    "new_y_train = best_model.predict(X_train)\n",
    "train_res = log_y_train - new_y_train\n",
    "\n",
    "new_y_test = best_model.predict(X_test)\n",
    "test_res = log_y_test - new_y_test"
   ]
  },
  {
   "cell_type": "code",
   "execution_count": 80,
   "metadata": {
    "ExecuteTime": {
     "end_time": "2020-05-31T13:32:53.946884Z",
     "start_time": "2020-05-31T13:32:53.936402Z"
    },
    "hidden": true
   },
   "outputs": [],
   "source": [
    "#define X test and train, split between before and after 2010\n",
    "X_train_new = changeable[changeable.YrSold < 2010]\n",
    "X_test_new = changeable[changeable.YrSold >= 2010]"
   ]
  },
  {
   "cell_type": "code",
   "execution_count": 81,
   "metadata": {
    "ExecuteTime": {
     "end_time": "2020-05-31T13:32:53.963725Z",
     "start_time": "2020-05-31T13:32:53.949504Z"
    },
    "hidden": true
   },
   "outputs": [],
   "source": [
    "#standardize\n",
    "scaler = StandardScaler()\n",
    "X_train_new = pd.DataFrame(scaler.fit_transform(X_train_new), columns=X_train_new.columns)\n",
    "X_test_new = pd.DataFrame(scaler.transform(X_test_new), columns=X_test_new.columns)"
   ]
  },
  {
   "cell_type": "markdown",
   "metadata": {
    "heading_collapsed": true,
    "hidden": true
   },
   "source": [
    "### Linear Regression Model"
   ]
  },
  {
   "cell_type": "code",
   "execution_count": 82,
   "metadata": {
    "ExecuteTime": {
     "end_time": "2020-05-31T13:32:54.030641Z",
     "start_time": "2020-05-31T13:32:53.966358Z"
    },
    "hidden": true
   },
   "outputs": [
    {
     "name": "stdout",
     "output_type": "stream",
     "text": [
      "Cross-validated training scores: [ 9.84681344e-02  1.42355610e-01  1.07476173e-01 -3.57759987e+20\n",
      " -7.40157750e-04]\n",
      "Mean cross-validated training score: -7.1551997365514035e+19\n",
      "Training Score: 0.24695681250152068\n",
      "Test Score: -7.263722837011078e+20\n"
     ]
    },
    {
     "data": {
      "text/html": [
       "<div>\n",
       "<style scoped>\n",
       "    .dataframe tbody tr th:only-of-type {\n",
       "        vertical-align: middle;\n",
       "    }\n",
       "\n",
       "    .dataframe tbody tr th {\n",
       "        vertical-align: top;\n",
       "    }\n",
       "\n",
       "    .dataframe thead th {\n",
       "        text-align: right;\n",
       "    }\n",
       "</style>\n",
       "<table border=\"1\" class=\"dataframe\">\n",
       "  <thead>\n",
       "    <tr style=\"text-align: right;\">\n",
       "      <th></th>\n",
       "      <th>coefficients</th>\n",
       "      <th>coef_abs</th>\n",
       "    </tr>\n",
       "  </thead>\n",
       "  <tbody>\n",
       "    <tr>\n",
       "      <td>GarageQual_NA</td>\n",
       "      <td>-5.919789e+11</td>\n",
       "      <td>5.919789e+11</td>\n",
       "    </tr>\n",
       "    <tr>\n",
       "      <td>GarageFinish_NA</td>\n",
       "      <td>5.919789e+11</td>\n",
       "      <td>5.919789e+11</td>\n",
       "    </tr>\n",
       "    <tr>\n",
       "      <td>BsmtFinType1_NA</td>\n",
       "      <td>5.376167e+10</td>\n",
       "      <td>5.376167e+10</td>\n",
       "    </tr>\n",
       "    <tr>\n",
       "      <td>BsmtCond_NA</td>\n",
       "      <td>-5.376167e+10</td>\n",
       "      <td>5.376167e+10</td>\n",
       "    </tr>\n",
       "    <tr>\n",
       "      <td>Exterior1st_AsphShn</td>\n",
       "      <td>4.310273e+10</td>\n",
       "      <td>4.310273e+10</td>\n",
       "    </tr>\n",
       "  </tbody>\n",
       "</table>\n",
       "</div>"
      ],
      "text/plain": [
       "                     coefficients      coef_abs\n",
       "GarageQual_NA       -5.919789e+11  5.919789e+11\n",
       "GarageFinish_NA      5.919789e+11  5.919789e+11\n",
       "BsmtFinType1_NA      5.376167e+10  5.376167e+10\n",
       "BsmtCond_NA         -5.376167e+10  5.376167e+10\n",
       "Exterior1st_AsphShn  4.310273e+10  4.310273e+10"
      ]
     },
     "execution_count": 82,
     "metadata": {},
     "output_type": "execute_result"
    }
   ],
   "source": [
    "model = LinearRegression()\n",
    "model.fit(X_train_new, train_res)\n",
    "\n",
    "# get cross validated scores\n",
    "scores = cross_val_score(model, X_train_new, train_res, cv=5)\n",
    "print(\"Cross-validated training scores:\", scores)\n",
    "print(\"Mean cross-validated training score:\", scores.mean())\n",
    "\n",
    "\n",
    "print(\"Training Score:\", model.score(X_train_new, train_res))\n",
    "print(\"Test Score:\", model.score(X_test_new, test_res))\n",
    "\n",
    "# collect the model coefficients in a dataframe\n",
    "df_coef = pd.DataFrame(model.coef_, index=X_train_new.columns,\n",
    "                       columns=['coefficients'])\n",
    "\n",
    "# calculate the absolute values of the coefficients to gauge influence (show importance of predictor variables)\n",
    "df_coef['coef_abs'] = df_coef.coefficients.abs()\n",
    "df_coef.sort_values(by = 'coef_abs', ascending = False)[:5]"
   ]
  },
  {
   "cell_type": "markdown",
   "metadata": {
    "hidden": true
   },
   "source": [
    "This model, while the scores are not high enough for the feature importance to be extremely useful, shows that the quality and condition of basements and garages are important factors for predicting the residuals from the previous model."
   ]
  },
  {
   "cell_type": "markdown",
   "metadata": {
    "heading_collapsed": true,
    "hidden": true
   },
   "source": [
    "### RidgeCV Model "
   ]
  },
  {
   "cell_type": "code",
   "execution_count": 83,
   "metadata": {
    "ExecuteTime": {
     "end_time": "2020-05-31T13:32:57.155844Z",
     "start_time": "2020-05-31T13:32:54.036052Z"
    },
    "hidden": true
   },
   "outputs": [
    {
     "name": "stdout",
     "output_type": "stream",
     "text": [
      "Best alpha: 428.13323987193957\n",
      "Training score: 0.21299346937129937\n",
      "Test Score: 0.08291031395167103\n",
      "Mean cross-validated training score: 0.1286598719524564\n"
     ]
    },
    {
     "data": {
      "text/html": [
       "<div>\n",
       "<style scoped>\n",
       "    .dataframe tbody tr th:only-of-type {\n",
       "        vertical-align: middle;\n",
       "    }\n",
       "\n",
       "    .dataframe tbody tr th {\n",
       "        vertical-align: top;\n",
       "    }\n",
       "\n",
       "    .dataframe thead th {\n",
       "        text-align: right;\n",
       "    }\n",
       "</style>\n",
       "<table border=\"1\" class=\"dataframe\">\n",
       "  <thead>\n",
       "    <tr style=\"text-align: right;\">\n",
       "      <th></th>\n",
       "      <th>coefficients</th>\n",
       "      <th>coef_abs</th>\n",
       "    </tr>\n",
       "  </thead>\n",
       "  <tbody>\n",
       "    <tr>\n",
       "      <td>OverallCond</td>\n",
       "      <td>0.027987</td>\n",
       "      <td>0.027987</td>\n",
       "    </tr>\n",
       "    <tr>\n",
       "      <td>OverallQual</td>\n",
       "      <td>0.025166</td>\n",
       "      <td>0.025166</td>\n",
       "    </tr>\n",
       "    <tr>\n",
       "      <td>Exterior1st_BrkFace</td>\n",
       "      <td>0.014966</td>\n",
       "      <td>0.014966</td>\n",
       "    </tr>\n",
       "    <tr>\n",
       "      <td>BsmtFinType1_Unf</td>\n",
       "      <td>-0.013148</td>\n",
       "      <td>0.013148</td>\n",
       "    </tr>\n",
       "    <tr>\n",
       "      <td>BsmtFinSF1</td>\n",
       "      <td>-0.008990</td>\n",
       "      <td>0.008990</td>\n",
       "    </tr>\n",
       "  </tbody>\n",
       "</table>\n",
       "</div>"
      ],
      "text/plain": [
       "                     coefficients  coef_abs\n",
       "OverallCond              0.027987  0.027987\n",
       "OverallQual              0.025166  0.025166\n",
       "Exterior1st_BrkFace      0.014966  0.014966\n",
       "BsmtFinType1_Unf        -0.013148  0.013148\n",
       "BsmtFinSF1              -0.008990  0.008990"
      ]
     },
     "execution_count": 83,
     "metadata": {},
     "output_type": "execute_result"
    }
   ],
   "source": [
    "model = RidgeCV(alphas=np.logspace(-10, 10, 20), cv=5)\n",
    "# fit the model\n",
    "model.fit(X_train_new, train_res)\n",
    "# get the best alpha\n",
    "print('Best alpha:', model.alpha_)\n",
    "# evaluate on the training set\n",
    "print('Training score:', model.score(X_train_new, train_res))\n",
    "# evaluate on the test set\n",
    "print(\"Test Score:\", model.score(X_test_new, test_res))\n",
    "\n",
    "scores = cross_val_score(model, X_train_new, train_res, cv=5)\n",
    "print(\"Mean cross-validated training score:\", scores.mean())\n",
    "\n",
    "# collect the model coefficients in a dataframe\n",
    "df_coef = pd.DataFrame(model.coef_, index=X_train_new.columns,\n",
    "                       columns=['coefficients'])\n",
    "\n",
    "# calculate the absolute values of the coefficients to gauge influence (show importance of predictor variables)\n",
    "df_coef['coef_abs'] = df_coef.coefficients.abs()\n",
    "df_coef.sort_values(by = 'coef_abs', ascending = False)[:5]"
   ]
  },
  {
   "cell_type": "markdown",
   "metadata": {
    "hidden": true
   },
   "source": [
    "This model performs better than the linear regression model, and this ridge model shows that overall quality and condition are the strongest predictors for predicting residuals from the previous regression model."
   ]
  },
  {
   "cell_type": "markdown",
   "metadata": {
    "heading_collapsed": true,
    "hidden": true
   },
   "source": [
    "### Lasso CV Model"
   ]
  },
  {
   "cell_type": "code",
   "execution_count": 125,
   "metadata": {
    "ExecuteTime": {
     "end_time": "2020-05-31T13:51:20.558303Z",
     "start_time": "2020-05-31T13:51:20.046839Z"
    },
    "hidden": true
   },
   "outputs": [
    {
     "name": "stdout",
     "output_type": "stream",
     "text": [
      "Best alpha: 0.007847599703514606\n",
      "Training score: 0.17730353996067516\n",
      "Test Score: 0.11341020523507261\n",
      "Mean cross-validated training score: 0.1666811348765594\n"
     ]
    },
    {
     "data": {
      "text/html": [
       "<div>\n",
       "<style scoped>\n",
       "    .dataframe tbody tr th:only-of-type {\n",
       "        vertical-align: middle;\n",
       "    }\n",
       "\n",
       "    .dataframe tbody tr th {\n",
       "        vertical-align: top;\n",
       "    }\n",
       "\n",
       "    .dataframe thead th {\n",
       "        text-align: right;\n",
       "    }\n",
       "</style>\n",
       "<table border=\"1\" class=\"dataframe\">\n",
       "  <thead>\n",
       "    <tr style=\"text-align: right;\">\n",
       "      <th></th>\n",
       "      <th>coefficients</th>\n",
       "      <th>coef_abs</th>\n",
       "    </tr>\n",
       "  </thead>\n",
       "  <tbody>\n",
       "    <tr>\n",
       "      <td>OverallCond</td>\n",
       "      <td>0.031400</td>\n",
       "      <td>0.031400</td>\n",
       "    </tr>\n",
       "    <tr>\n",
       "      <td>OverallQual</td>\n",
       "      <td>0.030740</td>\n",
       "      <td>0.030740</td>\n",
       "    </tr>\n",
       "    <tr>\n",
       "      <td>Exterior1st_BrkFace</td>\n",
       "      <td>0.012051</td>\n",
       "      <td>0.012051</td>\n",
       "    </tr>\n",
       "    <tr>\n",
       "      <td>BsmtFinType1_Unf</td>\n",
       "      <td>-0.009750</td>\n",
       "      <td>0.009750</td>\n",
       "    </tr>\n",
       "    <tr>\n",
       "      <td>Exterior1st_BrkComm</td>\n",
       "      <td>-0.002815</td>\n",
       "      <td>0.002815</td>\n",
       "    </tr>\n",
       "  </tbody>\n",
       "</table>\n",
       "</div>"
      ],
      "text/plain": [
       "                     coefficients  coef_abs\n",
       "OverallCond              0.031400  0.031400\n",
       "OverallQual              0.030740  0.030740\n",
       "Exterior1st_BrkFace      0.012051  0.012051\n",
       "BsmtFinType1_Unf        -0.009750  0.009750\n",
       "Exterior1st_BrkComm     -0.002815  0.002815"
      ]
     },
     "execution_count": 125,
     "metadata": {},
     "output_type": "execute_result"
    }
   ],
   "source": [
    "model = LassoCV(alphas=np.logspace(-8, 8, 20), cv=5)\n",
    "# fit the model\n",
    "model.fit(X_train_new, train_res)\n",
    "# get the best alpha\n",
    "print('Best alpha:', model.alpha_)\n",
    "# evaluate on the training set\n",
    "print('Training score:', model.score(X_train_new, train_res))\n",
    "# evaluate on the test set\n",
    "print(\"Test Score:\", model.score(X_test_new, test_res))\n",
    "\n",
    "scores = cross_val_score(model, X_train_new, train_res, cv=5)\n",
    "print(\"Mean cross-validated training score:\", scores.mean())\n",
    "\n",
    "# collect the model coefficients in a dataframe\n",
    "df_coef = pd.DataFrame(model.coef_, index=X_train_new.columns,\n",
    "                       columns=['coefficients'])\n",
    "\n",
    "# calculate the absolute values of the coefficients to gauge influence (show importance of predictor variables)\n",
    "df_coef['coef_abs'] = df_coef.coefficients.abs()\n",
    "df_coef.sort_values(by = 'coef_abs', ascending = False)[:5]"
   ]
  },
  {
   "cell_type": "markdown",
   "metadata": {
    "hidden": true
   },
   "source": [
    "Similarly to the ridge model, this model shows that overall condition and quality are the strongest predictors. The exterior finish of the house and status of the basement are both important predictors as well. "
   ]
  },
  {
   "cell_type": "code",
   "execution_count": 127,
   "metadata": {
    "ExecuteTime": {
     "end_time": "2020-05-31T13:52:12.914778Z",
     "start_time": "2020-05-31T13:52:12.657068Z"
    },
    "hidden": true
   },
   "outputs": [
    {
     "data": {
      "image/png": "[encoded data removed]",
      "text/plain": [
       "<Figure size 432x288 with 1 Axes>"
      ]
     },
     "metadata": {
      "image/png": {
       "height": 248,
       "width": 460
      },
      "needs_background": "light"
     },
     "output_type": "display_data"
    }
   ],
   "source": [
    "df_coef['coefficients'].sort_values(ascending = False).head(5).plot(kind='barh');"
   ]
  },
  {
   "cell_type": "markdown",
   "metadata": {
    "heading_collapsed": true,
    "hidden": true
   },
   "source": [
    "### Elastic Net CV Model"
   ]
  },
  {
   "cell_type": "code",
   "execution_count": 85,
   "metadata": {
    "ExecuteTime": {
     "end_time": "2020-05-31T13:32:59.053402Z",
     "start_time": "2020-05-31T13:32:57.740441Z"
    },
    "hidden": true
   },
   "outputs": [
    {
     "name": "stderr",
     "output_type": "stream",
     "text": [
      "/opt/anaconda3/lib/python3.7/site-packages/sklearn/linear_model/_coordinate_descent.py:472: ConvergenceWarning: Objective did not converge. You might want to increase the number of iterations. Duality gap: 0.02560647832487284, tolerance: 0.002151846649221781\n",
      "  tol, rng, random, positive)\n",
      "/opt/anaconda3/lib/python3.7/site-packages/sklearn/linear_model/_coordinate_descent.py:472: ConvergenceWarning: Objective did not converge. You might want to increase the number of iterations. Duality gap: 0.028174653056007415, tolerance: 0.0018507377297243069\n",
      "  tol, rng, random, positive)\n",
      "/opt/anaconda3/lib/python3.7/site-packages/sklearn/linear_model/_coordinate_descent.py:472: ConvergenceWarning: Objective did not converge. You might want to increase the number of iterations. Duality gap: 0.04759689400712297, tolerance: 0.0018507377297243069\n",
      "  tol, rng, random, positive)\n",
      "/opt/anaconda3/lib/python3.7/site-packages/sklearn/linear_model/_coordinate_descent.py:472: ConvergenceWarning: Objective did not converge. You might want to increase the number of iterations. Duality gap: 0.06029599974905153, tolerance: 0.002009569356323433\n",
      "  tol, rng, random, positive)\n",
      "/opt/anaconda3/lib/python3.7/site-packages/sklearn/linear_model/_coordinate_descent.py:472: ConvergenceWarning: Objective did not converge. You might want to increase the number of iterations. Duality gap: 0.10784187147841351, tolerance: 0.002009569356323433\n",
      "  tol, rng, random, positive)\n",
      "/opt/anaconda3/lib/python3.7/site-packages/sklearn/linear_model/_coordinate_descent.py:472: ConvergenceWarning: Objective did not converge. You might want to increase the number of iterations. Duality gap: 0.034648408603935366, tolerance: 0.0021080300760265404\n",
      "  tol, rng, random, positive)\n",
      "/opt/anaconda3/lib/python3.7/site-packages/sklearn/linear_model/_coordinate_descent.py:472: ConvergenceWarning: Objective did not converge. You might want to increase the number of iterations. Duality gap: 0.05956312034728661, tolerance: 0.0021080300760265404\n",
      "  tol, rng, random, positive)\n",
      "/opt/anaconda3/lib/python3.7/site-packages/sklearn/linear_model/_coordinate_descent.py:472: ConvergenceWarning: Objective did not converge. You might want to increase the number of iterations. Duality gap: 0.028769789248494604, tolerance: 0.0018007464127660876\n",
      "  tol, rng, random, positive)\n",
      "/opt/anaconda3/lib/python3.7/site-packages/sklearn/linear_model/_coordinate_descent.py:472: ConvergenceWarning: Objective did not converge. You might want to increase the number of iterations. Duality gap: 0.0479324752461352, tolerance: 0.0018007464127660876\n",
      "  tol, rng, random, positive)\n",
      "/opt/anaconda3/lib/python3.7/site-packages/sklearn/linear_model/_coordinate_descent.py:472: ConvergenceWarning: Objective did not converge. You might want to increase the number of iterations. Duality gap: 0.004920311584319492, tolerance: 0.0018507377297243069\n",
      "  tol, rng, random, positive)\n",
      "/opt/anaconda3/lib/python3.7/site-packages/sklearn/linear_model/_coordinate_descent.py:472: ConvergenceWarning: Objective did not converge. You might want to increase the number of iterations. Duality gap: 0.00903996096858073, tolerance: 0.002009569356323433\n",
      "  tol, rng, random, positive)\n",
      "/opt/anaconda3/lib/python3.7/site-packages/sklearn/linear_model/_coordinate_descent.py:472: ConvergenceWarning: Objective did not converge. You might want to increase the number of iterations. Duality gap: 0.005720269893769725, tolerance: 0.0021080300760265404\n",
      "  tol, rng, random, positive)\n",
      "/opt/anaconda3/lib/python3.7/site-packages/sklearn/linear_model/_coordinate_descent.py:472: ConvergenceWarning: Objective did not converge. You might want to increase the number of iterations. Duality gap: 0.004918410246766314, tolerance: 0.0018007464127660876\n",
      "  tol, rng, random, positive)\n",
      "/opt/anaconda3/lib/python3.7/site-packages/sklearn/linear_model/_coordinate_descent.py:472: ConvergenceWarning: Objective did not converge. You might want to increase the number of iterations. Duality gap: 0.0027992388793158796, tolerance: 0.002009569356323433\n",
      "  tol, rng, random, positive)\n"
     ]
    },
    {
     "name": "stdout",
     "output_type": "stream",
     "text": [
      "Best alpha: 0.005994842503189409\n",
      "Best l1-ratio: 1.0\n",
      "Training score: 0.18521688022690874\n",
      "Test Score: 0.1094479639707888\n"
     ]
    },
    {
     "name": "stderr",
     "output_type": "stream",
     "text": [
      "/opt/anaconda3/lib/python3.7/site-packages/sklearn/linear_model/_coordinate_descent.py:472: ConvergenceWarning: Objective did not converge. You might want to increase the number of iterations. Duality gap: 0.012034005976834905, tolerance: 0.001634500283781409\n",
      "  tol, rng, random, positive)\n",
      "/opt/anaconda3/lib/python3.7/site-packages/sklearn/linear_model/_coordinate_descent.py:472: ConvergenceWarning: Objective did not converge. You might want to increase the number of iterations. Duality gap: 0.024558989070213144, tolerance: 0.0018656687181616016\n",
      "  tol, rng, random, positive)\n",
      "/opt/anaconda3/lib/python3.7/site-packages/sklearn/linear_model/_coordinate_descent.py:472: ConvergenceWarning: Objective did not converge. You might want to increase the number of iterations. Duality gap: 0.015214109762398564, tolerance: 0.0018685388602900789\n",
      "  tol, rng, random, positive)\n",
      "/opt/anaconda3/lib/python3.7/site-packages/sklearn/linear_model/_coordinate_descent.py:472: ConvergenceWarning: Objective did not converge. You might want to increase the number of iterations. Duality gap: 0.026960059238033907, tolerance: 0.0015395233113590864\n",
      "  tol, rng, random, positive)\n",
      "/opt/anaconda3/lib/python3.7/site-packages/sklearn/linear_model/_coordinate_descent.py:472: ConvergenceWarning: Objective did not converge. You might want to increase the number of iterations. Duality gap: 0.012627795370255157, tolerance: 0.0015809013723510049\n",
      "  tol, rng, random, positive)\n",
      "/opt/anaconda3/lib/python3.7/site-packages/sklearn/linear_model/_coordinate_descent.py:472: ConvergenceWarning: Objective did not converge. You might want to increase the number of iterations. Duality gap: 0.03163521121547852, tolerance: 0.0015809013723510049\n",
      "  tol, rng, random, positive)\n",
      "/opt/anaconda3/lib/python3.7/site-packages/sklearn/linear_model/_coordinate_descent.py:472: ConvergenceWarning: Objective did not converge. You might want to increase the number of iterations. Duality gap: 0.04334868331948627, tolerance: 0.001449180755587162\n",
      "  tol, rng, random, positive)\n",
      "/opt/anaconda3/lib/python3.7/site-packages/sklearn/linear_model/_coordinate_descent.py:472: ConvergenceWarning: Objective did not converge. You might want to increase the number of iterations. Duality gap: 0.12129346735942903, tolerance: 0.001449180755587162\n",
      "  tol, rng, random, positive)\n",
      "/opt/anaconda3/lib/python3.7/site-packages/sklearn/linear_model/_coordinate_descent.py:472: ConvergenceWarning: Objective did not converge. You might want to increase the number of iterations. Duality gap: 0.01944993189490951, tolerance: 0.0015666703970478538\n",
      "  tol, rng, random, positive)\n",
      "/opt/anaconda3/lib/python3.7/site-packages/sklearn/linear_model/_coordinate_descent.py:472: ConvergenceWarning: Objective did not converge. You might want to increase the number of iterations. Duality gap: 0.030241868377798298, tolerance: 0.0015666703970478538\n",
      "  tol, rng, random, positive)\n",
      "/opt/anaconda3/lib/python3.7/site-packages/sklearn/linear_model/_coordinate_descent.py:472: ConvergenceWarning: Objective did not converge. You might want to increase the number of iterations. Duality gap: 0.018998147911119645, tolerance: 0.001569727782294083\n",
      "  tol, rng, random, positive)\n",
      "/opt/anaconda3/lib/python3.7/site-packages/sklearn/linear_model/_coordinate_descent.py:472: ConvergenceWarning: Objective did not converge. You might want to increase the number of iterations. Duality gap: 0.030396842783284583, tolerance: 0.001569727782294083\n",
      "  tol, rng, random, positive)\n",
      "/opt/anaconda3/lib/python3.7/site-packages/sklearn/linear_model/_coordinate_descent.py:472: ConvergenceWarning: Objective did not converge. You might want to increase the number of iterations. Duality gap: 0.014732120028884133, tolerance: 0.0012336652013851305\n",
      "  tol, rng, random, positive)\n",
      "/opt/anaconda3/lib/python3.7/site-packages/sklearn/linear_model/_coordinate_descent.py:472: ConvergenceWarning: Objective did not converge. You might want to increase the number of iterations. Duality gap: 0.022423865235002616, tolerance: 0.0012336652013851305\n",
      "  tol, rng, random, positive)\n",
      "/opt/anaconda3/lib/python3.7/site-packages/sklearn/linear_model/_coordinate_descent.py:472: ConvergenceWarning: Objective did not converge. You might want to increase the number of iterations. Duality gap: 0.003178692419318452, tolerance: 0.0015809013723510049\n",
      "  tol, rng, random, positive)\n",
      "/opt/anaconda3/lib/python3.7/site-packages/sklearn/linear_model/_coordinate_descent.py:472: ConvergenceWarning: Objective did not converge. You might want to increase the number of iterations. Duality gap: 0.009229543497683679, tolerance: 0.001449180755587162\n",
      "  tol, rng, random, positive)\n",
      "/opt/anaconda3/lib/python3.7/site-packages/sklearn/linear_model/_coordinate_descent.py:472: ConvergenceWarning: Objective did not converge. You might want to increase the number of iterations. Duality gap: 0.0017991709333813333, tolerance: 0.0015666703970478538\n",
      "  tol, rng, random, positive)\n",
      "/opt/anaconda3/lib/python3.7/site-packages/sklearn/linear_model/_coordinate_descent.py:472: ConvergenceWarning: Objective did not converge. You might want to increase the number of iterations. Duality gap: 0.0032916955130328773, tolerance: 0.0015666703970478538\n",
      "  tol, rng, random, positive)\n",
      "/opt/anaconda3/lib/python3.7/site-packages/sklearn/linear_model/_coordinate_descent.py:472: ConvergenceWarning: Objective did not converge. You might want to increase the number of iterations. Duality gap: 0.003009488299992924, tolerance: 0.001569727782294083\n",
      "  tol, rng, random, positive)\n",
      "/opt/anaconda3/lib/python3.7/site-packages/sklearn/linear_model/_coordinate_descent.py:472: ConvergenceWarning: Objective did not converge. You might want to increase the number of iterations. Duality gap: 0.0014251847248836214, tolerance: 0.0012336652013851305\n",
      "  tol, rng, random, positive)\n",
      "/opt/anaconda3/lib/python3.7/site-packages/sklearn/linear_model/_coordinate_descent.py:472: ConvergenceWarning: Objective did not converge. You might want to increase the number of iterations. Duality gap: 0.0025152522807303512, tolerance: 0.0012336652013851305\n",
      "  tol, rng, random, positive)\n",
      "/opt/anaconda3/lib/python3.7/site-packages/sklearn/linear_model/_coordinate_descent.py:472: ConvergenceWarning: Objective did not converge. You might want to increase the number of iterations. Duality gap: 0.0022061012937832913, tolerance: 0.001449180755587162\n",
      "  tol, rng, random, positive)\n",
      "/opt/anaconda3/lib/python3.7/site-packages/sklearn/linear_model/_coordinate_descent.py:472: ConvergenceWarning: Objective did not converge. You might want to increase the number of iterations. Duality gap: 0.033963528444946434, tolerance: 0.001738411387759782\n",
      "  tol, rng, random, positive)\n",
      "/opt/anaconda3/lib/python3.7/site-packages/sklearn/linear_model/_coordinate_descent.py:472: ConvergenceWarning: Objective did not converge. You might want to increase the number of iterations. Duality gap: 0.11085713716457946, tolerance: 0.001738411387759782\n",
      "  tol, rng, random, positive)\n",
      "/opt/anaconda3/lib/python3.7/site-packages/sklearn/linear_model/_coordinate_descent.py:472: ConvergenceWarning: Objective did not converge. You might want to increase the number of iterations. Duality gap: 0.05832421367442997, tolerance: 0.0016244169876766326\n",
      "  tol, rng, random, positive)\n",
      "/opt/anaconda3/lib/python3.7/site-packages/sklearn/linear_model/_coordinate_descent.py:472: ConvergenceWarning: Objective did not converge. You might want to increase the number of iterations. Duality gap: 0.14740819956650597, tolerance: 0.0016244169876766326\n",
      "  tol, rng, random, positive)\n",
      "/opt/anaconda3/lib/python3.7/site-packages/sklearn/linear_model/_coordinate_descent.py:472: ConvergenceWarning: Objective did not converge. You might want to increase the number of iterations. Duality gap: 0.04049918596455804, tolerance: 0.0015505054311735946\n",
      "  tol, rng, random, positive)\n",
      "/opt/anaconda3/lib/python3.7/site-packages/sklearn/linear_model/_coordinate_descent.py:472: ConvergenceWarning: Objective did not converge. You might want to increase the number of iterations. Duality gap: 0.06584992881805185, tolerance: 0.0015505054311735946\n",
      "  tol, rng, random, positive)\n",
      "/opt/anaconda3/lib/python3.7/site-packages/sklearn/linear_model/_coordinate_descent.py:472: ConvergenceWarning: Objective did not converge. You might want to increase the number of iterations. Duality gap: 0.045413177558728535, tolerance: 0.001728201971759609\n",
      "  tol, rng, random, positive)\n",
      "/opt/anaconda3/lib/python3.7/site-packages/sklearn/linear_model/_coordinate_descent.py:472: ConvergenceWarning: Objective did not converge. You might want to increase the number of iterations. Duality gap: 0.071990173483508, tolerance: 0.001728201971759609\n",
      "  tol, rng, random, positive)\n",
      "/opt/anaconda3/lib/python3.7/site-packages/sklearn/linear_model/_coordinate_descent.py:472: ConvergenceWarning: Objective did not converge. You might want to increase the number of iterations. Duality gap: 0.04279887820064232, tolerance: 0.0013938869274849714\n",
      "  tol, rng, random, positive)\n",
      "/opt/anaconda3/lib/python3.7/site-packages/sklearn/linear_model/_coordinate_descent.py:472: ConvergenceWarning: Objective did not converge. You might want to increase the number of iterations. Duality gap: 0.06602591047838402, tolerance: 0.0013938869274849714\n",
      "  tol, rng, random, positive)\n",
      "/opt/anaconda3/lib/python3.7/site-packages/sklearn/linear_model/_coordinate_descent.py:472: ConvergenceWarning: Objective did not converge. You might want to increase the number of iterations. Duality gap: 0.007126012587191255, tolerance: 0.001738411387759782\n",
      "  tol, rng, random, positive)\n",
      "/opt/anaconda3/lib/python3.7/site-packages/sklearn/linear_model/_coordinate_descent.py:472: ConvergenceWarning: Objective did not converge. You might want to increase the number of iterations. Duality gap: 0.010525250658512064, tolerance: 0.0016244169876766326\n",
      "  tol, rng, random, positive)\n",
      "/opt/anaconda3/lib/python3.7/site-packages/sklearn/linear_model/_coordinate_descent.py:472: ConvergenceWarning: Objective did not converge. You might want to increase the number of iterations. Duality gap: 0.0023507449870123764, tolerance: 0.0015505054311735946\n",
      "  tol, rng, random, positive)\n",
      "/opt/anaconda3/lib/python3.7/site-packages/sklearn/linear_model/_coordinate_descent.py:472: ConvergenceWarning: Objective did not converge. You might want to increase the number of iterations. Duality gap: 0.006016887108527769, tolerance: 0.0015505054311735946\n",
      "  tol, rng, random, positive)\n",
      "/opt/anaconda3/lib/python3.7/site-packages/sklearn/linear_model/_coordinate_descent.py:472: ConvergenceWarning: Objective did not converge. You might want to increase the number of iterations. Duality gap: 0.002135575634733655, tolerance: 0.001728201971759609\n",
      "  tol, rng, random, positive)\n",
      "/opt/anaconda3/lib/python3.7/site-packages/sklearn/linear_model/_coordinate_descent.py:472: ConvergenceWarning: Objective did not converge. You might want to increase the number of iterations. Duality gap: 0.005841716039757472, tolerance: 0.001728201971759609\n",
      "  tol, rng, random, positive)\n",
      "/opt/anaconda3/lib/python3.7/site-packages/sklearn/linear_model/_coordinate_descent.py:472: ConvergenceWarning: Objective did not converge. You might want to increase the number of iterations. Duality gap: 0.002020993549582073, tolerance: 0.0013938869274849714\n",
      "  tol, rng, random, positive)\n",
      "/opt/anaconda3/lib/python3.7/site-packages/sklearn/linear_model/_coordinate_descent.py:472: ConvergenceWarning: Objective did not converge. You might want to increase the number of iterations. Duality gap: 0.0054356323890250025, tolerance: 0.0013938869274849714\n",
      "  tol, rng, random, positive)\n",
      "/opt/anaconda3/lib/python3.7/site-packages/sklearn/linear_model/_coordinate_descent.py:472: ConvergenceWarning: Objective did not converge. You might want to increase the number of iterations. Duality gap: 0.0024964882944793487, tolerance: 0.0016244169876766326\n",
      "  tol, rng, random, positive)\n",
      "/opt/anaconda3/lib/python3.7/site-packages/sklearn/linear_model/_coordinate_descent.py:472: ConvergenceWarning: Objective did not converge. You might want to increase the number of iterations. Duality gap: 0.002433781262901391, tolerance: 0.0015505054311735946\n",
      "  tol, rng, random, positive)\n",
      "/opt/anaconda3/lib/python3.7/site-packages/sklearn/linear_model/_coordinate_descent.py:472: ConvergenceWarning: Objective did not converge. You might want to increase the number of iterations. Duality gap: 0.0022172948690410976, tolerance: 0.001728201971759609\n",
      "  tol, rng, random, positive)\n",
      "/opt/anaconda3/lib/python3.7/site-packages/sklearn/linear_model/_coordinate_descent.py:472: ConvergenceWarning: Objective did not converge. You might want to increase the number of iterations. Duality gap: 0.0021200697602239416, tolerance: 0.0013938869274849714\n",
      "  tol, rng, random, positive)\n"
     ]
    },
    {
     "name": "stderr",
     "output_type": "stream",
     "text": [
      "/opt/anaconda3/lib/python3.7/site-packages/sklearn/linear_model/_coordinate_descent.py:472: ConvergenceWarning: Objective did not converge. You might want to increase the number of iterations. Duality gap: 0.012949902624232124, tolerance: 0.001836653871209318\n",
      "  tol, rng, random, positive)\n",
      "/opt/anaconda3/lib/python3.7/site-packages/sklearn/linear_model/_coordinate_descent.py:472: ConvergenceWarning: Objective did not converge. You might want to increase the number of iterations. Duality gap: 0.03736106913273396, tolerance: 0.001836653871209318\n",
      "  tol, rng, random, positive)\n",
      "/opt/anaconda3/lib/python3.7/site-packages/sklearn/linear_model/_coordinate_descent.py:472: ConvergenceWarning: Objective did not converge. You might want to increase the number of iterations. Duality gap: 0.018103006836074798, tolerance: 0.0017229314571932997\n",
      "  tol, rng, random, positive)\n",
      "/opt/anaconda3/lib/python3.7/site-packages/sklearn/linear_model/_coordinate_descent.py:472: ConvergenceWarning: Objective did not converge. You might want to increase the number of iterations. Duality gap: 0.04225034386302795, tolerance: 0.0017229314571932997\n",
      "  tol, rng, random, positive)\n",
      "/opt/anaconda3/lib/python3.7/site-packages/sklearn/linear_model/_coordinate_descent.py:472: ConvergenceWarning: Objective did not converge. You might want to increase the number of iterations. Duality gap: 0.019042801973830237, tolerance: 0.0015544067179734083\n",
      "  tol, rng, random, positive)\n",
      "/opt/anaconda3/lib/python3.7/site-packages/sklearn/linear_model/_coordinate_descent.py:472: ConvergenceWarning: Objective did not converge. You might want to increase the number of iterations. Duality gap: 0.03072253214160625, tolerance: 0.0015544067179734083\n",
      "  tol, rng, random, positive)\n",
      "/opt/anaconda3/lib/python3.7/site-packages/sklearn/linear_model/_coordinate_descent.py:472: ConvergenceWarning: Objective did not converge. You might want to increase the number of iterations. Duality gap: 0.047084208179205334, tolerance: 0.0018220765249918145\n",
      "  tol, rng, random, positive)\n",
      "/opt/anaconda3/lib/python3.7/site-packages/sklearn/linear_model/_coordinate_descent.py:472: ConvergenceWarning: Objective did not converge. You might want to increase the number of iterations. Duality gap: 0.0792624985471928, tolerance: 0.0018220765249918145\n",
      "  tol, rng, random, positive)\n",
      "/opt/anaconda3/lib/python3.7/site-packages/sklearn/linear_model/_coordinate_descent.py:472: ConvergenceWarning: Objective did not converge. You might want to increase the number of iterations. Duality gap: 0.02289547836747019, tolerance: 0.0014925543462602827\n",
      "  tol, rng, random, positive)\n",
      "/opt/anaconda3/lib/python3.7/site-packages/sklearn/linear_model/_coordinate_descent.py:472: ConvergenceWarning: Objective did not converge. You might want to increase the number of iterations. Duality gap: 0.034869711260638425, tolerance: 0.0014925543462602827\n",
      "  tol, rng, random, positive)\n",
      "/opt/anaconda3/lib/python3.7/site-packages/sklearn/linear_model/_coordinate_descent.py:472: ConvergenceWarning: Objective did not converge. You might want to increase the number of iterations. Duality gap: 0.0029742231524156892, tolerance: 0.001836653871209318\n",
      "  tol, rng, random, positive)\n",
      "/opt/anaconda3/lib/python3.7/site-packages/sklearn/linear_model/_coordinate_descent.py:472: ConvergenceWarning: Objective did not converge. You might want to increase the number of iterations. Duality gap: 0.003615788626612826, tolerance: 0.0017229314571932997\n",
      "  tol, rng, random, positive)\n",
      "/opt/anaconda3/lib/python3.7/site-packages/sklearn/linear_model/_coordinate_descent.py:472: ConvergenceWarning: Objective did not converge. You might want to increase the number of iterations. Duality gap: 0.0019523597046458008, tolerance: 0.0015544067179734083\n",
      "  tol, rng, random, positive)\n",
      "/opt/anaconda3/lib/python3.7/site-packages/sklearn/linear_model/_coordinate_descent.py:472: ConvergenceWarning: Objective did not converge. You might want to increase the number of iterations. Duality gap: 0.003368490728901108, tolerance: 0.0015544067179734083\n",
      "  tol, rng, random, positive)\n",
      "/opt/anaconda3/lib/python3.7/site-packages/sklearn/linear_model/_coordinate_descent.py:472: ConvergenceWarning: Objective did not converge. You might want to increase the number of iterations. Duality gap: 0.006313647788344312, tolerance: 0.0018220765249918145\n",
      "  tol, rng, random, positive)\n",
      "/opt/anaconda3/lib/python3.7/site-packages/sklearn/linear_model/_coordinate_descent.py:472: ConvergenceWarning: Objective did not converge. You might want to increase the number of iterations. Duality gap: 0.0031417220554583736, tolerance: 0.0014925543462602827\n",
      "  tol, rng, random, positive)\n",
      "/opt/anaconda3/lib/python3.7/site-packages/sklearn/linear_model/_coordinate_descent.py:472: ConvergenceWarning: Objective did not converge. You might want to increase the number of iterations. Duality gap: 0.0015748752398163646, tolerance: 0.0015544067179734083\n",
      "  tol, rng, random, positive)\n",
      "/opt/anaconda3/lib/python3.7/site-packages/sklearn/linear_model/_coordinate_descent.py:472: ConvergenceWarning: Objective did not converge. You might want to increase the number of iterations. Duality gap: 0.002052765950860902, tolerance: 0.0018220765249918145\n",
      "  tol, rng, random, positive)\n",
      "/opt/anaconda3/lib/python3.7/site-packages/sklearn/linear_model/_coordinate_descent.py:472: ConvergenceWarning: Objective did not converge. You might want to increase the number of iterations. Duality gap: 0.011877144821516694, tolerance: 0.0015303085864213843\n",
      "  tol, rng, random, positive)\n",
      "/opt/anaconda3/lib/python3.7/site-packages/sklearn/linear_model/_coordinate_descent.py:472: ConvergenceWarning: Objective did not converge. You might want to increase the number of iterations. Duality gap: 0.03232030076267023, tolerance: 0.0015303085864213843\n",
      "  tol, rng, random, positive)\n",
      "/opt/anaconda3/lib/python3.7/site-packages/sklearn/linear_model/_coordinate_descent.py:472: ConvergenceWarning: Objective did not converge. You might want to increase the number of iterations. Duality gap: 0.01700856629454961, tolerance: 0.0014153869666071444\n",
      "  tol, rng, random, positive)\n",
      "/opt/anaconda3/lib/python3.7/site-packages/sklearn/linear_model/_coordinate_descent.py:472: ConvergenceWarning: Objective did not converge. You might want to increase the number of iterations. Duality gap: 0.03595838915167704, tolerance: 0.0014153869666071444\n",
      "  tol, rng, random, positive)\n",
      "/opt/anaconda3/lib/python3.7/site-packages/sklearn/linear_model/_coordinate_descent.py:472: ConvergenceWarning: Objective did not converge. You might want to increase the number of iterations. Duality gap: 0.013384146673739217, tolerance: 0.0012466544115146976\n",
      "  tol, rng, random, positive)\n",
      "/opt/anaconda3/lib/python3.7/site-packages/sklearn/linear_model/_coordinate_descent.py:472: ConvergenceWarning: Objective did not converge. You might want to increase the number of iterations. Duality gap: 0.01981132148346454, tolerance: 0.0012466544115146976\n",
      "  tol, rng, random, positive)\n",
      "/opt/anaconda3/lib/python3.7/site-packages/sklearn/linear_model/_coordinate_descent.py:472: ConvergenceWarning: Objective did not converge. You might want to increase the number of iterations. Duality gap: 0.04394974860111489, tolerance: 0.0015254785824593566\n",
      "  tol, rng, random, positive)\n",
      "/opt/anaconda3/lib/python3.7/site-packages/sklearn/linear_model/_coordinate_descent.py:472: ConvergenceWarning: Objective did not converge. You might want to increase the number of iterations. Duality gap: 0.07030451608115484, tolerance: 0.0015254785824593566\n",
      "  tol, rng, random, positive)\n",
      "/opt/anaconda3/lib/python3.7/site-packages/sklearn/linear_model/_coordinate_descent.py:472: ConvergenceWarning: Objective did not converge. You might want to increase the number of iterations. Duality gap: 0.018171946630488378, tolerance: 0.00148329369042517\n",
      "  tol, rng, random, positive)\n",
      "/opt/anaconda3/lib/python3.7/site-packages/sklearn/linear_model/_coordinate_descent.py:472: ConvergenceWarning: Objective did not converge. You might want to increase the number of iterations. Duality gap: 0.02912906493941847, tolerance: 0.00148329369042517\n",
      "  tol, rng, random, positive)\n",
      "/opt/anaconda3/lib/python3.7/site-packages/sklearn/linear_model/_coordinate_descent.py:472: ConvergenceWarning: Objective did not converge. You might want to increase the number of iterations. Duality gap: 0.003074902365302279, tolerance: 0.0015303085864213843\n",
      "  tol, rng, random, positive)\n",
      "/opt/anaconda3/lib/python3.7/site-packages/sklearn/linear_model/_coordinate_descent.py:472: ConvergenceWarning: Objective did not converge. You might want to increase the number of iterations. Duality gap: 0.00364621562626688, tolerance: 0.0014153869666071444\n",
      "  tol, rng, random, positive)\n",
      "/opt/anaconda3/lib/python3.7/site-packages/sklearn/linear_model/_coordinate_descent.py:472: ConvergenceWarning: Objective did not converge. You might want to increase the number of iterations. Duality gap: 0.0015857280339801605, tolerance: 0.0012466544115146976\n",
      "  tol, rng, random, positive)\n",
      "/opt/anaconda3/lib/python3.7/site-packages/sklearn/linear_model/_coordinate_descent.py:472: ConvergenceWarning: Objective did not converge. You might want to increase the number of iterations. Duality gap: 0.002500260394563192, tolerance: 0.0012466544115146976\n",
      "  tol, rng, random, positive)\n",
      "/opt/anaconda3/lib/python3.7/site-packages/sklearn/linear_model/_coordinate_descent.py:472: ConvergenceWarning: Objective did not converge. You might want to increase the number of iterations. Duality gap: 0.005230668178530351, tolerance: 0.0015254785824593566\n",
      "  tol, rng, random, positive)\n",
      "/opt/anaconda3/lib/python3.7/site-packages/sklearn/linear_model/_coordinate_descent.py:472: ConvergenceWarning: Objective did not converge. You might want to increase the number of iterations. Duality gap: 0.003019632080727419, tolerance: 0.00148329369042517\n",
      "  tol, rng, random, positive)\n",
      "/opt/anaconda3/lib/python3.7/site-packages/sklearn/linear_model/_coordinate_descent.py:472: ConvergenceWarning: Objective did not converge. You might want to increase the number of iterations. Duality gap: 0.0012580053826489745, tolerance: 0.0012466544115146976\n",
      "  tol, rng, random, positive)\n",
      "/opt/anaconda3/lib/python3.7/site-packages/sklearn/linear_model/_coordinate_descent.py:472: ConvergenceWarning: Objective did not converge. You might want to increase the number of iterations. Duality gap: 0.0018871081911857601, tolerance: 0.0015254785824593566\n",
      "  tol, rng, random, positive)\n"
     ]
    },
    {
     "name": "stdout",
     "output_type": "stream",
     "text": [
      "Mean cross-validated training score: 0.1619833672049939\n"
     ]
    },
    {
     "data": {
      "text/html": [
       "<div>\n",
       "<style scoped>\n",
       "    .dataframe tbody tr th:only-of-type {\n",
       "        vertical-align: middle;\n",
       "    }\n",
       "\n",
       "    .dataframe tbody tr th {\n",
       "        vertical-align: top;\n",
       "    }\n",
       "\n",
       "    .dataframe thead th {\n",
       "        text-align: right;\n",
       "    }\n",
       "</style>\n",
       "<table border=\"1\" class=\"dataframe\">\n",
       "  <thead>\n",
       "    <tr style=\"text-align: right;\">\n",
       "      <th></th>\n",
       "      <th>coefficients</th>\n",
       "      <th>coef_abs</th>\n",
       "    </tr>\n",
       "  </thead>\n",
       "  <tbody>\n",
       "    <tr>\n",
       "      <td>OverallCond</td>\n",
       "      <td>0.033226</td>\n",
       "      <td>0.033226</td>\n",
       "    </tr>\n",
       "    <tr>\n",
       "      <td>OverallQual</td>\n",
       "      <td>0.032536</td>\n",
       "      <td>0.032536</td>\n",
       "    </tr>\n",
       "    <tr>\n",
       "      <td>Exterior1st_BrkFace</td>\n",
       "      <td>0.013948</td>\n",
       "      <td>0.013948</td>\n",
       "    </tr>\n",
       "    <tr>\n",
       "      <td>BsmtFinType1_Unf</td>\n",
       "      <td>-0.011429</td>\n",
       "      <td>0.011429</td>\n",
       "    </tr>\n",
       "    <tr>\n",
       "      <td>Exterior1st_BrkComm</td>\n",
       "      <td>-0.004207</td>\n",
       "      <td>0.004207</td>\n",
       "    </tr>\n",
       "  </tbody>\n",
       "</table>\n",
       "</div>"
      ],
      "text/plain": [
       "                     coefficients  coef_abs\n",
       "OverallCond              0.033226  0.033226\n",
       "OverallQual              0.032536  0.032536\n",
       "Exterior1st_BrkFace      0.013948  0.013948\n",
       "BsmtFinType1_Unf        -0.011429  0.011429\n",
       "Exterior1st_BrkComm     -0.004207  0.004207"
      ]
     },
     "execution_count": 85,
     "metadata": {},
     "output_type": "execute_result"
    }
   ],
   "source": [
    "model = ElasticNetCV(alphas=np.logspace(-4, 4, 10), \n",
    "                     l1_ratio=np.array([.1, .5, .7, .9, .95, .99, 1]),\n",
    "                     cv=5)\n",
    "# fit the model\n",
    "model.fit(X_train_new, train_res)\n",
    "# get the best alpha\n",
    "print('Best alpha:', model.alpha_)\n",
    "# get the best l1-ratio\n",
    "print('Best l1-ratio:', model.l1_ratio_)\n",
    "# evaluate on the training set\n",
    "print('Training score:', model.score(X_train_new, train_res))\n",
    "# evaluate on the test set\n",
    "print(\"Test Score:\", model.score(X_test_new, test_res))\n",
    "\n",
    "scores = cross_val_score(model, X_train_new, train_res, cv=5)\n",
    "print(\"Mean cross-validated training score:\", scores.mean())\n",
    "\n",
    "# collect the model coefficients in a dataframe\n",
    "df_coef = pd.DataFrame(model.coef_, index=X_train_new.columns,\n",
    "                       columns=['coefficients'])\n",
    "\n",
    "# calculate the absolute values of the coefficients to gauge influence (show importance of predictor variables)\n",
    "df_coef['coef_abs'] = df_coef.coefficients.abs()\n",
    "df_coef.sort_values(by = 'coef_abs', ascending = False)[:5]"
   ]
  },
  {
   "cell_type": "markdown",
   "metadata": {
    "hidden": true
   },
   "source": [
    "As the previous two models showed, the most important predictors are overall quality and condition of the house, exterior finish and status of the basement. Since all of the models agree on these features it can be assumed that these are important factors in predicting the residuals from the original regression model."
   ]
  },
  {
   "cell_type": "markdown",
   "metadata": {
    "heading_collapsed": true
   },
   "source": [
    "## Conclusion:\n",
    "Lasso performed the best of this second regression model, but all four models had extremely low scores. The most influential coefficients were Overall Condition and Overall Quality, but all of the coefficients were quite low, suggesting that they would not have a large impact on the sale price of the home. I would not trust this model to predict price based on changeable features of a house. Even the greatest coefficient, .03, would suggest that that feature would increase the sales price by just 3%. It would be best for the real estate company to judge sale price based on fixed features of the home, as shown in the model for question 1. The model in question 1 produced much more accurate predictions, and since the coefficients were much larger, those features had much stronger value for the home."
   ]
  },
  {
   "cell_type": "markdown",
   "metadata": {},
   "source": [
    "# 3. What property characteristics predict an \"abnormal\" sale?\n",
    "\n",
    "---\n",
    "\n",
    "The `SaleCondition` feature indicates the circumstances of the house sale. From the data file, we can see that the possibilities are:\n",
    "\n",
    "       Normal\tNormal Sale\n",
    "       Abnorml\tAbnormal Sale -  trade, foreclosure, short sale\n",
    "       AdjLand\tAdjoining Land Purchase\n",
    "       Alloca\tAllocation - two linked properties with separate deeds, typically condo with a garage unit\t\n",
    "       Family\tSale between family members\n",
    "       Partial\tHome was not completed when last assessed (associated with New Homes)\n",
    "       \n",
    "If it is possible to predict which characteristics produce an abnormal sale, the real estate agency could know ahead of time which houses may have an usual sale (short sale, foreclosure, etc...) and may allow them to buy the house for a lower price. \n",
    "\n",
    "---\n",
    "\n",
    "**Goals:**\n",
    "1. Determine which features predict the `Abnorml` category in the `SaleCondition` feature by using a classification analysis.\n",
    "- Justify your results."
   ]
  },
  {
   "cell_type": "markdown",
   "metadata": {
    "heading_collapsed": true
   },
   "source": [
    "## EDA & Feature Engineering"
   ]
  },
  {
   "cell_type": "code",
   "execution_count": 86,
   "metadata": {
    "ExecuteTime": {
     "end_time": "2020-05-31T13:32:59.068455Z",
     "start_time": "2020-05-31T13:32:59.057486Z"
    },
    "hidden": true
   },
   "outputs": [
    {
     "data": {
      "text/plain": [
       "0        Normal\n",
       "1        Normal\n",
       "2        Normal\n",
       "3       Abnorml\n",
       "4        Normal\n",
       "         ...   \n",
       "1455     Normal\n",
       "1456     Normal\n",
       "1457     Normal\n",
       "1458     Normal\n",
       "1459     Normal\n",
       "Name: SaleCondition, Length: 1450, dtype: object"
      ]
     },
     "execution_count": 86,
     "metadata": {},
     "output_type": "execute_result"
    }
   ],
   "source": [
    "house.SaleCondition"
   ]
  },
  {
   "cell_type": "code",
   "execution_count": 87,
   "metadata": {
    "ExecuteTime": {
     "end_time": "2020-05-31T13:32:59.080268Z",
     "start_time": "2020-05-31T13:32:59.073075Z"
    },
    "hidden": true
   },
   "outputs": [
    {
     "name": "stdout",
     "output_type": "stream",
     "text": [
      "YrSold\n"
     ]
    }
   ],
   "source": [
    "f = fixed_dummy.columns\n",
    "c = changeable.columns\n",
    "for x in f:\n",
    "    if x in c:\n",
    "        print(x)"
   ]
  },
  {
   "cell_type": "code",
   "execution_count": 88,
   "metadata": {
    "ExecuteTime": {
     "end_time": "2020-05-31T13:32:59.097830Z",
     "start_time": "2020-05-31T13:32:59.084380Z"
    },
    "hidden": true
   },
   "outputs": [
    {
     "data": {
      "text/plain": [
       "(1450, 178)"
      ]
     },
     "execution_count": 88,
     "metadata": {},
     "output_type": "execute_result"
    }
   ],
   "source": [
    "#join two cleaned data sets (fixed and changeable features)\n",
    "new_fixed = fixed_dummy.drop('YrSold',axis = 1)\n",
    "\n",
    "full_df = pd.concat([new_fixed, changeable], axis = 1)\n",
    "\n",
    "full_df.shape"
   ]
  },
  {
   "cell_type": "code",
   "execution_count": 89,
   "metadata": {
    "ExecuteTime": {
     "end_time": "2020-05-31T13:32:59.109196Z",
     "start_time": "2020-05-31T13:32:59.101812Z"
    },
    "hidden": true
   },
   "outputs": [],
   "source": [
    "#add in columns related to sales that were previously dropped\n",
    "full_df['SalePrice'] = house.SalePrice\n",
    "full_df['SaleType'] = house.SaleType\n",
    "full_df['SaleCondition'] = house.SaleCondition"
   ]
  },
  {
   "cell_type": "code",
   "execution_count": 90,
   "metadata": {
    "ExecuteTime": {
     "end_time": "2020-05-31T13:32:59.136674Z",
     "start_time": "2020-05-31T13:32:59.112933Z"
    },
    "hidden": true
   },
   "outputs": [
    {
     "data": {
      "text/html": [
       "<div>\n",
       "<style scoped>\n",
       "    .dataframe tbody tr th:only-of-type {\n",
       "        vertical-align: middle;\n",
       "    }\n",
       "\n",
       "    .dataframe tbody tr th {\n",
       "        vertical-align: top;\n",
       "    }\n",
       "\n",
       "    .dataframe thead th {\n",
       "        text-align: right;\n",
       "    }\n",
       "</style>\n",
       "<table border=\"1\" class=\"dataframe\">\n",
       "  <thead>\n",
       "    <tr style=\"text-align: right;\">\n",
       "      <th></th>\n",
       "      <th>LotFrontage</th>\n",
       "      <th>LotArea</th>\n",
       "      <th>YearBuilt</th>\n",
       "      <th>YearRemodAdd</th>\n",
       "      <th>TotalBsmtSF</th>\n",
       "      <th>1stFlrSF</th>\n",
       "      <th>2ndFlrSF</th>\n",
       "      <th>GrLivArea</th>\n",
       "      <th>BsmtFullBath</th>\n",
       "      <th>FullBath</th>\n",
       "      <th>...</th>\n",
       "      <th>BsmtFinType1_GLQ</th>\n",
       "      <th>BsmtFinType1_LwQ</th>\n",
       "      <th>BsmtFinType1_NA</th>\n",
       "      <th>BsmtFinType1_Rec</th>\n",
       "      <th>BsmtFinType1_Unf</th>\n",
       "      <th>GarageFinish_NA</th>\n",
       "      <th>GarageFinish_RFn</th>\n",
       "      <th>GarageFinish_Unf</th>\n",
       "      <th>SaleType</th>\n",
       "      <th>SaleCondition</th>\n",
       "    </tr>\n",
       "  </thead>\n",
       "  <tbody>\n",
       "    <tr>\n",
       "      <td>0</td>\n",
       "      <td>65.0</td>\n",
       "      <td>8450</td>\n",
       "      <td>2003</td>\n",
       "      <td>2003</td>\n",
       "      <td>856</td>\n",
       "      <td>856</td>\n",
       "      <td>854</td>\n",
       "      <td>1710</td>\n",
       "      <td>1</td>\n",
       "      <td>2</td>\n",
       "      <td>...</td>\n",
       "      <td>1</td>\n",
       "      <td>0</td>\n",
       "      <td>0</td>\n",
       "      <td>0</td>\n",
       "      <td>0</td>\n",
       "      <td>0</td>\n",
       "      <td>1</td>\n",
       "      <td>0</td>\n",
       "      <td>WD</td>\n",
       "      <td>Normal</td>\n",
       "    </tr>\n",
       "    <tr>\n",
       "      <td>1</td>\n",
       "      <td>80.0</td>\n",
       "      <td>9600</td>\n",
       "      <td>1976</td>\n",
       "      <td>1976</td>\n",
       "      <td>1262</td>\n",
       "      <td>1262</td>\n",
       "      <td>0</td>\n",
       "      <td>1262</td>\n",
       "      <td>0</td>\n",
       "      <td>2</td>\n",
       "      <td>...</td>\n",
       "      <td>0</td>\n",
       "      <td>0</td>\n",
       "      <td>0</td>\n",
       "      <td>0</td>\n",
       "      <td>0</td>\n",
       "      <td>0</td>\n",
       "      <td>1</td>\n",
       "      <td>0</td>\n",
       "      <td>WD</td>\n",
       "      <td>Normal</td>\n",
       "    </tr>\n",
       "    <tr>\n",
       "      <td>2</td>\n",
       "      <td>68.0</td>\n",
       "      <td>11250</td>\n",
       "      <td>2001</td>\n",
       "      <td>2002</td>\n",
       "      <td>920</td>\n",
       "      <td>920</td>\n",
       "      <td>866</td>\n",
       "      <td>1786</td>\n",
       "      <td>1</td>\n",
       "      <td>2</td>\n",
       "      <td>...</td>\n",
       "      <td>1</td>\n",
       "      <td>0</td>\n",
       "      <td>0</td>\n",
       "      <td>0</td>\n",
       "      <td>0</td>\n",
       "      <td>0</td>\n",
       "      <td>1</td>\n",
       "      <td>0</td>\n",
       "      <td>WD</td>\n",
       "      <td>Normal</td>\n",
       "    </tr>\n",
       "    <tr>\n",
       "      <td>3</td>\n",
       "      <td>60.0</td>\n",
       "      <td>9550</td>\n",
       "      <td>1915</td>\n",
       "      <td>1970</td>\n",
       "      <td>756</td>\n",
       "      <td>961</td>\n",
       "      <td>756</td>\n",
       "      <td>1717</td>\n",
       "      <td>1</td>\n",
       "      <td>1</td>\n",
       "      <td>...</td>\n",
       "      <td>0</td>\n",
       "      <td>0</td>\n",
       "      <td>0</td>\n",
       "      <td>0</td>\n",
       "      <td>0</td>\n",
       "      <td>0</td>\n",
       "      <td>0</td>\n",
       "      <td>1</td>\n",
       "      <td>WD</td>\n",
       "      <td>Abnorml</td>\n",
       "    </tr>\n",
       "    <tr>\n",
       "      <td>4</td>\n",
       "      <td>84.0</td>\n",
       "      <td>14260</td>\n",
       "      <td>2000</td>\n",
       "      <td>2000</td>\n",
       "      <td>1145</td>\n",
       "      <td>1145</td>\n",
       "      <td>1053</td>\n",
       "      <td>2198</td>\n",
       "      <td>1</td>\n",
       "      <td>2</td>\n",
       "      <td>...</td>\n",
       "      <td>1</td>\n",
       "      <td>0</td>\n",
       "      <td>0</td>\n",
       "      <td>0</td>\n",
       "      <td>0</td>\n",
       "      <td>0</td>\n",
       "      <td>1</td>\n",
       "      <td>0</td>\n",
       "      <td>WD</td>\n",
       "      <td>Normal</td>\n",
       "    </tr>\n",
       "  </tbody>\n",
       "</table>\n",
       "<p>5 rows × 180 columns</p>\n",
       "</div>"
      ],
      "text/plain": [
       "   LotFrontage  LotArea  YearBuilt  YearRemodAdd  TotalBsmtSF  1stFlrSF  \\\n",
       "0         65.0     8450       2003          2003          856       856   \n",
       "1         80.0     9600       1976          1976         1262      1262   \n",
       "2         68.0    11250       2001          2002          920       920   \n",
       "3         60.0     9550       1915          1970          756       961   \n",
       "4         84.0    14260       2000          2000         1145      1145   \n",
       "\n",
       "   2ndFlrSF  GrLivArea  BsmtFullBath  FullBath  ...  BsmtFinType1_GLQ  \\\n",
       "0       854       1710             1         2  ...                 1   \n",
       "1         0       1262             0         2  ...                 0   \n",
       "2       866       1786             1         2  ...                 1   \n",
       "3       756       1717             1         1  ...                 0   \n",
       "4      1053       2198             1         2  ...                 1   \n",
       "\n",
       "   BsmtFinType1_LwQ  BsmtFinType1_NA  BsmtFinType1_Rec  BsmtFinType1_Unf  \\\n",
       "0                 0                0                 0                 0   \n",
       "1                 0                0                 0                 0   \n",
       "2                 0                0                 0                 0   \n",
       "3                 0                0                 0                 0   \n",
       "4                 0                0                 0                 0   \n",
       "\n",
       "   GarageFinish_NA  GarageFinish_RFn  GarageFinish_Unf  SaleType  \\\n",
       "0                0                 1                 0        WD   \n",
       "1                0                 1                 0        WD   \n",
       "2                0                 1                 0        WD   \n",
       "3                0                 0                 1        WD   \n",
       "4                0                 1                 0        WD   \n",
       "\n",
       "   SaleCondition  \n",
       "0         Normal  \n",
       "1         Normal  \n",
       "2         Normal  \n",
       "3        Abnorml  \n",
       "4         Normal  \n",
       "\n",
       "[5 rows x 180 columns]"
      ]
     },
     "execution_count": 90,
     "metadata": {},
     "output_type": "execute_result"
    }
   ],
   "source": [
    "full_df.head()"
   ]
  },
  {
   "cell_type": "code",
   "execution_count": 91,
   "metadata": {
    "ExecuteTime": {
     "end_time": "2020-05-31T13:32:59.171011Z",
     "start_time": "2020-05-31T13:32:59.140369Z"
    },
    "hidden": true
   },
   "outputs": [
    {
     "data": {
      "text/plain": [
       "WD       1261\n",
       "New       122\n",
       "COD        41\n",
       "ConLD       7\n",
       "ConLI       5\n",
       "ConLw       5\n",
       "CWD         4\n",
       "Oth         3\n",
       "Con         2\n",
       "Name: SaleType, dtype: int64"
      ]
     },
     "execution_count": 91,
     "metadata": {},
     "output_type": "execute_result"
    }
   ],
   "source": [
    "full_df.SaleType.value_counts()"
   ]
  },
  {
   "cell_type": "code",
   "execution_count": 92,
   "metadata": {
    "ExecuteTime": {
     "end_time": "2020-05-31T13:32:59.204790Z",
     "start_time": "2020-05-31T13:32:59.180363Z"
    },
    "hidden": true
   },
   "outputs": [
    {
     "data": {
      "text/plain": [
       "Normal     1194\n",
       "Partial     125\n",
       "Abnorml      96\n",
       "Family       20\n",
       "Alloca       11\n",
       "AdjLand       4\n",
       "Name: SaleCondition, dtype: int64"
      ]
     },
     "execution_count": 92,
     "metadata": {},
     "output_type": "execute_result"
    }
   ],
   "source": [
    "full_df.SaleCondition.value_counts()"
   ]
  },
  {
   "cell_type": "code",
   "execution_count": 93,
   "metadata": {
    "ExecuteTime": {
     "end_time": "2020-05-31T13:32:59.222062Z",
     "start_time": "2020-05-31T13:32:59.210790Z"
    },
    "hidden": true
   },
   "outputs": [
    {
     "data": {
      "text/plain": [
       "0        Normal\n",
       "1        Normal\n",
       "2        Normal\n",
       "3       Abnorml\n",
       "4        Normal\n",
       "         ...   \n",
       "1455     Normal\n",
       "1456     Normal\n",
       "1457     Normal\n",
       "1458     Normal\n",
       "1459     Normal\n",
       "Name: SaleCondition, Length: 1450, dtype: object"
      ]
     },
     "execution_count": 93,
     "metadata": {},
     "output_type": "execute_result"
    }
   ],
   "source": [
    "full_df.SaleCondition"
   ]
  },
  {
   "cell_type": "code",
   "execution_count": 94,
   "metadata": {
    "ExecuteTime": {
     "end_time": "2020-05-31T13:32:59.247775Z",
     "start_time": "2020-05-31T13:32:59.226858Z"
    },
    "hidden": true
   },
   "outputs": [],
   "source": [
    "#dummify new column\n",
    "\n",
    "full_df = pd.get_dummies(full_df, columns = ['SaleType'], drop_first = True)"
   ]
  },
  {
   "cell_type": "code",
   "execution_count": 95,
   "metadata": {
    "ExecuteTime": {
     "end_time": "2020-05-31T13:32:59.268351Z",
     "start_time": "2020-05-31T13:32:59.251171Z"
    },
    "hidden": true
   },
   "outputs": [
    {
     "data": {
      "text/plain": [
       "Normal     0.823448\n",
       "Partial    0.086207\n",
       "Abnorml    0.066207\n",
       "Family     0.013793\n",
       "Alloca     0.007586\n",
       "AdjLand    0.002759\n",
       "Name: SaleCondition, dtype: float64"
      ]
     },
     "execution_count": 95,
     "metadata": {},
     "output_type": "execute_result"
    }
   ],
   "source": [
    "full_df.SaleCondition.value_counts(normalize =True)"
   ]
  },
  {
   "cell_type": "code",
   "execution_count": 96,
   "metadata": {
    "ExecuteTime": {
     "end_time": "2020-05-31T13:32:59.294118Z",
     "start_time": "2020-05-31T13:32:59.277530Z"
    },
    "hidden": true
   },
   "outputs": [],
   "source": [
    "#binarize the y values so it is 1 if it is abnormal and 0 for everything else\n",
    "bin_y = [1 if value=='Abnorml' else 0 for value in full_df.SaleCondition]\n",
    "full_df['y'] = bin_y\n",
    "full_df.drop('SaleCondition', axis = 1, inplace = True)"
   ]
  },
  {
   "cell_type": "code",
   "execution_count": 97,
   "metadata": {
    "ExecuteTime": {
     "end_time": "2020-05-31T13:32:59.310976Z",
     "start_time": "2020-05-31T13:32:59.296963Z"
    },
    "hidden": true
   },
   "outputs": [
    {
     "data": {
      "text/plain": [
       "0    0.933793\n",
       "1    0.066207\n",
       "Name: y, dtype: float64"
      ]
     },
     "execution_count": 97,
     "metadata": {},
     "output_type": "execute_result"
    }
   ],
   "source": [
    "full_df.y.value_counts(normalize = True)\n",
    "#with all of the data the baseline for predicting it is not an abnormal sale is 93%\n",
    "#the data analyzed will need to be altered so that predicting abnormal sales can be more accurate"
   ]
  },
  {
   "cell_type": "markdown",
   "metadata": {
    "heading_collapsed": true
   },
   "source": [
    "## Modelling"
   ]
  },
  {
   "cell_type": "code",
   "execution_count": 121,
   "metadata": {
    "ExecuteTime": {
     "end_time": "2020-05-31T13:42:39.894949Z",
     "start_time": "2020-05-31T13:42:39.877203Z"
    },
    "hidden": true
   },
   "outputs": [],
   "source": [
    "training_data = full_df[full_df.YrSold < 2010]\n",
    "test_data = full_df[full_df.YrSold >= 2010]\n",
    "X_train = training_data\n",
    "y_train = training_data.pop('y')\n",
    "X_test = test_data\n",
    "y_test = test_data.pop('y')"
   ]
  },
  {
   "cell_type": "code",
   "execution_count": 101,
   "metadata": {
    "ExecuteTime": {
     "end_time": "2020-05-31T13:35:08.989578Z",
     "start_time": "2020-05-31T13:35:08.973691Z"
    },
    "hidden": true
   },
   "outputs": [],
   "source": [
    "scaler = StandardScaler()\n",
    "\n",
    "X_train = scaler.fit_transform(X_train)\n",
    "X_test = scaler.transform(X_test)\n",
    "\n",
    "X_train = pd.DataFrame(X_train, columns=training_data.columns)\n",
    "X_test = pd.DataFrame(X_test, columns=training_data.columns)"
   ]
  },
  {
   "cell_type": "markdown",
   "metadata": {
    "hidden": true
   },
   "source": [
    "### Use RandomUnderSampler to undersample majority class"
   ]
  },
  {
   "cell_type": "code",
   "execution_count": 102,
   "metadata": {
    "ExecuteTime": {
     "end_time": "2020-05-31T13:35:12.099451Z",
     "start_time": "2020-05-31T13:35:11.637300Z"
    },
    "hidden": true
   },
   "outputs": [
    {
     "name": "stdout",
     "output_type": "stream",
     "text": [
      "Distribution of class labels before undersampling: Counter({0: 1191, 1: 87})\n",
      "Distribution of class labels after undersampling: Counter({0: 87, 1: 87})\n"
     ]
    }
   ],
   "source": [
    "from imblearn.under_sampling import RandomUnderSampler\n",
    "from collections import Counter\n",
    "from sklearn.model_selection import StratifiedKFold\n",
    "\n",
    "#set sample sizes between abnormal and rest of categories even to prevent huge imbalance\n",
    "undersample = RandomUnderSampler(sampling_strategy='majority', random_state=1)\n",
    "X_train_res, y_train_res = undersample.fit_sample(X_train, y_train)\n",
    "\n",
    "#sizes of classes before and after undersampling\n",
    "print('Distribution of class labels before undersampling: {}'.format(Counter(y_train)))\n",
    "print('Distribution of class labels after undersampling: {}'.format(Counter(y_train_res)))"
   ]
  },
  {
   "cell_type": "markdown",
   "metadata": {
    "heading_collapsed": true,
    "hidden": true
   },
   "source": [
    "### Logistic Regression"
   ]
  },
  {
   "cell_type": "code",
   "execution_count": 107,
   "metadata": {
    "ExecuteTime": {
     "end_time": "2020-05-31T13:37:48.539230Z",
     "start_time": "2020-05-31T13:37:42.797999Z"
    },
    "hidden": true
   },
   "outputs": [
    {
     "name": "stdout",
     "output_type": "stream",
     "text": [
      "Fitting 5 folds for each of 100 candidates, totalling 500 fits\n"
     ]
    },
    {
     "name": "stderr",
     "output_type": "stream",
     "text": [
      "[Parallel(n_jobs=-1)]: Using backend LokyBackend with 4 concurrent workers.\n",
      "[Parallel(n_jobs=-1)]: Done 115 tasks      | elapsed:    4.0s\n",
      "[Parallel(n_jobs=-1)]: Done 493 out of 500 | elapsed:    5.6s remaining:    0.1s\n",
      "[Parallel(n_jobs=-1)]: Done 500 out of 500 | elapsed:    5.7s finished\n"
     ]
    },
    {
     "data": {
      "text/plain": [
       "GridSearchCV(cv=5, error_score=nan,\n",
       "             estimator=LogisticRegression(C=1.0, class_weight='balanced',\n",
       "                                          dual=False, fit_intercept=True,\n",
       "                                          intercept_scaling=1, l1_ratio=None,\n",
       "                                          max_iter=100, multi_class='auto',\n",
       "                                          n_jobs=None, penalty='l2',\n",
       "                                          random_state=None, solver='lbfgs',\n",
       "                                          tol=0.0001, verbose=0,\n",
       "                                          warm_start=False),\n",
       "             iid='deprecated', n_jobs=-1,\n",
       "             param_grid={'C': array([0.001     , 0.001151...\n",
       "       0.03393222, 0.0390694 , 0.04498433, 0.05179475, 0.05963623,\n",
       "       0.06866488, 0.07906043, 0.09102982, 0.10481131, 0.12067926,\n",
       "       0.13894955, 0.15998587, 0.184207  , 0.21209509, 0.24420531,\n",
       "       0.28117687, 0.32374575, 0.37275937, 0.42919343, 0.49417134,\n",
       "       0.5689866 , 0.65512856, 0.75431201, 0.86851137, 1.        ]),\n",
       "                         'penalty': ['l1', 'l2'], 'solver': ['liblinear']},\n",
       "             pre_dispatch='2*n_jobs', refit=True, return_train_score=False,\n",
       "             scoring=None, verbose=1)"
      ]
     },
     "execution_count": 107,
     "metadata": {},
     "output_type": "execute_result"
    }
   ],
   "source": [
    "lr = LogisticRegression(solver='lbfgs', max_iter=100,class_weight = 'balanced')\n",
    "\n",
    "gs_params = {'penalty': ['l1', 'l2'],\n",
    "             'solver': ['liblinear'],\n",
    "             'C': np.logspace(-3, 0, 50)}\n",
    "\n",
    "# create your gridsearch object to find best options\n",
    "lr_gridsearch = GridSearchCV(lr,\n",
    "                             gs_params,\n",
    "                             n_jobs=-1, \n",
    "                             cv=5, \n",
    "                             verbose=1)\n",
    "lr_gridsearch.fit(X_train_res, y_train_res)"
   ]
  },
  {
   "cell_type": "code",
   "execution_count": 108,
   "metadata": {
    "ExecuteTime": {
     "end_time": "2020-05-31T13:37:48.551137Z",
     "start_time": "2020-05-31T13:37:48.544561Z"
    },
    "hidden": true
   },
   "outputs": [
    {
     "name": "stdout",
     "output_type": "stream",
     "text": [
      "0.6381512605042017\n",
      "{'C': 0.05963623316594643, 'penalty': 'l2', 'solver': 'liblinear'}\n"
     ]
    }
   ],
   "source": [
    "print(lr_gridsearch.best_score_)\n",
    "print(lr_gridsearch.best_params_)"
   ]
  },
  {
   "cell_type": "code",
   "execution_count": 109,
   "metadata": {
    "ExecuteTime": {
     "end_time": "2020-05-31T13:37:48.561930Z",
     "start_time": "2020-05-31T13:37:48.556126Z"
    },
    "hidden": true
   },
   "outputs": [],
   "source": [
    "best_lr = lr_gridsearch.best_estimator_\n",
    "#this saves the best model created from best parameters as a new variable"
   ]
  },
  {
   "cell_type": "code",
   "execution_count": 110,
   "metadata": {
    "ExecuteTime": {
     "end_time": "2020-05-31T13:37:48.579514Z",
     "start_time": "2020-05-31T13:37:48.568064Z"
    },
    "hidden": true
   },
   "outputs": [],
   "source": [
    "# create a dataframe to look at the coefficients\n",
    "coef_df = pd.DataFrame({'feature': X_train_res.columns,\n",
    "                        'coef': best_lr.coef_[0],\n",
    "                        'abs_coef': np.abs(best_lr.coef_[0])})\n"
   ]
  },
  {
   "cell_type": "code",
   "execution_count": 111,
   "metadata": {
    "ExecuteTime": {
     "end_time": "2020-05-31T13:37:50.298610Z",
     "start_time": "2020-05-31T13:37:50.279086Z"
    },
    "hidden": true
   },
   "outputs": [
    {
     "data": {
      "text/html": [
       "<div>\n",
       "<style scoped>\n",
       "    .dataframe tbody tr th:only-of-type {\n",
       "        vertical-align: middle;\n",
       "    }\n",
       "\n",
       "    .dataframe tbody tr th {\n",
       "        vertical-align: top;\n",
       "    }\n",
       "\n",
       "    .dataframe thead th {\n",
       "        text-align: right;\n",
       "    }\n",
       "</style>\n",
       "<table border=\"1\" class=\"dataframe\">\n",
       "  <thead>\n",
       "    <tr style=\"text-align: right;\">\n",
       "      <th></th>\n",
       "      <th>feature</th>\n",
       "      <th>coef</th>\n",
       "      <th>abs_coef</th>\n",
       "    </tr>\n",
       "  </thead>\n",
       "  <tbody>\n",
       "    <tr>\n",
       "      <td>185</td>\n",
       "      <td>SaleType_WD</td>\n",
       "      <td>-0.348155</td>\n",
       "      <td>0.348155</td>\n",
       "    </tr>\n",
       "    <tr>\n",
       "      <td>63</td>\n",
       "      <td>Neighborhood_NoRidge</td>\n",
       "      <td>0.329177</td>\n",
       "      <td>0.329177</td>\n",
       "    </tr>\n",
       "    <tr>\n",
       "      <td>3</td>\n",
       "      <td>YearRemodAdd</td>\n",
       "      <td>-0.297781</td>\n",
       "      <td>0.297781</td>\n",
       "    </tr>\n",
       "    <tr>\n",
       "      <td>183</td>\n",
       "      <td>SaleType_New</td>\n",
       "      <td>-0.294645</td>\n",
       "      <td>0.294645</td>\n",
       "    </tr>\n",
       "    <tr>\n",
       "      <td>28</td>\n",
       "      <td>MSSubClass_80</td>\n",
       "      <td>0.246399</td>\n",
       "      <td>0.246399</td>\n",
       "    </tr>\n",
       "    <tr>\n",
       "      <td>23</td>\n",
       "      <td>MSSubClass_45</td>\n",
       "      <td>-0.215487</td>\n",
       "      <td>0.215487</td>\n",
       "    </tr>\n",
       "    <tr>\n",
       "      <td>115</td>\n",
       "      <td>MoSold_6</td>\n",
       "      <td>-0.213600</td>\n",
       "      <td>0.213600</td>\n",
       "    </tr>\n",
       "    <tr>\n",
       "      <td>55</td>\n",
       "      <td>Neighborhood_Edwards</td>\n",
       "      <td>-0.209266</td>\n",
       "      <td>0.209266</td>\n",
       "    </tr>\n",
       "    <tr>\n",
       "      <td>136</td>\n",
       "      <td>Exterior1st_CemntBd</td>\n",
       "      <td>-0.199048</td>\n",
       "      <td>0.199048</td>\n",
       "    </tr>\n",
       "    <tr>\n",
       "      <td>125</td>\n",
       "      <td>BsmtUnfSF</td>\n",
       "      <td>-0.197796</td>\n",
       "      <td>0.197796</td>\n",
       "    </tr>\n",
       "  </tbody>\n",
       "</table>\n",
       "</div>"
      ],
      "text/plain": [
       "                  feature      coef  abs_coef\n",
       "185           SaleType_WD -0.348155  0.348155\n",
       "63   Neighborhood_NoRidge  0.329177  0.329177\n",
       "3            YearRemodAdd -0.297781  0.297781\n",
       "183          SaleType_New -0.294645  0.294645\n",
       "28          MSSubClass_80  0.246399  0.246399\n",
       "23          MSSubClass_45 -0.215487  0.215487\n",
       "115              MoSold_6 -0.213600  0.213600\n",
       "55   Neighborhood_Edwards -0.209266  0.209266\n",
       "136   Exterior1st_CemntBd -0.199048  0.199048\n",
       "125             BsmtUnfSF -0.197796  0.197796"
      ]
     },
     "execution_count": 111,
     "metadata": {},
     "output_type": "execute_result"
    }
   ],
   "source": [
    "# sort by absolute value of coefficient (magnitude)\n",
    "coef_df.sort_values('abs_coef', ascending=False, inplace=True)\n",
    "coef_df.head(10)"
   ]
  },
  {
   "cell_type": "code",
   "execution_count": 116,
   "metadata": {
    "ExecuteTime": {
     "end_time": "2020-05-31T13:40:55.760940Z",
     "start_time": "2020-05-31T13:40:55.754927Z"
    },
    "hidden": true
   },
   "outputs": [],
   "source": [
    "coef_df.set_index('feature', inplace = True)"
   ]
  },
  {
   "cell_type": "code",
   "execution_count": 117,
   "metadata": {
    "ExecuteTime": {
     "end_time": "2020-05-31T13:40:56.681086Z",
     "start_time": "2020-05-31T13:40:56.404132Z"
    },
    "hidden": true
   },
   "outputs": [
    {
     "data": {
      "image/png": "[encoded data removed]",
      "text/plain": [
       "<Figure size 432x288 with 1 Axes>"
      ]
     },
     "metadata": {
      "image/png": {
       "height": 248,
       "width": 490
      },
      "needs_background": "light"
     },
     "output_type": "display_data"
    }
   ],
   "source": [
    "coef_df['coef'].sort_values(ascending = False).head(5).plot(kind='barh');"
   ]
  },
  {
   "cell_type": "code",
   "execution_count": 118,
   "metadata": {
    "ExecuteTime": {
     "end_time": "2020-05-31T13:41:18.543486Z",
     "start_time": "2020-05-31T13:41:18.262375Z"
    },
    "hidden": true
   },
   "outputs": [
    {
     "data": {
      "image/png": "[encoded data removed]",
      "text/plain": [
       "<Figure size 432x288 with 1 Axes>"
      ]
     },
     "metadata": {
      "image/png": {
       "height": 248,
       "width": 461
      },
      "needs_background": "light"
     },
     "output_type": "display_data"
    }
   ],
   "source": [
    "coef_df['coef'].sort_values(ascending = True).head(5).plot(kind='barh');"
   ]
  },
  {
   "cell_type": "markdown",
   "metadata": {},
   "source": [
    "## Conclusion:\n",
    "The model score is roughly .64 so it is not perfect at predicting, but is potentially more accurate than using the original data which would guess a normal sale since the majority of the data was in that category. By undersampling the data, the model is now able to guess both categories more effectively. \n",
    "\n",
    "It is more likely for a home to have an abnormal sale if it is not a Warranty Deed - Conventional Sale type, if it is in Northridge neighborhood, if it has not had a remodel done recently, and if it is not a new construction home being sold. This means that an abnormal sale is most likely to be influenced by the type of sale of the home and the location it is in. Since it would not be possible to know what type of sale a house would have before predicting if the sale is abnormal or not, the most accurate predictors would be the home's location, when it was remodeled, and when when the sale is taking place. \n",
    "\n",
    "This model is perhaps not the most reliable, and further research should be done by the real estate company before spending lots of money on a property. However this does provide a good framework on what the company can look out for.\n"
   ]
  },
  {
   "cell_type": "code",
   "execution_count": null,
   "metadata": {},
   "outputs": [],
   "source": []
  }
 ],
 "metadata": {
  "hide_input": false,
  "kernelspec": {
   "display_name": "Python 3",
   "language": "python",
   "name": "python3"
  },
  "language_info": {
   "codemirror_mode": {
    "name": "ipython",
    "version": 3
   },
   "file_extension": ".py",
   "mimetype": "text/x-python",
   "name": "python",
   "nbconvert_exporter": "python",
   "pygments_lexer": "ipython3",
   "version": "3.7.4"
  },
  "toc": {
   "base_numbering": 1,
   "nav_menu": {},
   "number_sections": false,
   "sideBar": true,
   "skip_h1_title": true,
   "title_cell": "Table of Contents",
   "title_sidebar": "Contents",
   "toc_cell": false,
   "toc_position": {},
   "toc_section_display": "block",
   "toc_window_display": false
  }
 },
 "nbformat": 4,
 "nbformat_minor": 2
}
